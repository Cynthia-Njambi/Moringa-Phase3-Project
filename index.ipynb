{
 "cells": [
  {
   "cell_type": "markdown",
   "metadata": {},
   "source": [
    "# 1. Business Understanding"
   ]
  },
  {
   "cell_type": "markdown",
   "metadata": {},
   "source": [
    "#### 1.1. Project Overview\n",
    "\n",
    "Tanzania is a country with a population of 57 million. It faces significant challenges in providing clean and reliable water to its population.\n",
    "The country has established numerous water points to meet this need but many of these water points are not fully functional, with some requiring repairs and others have failed entirely.\n",
    "This project aims to predict the functionality of these water pumps, distingishing between those that are fully functional, those that need repairs and those that do not work at all"
   ]
  },
  {
   "cell_type": "markdown",
   "metadata": {},
   "source": [
    "#### 2.1. Objective\n",
    "The primary objective is to develop a predictive model that can accurately classify the operational status of water pumps into one of three categories:\n",
    "- Functional: The water pump is fully operational and provides clean water.\n",
    "- Needs repair: The water pump is operational but requires some maintenance or repair to ensure optimal performance.\n",
    "- Non-Functional: The water pump has failed and is not providing water."
   ]
  }
 ],
 "metadata": {
  "kernelspec": {
   "display_name": "learn-env",
   "language": "python",
   "name": "python3"
  },
  "language_info": {
   "codemirror_mode": {
    "name": "ipython",
    "version": 3
   },
   "file_extension": ".py",
   "mimetype": "text/x-python",
   "name": "python",
   "nbconvert_exporter": "python",
   "pygments_lexer": "ipython3",
   "version": "3.8.5"
  }
 },
 "nbformat": 4,
 "nbformat_minor": 2
}
