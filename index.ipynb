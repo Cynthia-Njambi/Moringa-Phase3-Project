{
 "cells": [
  {
   "cell_type": "markdown",
   "metadata": {},
   "source": [
    "# 1. Business Understanding"
   ]
  },
  {
   "cell_type": "markdown",
   "metadata": {},
   "source": [
    "#### 1.1. Project Overview\n",
    "\n",
    "Tanzania is a country with a population of 57 million. It faces significant challenges in providing clean and reliable water to its population.\n",
    "The country has established numerous water points to meet this need but many of these water points are not fully functional, with some requiring repairs and others have failed entirely.\n",
    "This project aims to predict the functionality of these water pumps, distingishing between those that are fully functional, those that need repairs and those that do not work at all"
   ]
  },
  {
   "cell_type": "markdown",
   "metadata": {},
   "source": [
    "#### 2.1. Objective\n",
    "The primary objective is to develop a predictive model that can accurately classify the operational status of water pumps into one of three categories:\n",
    "- Functional: The water pump is fully operational and provides clean water.\n",
    "- Needs repair: The water pump is operational but requires some maintenance or repair to ensure optimal performance.\n",
    "- Non-Functional: The water pump has failed and is not providing water."
   ]
  },
  {
   "cell_type": "markdown",
   "metadata": {},
   "source": [
    "#### 3.1. Stakeholders\n",
    "- Non-Governmental Organizations(NGOs): Various NGOs involved in providing support for wells needing repairs in Tanzania\n",
    "- Government of Tanzania throught the Tanzanian Ministry of Water: The government is looking to find patterns in non-functional wells to influence how new wells are built"
   ]
  },
  {
   "cell_type": "markdown",
   "metadata": {},
   "source": [
    "#### 4.1. Key Questions\n",
    "1. What are the critical factors influencing the functionality of water pumps in Tanzania?\n",
    "2. How can we use historical data to predict the current operational status of a water pump?\n",
    "3. What are the cost implications of accurately predicting pump functionality?\n",
    "4. How can this model be intergrated into existing maintenance workflows to maximize its impact?\n"
   ]
  },
  {
   "cell_type": "markdown",
   "metadata": {},
   "source": [
    "# 2. Data Understanding"
   ]
  },
  {
   "cell_type": "markdown",
   "metadata": {},
   "source": [
    "#### Import the necessary python packages"
   ]
  },
  {
   "cell_type": "code",
   "execution_count": 19,
   "metadata": {},
   "outputs": [
    {
     "ename": "ModuleNotFoundError",
     "evalue": "No module named 'missingno'",
     "output_type": "error",
     "traceback": [
      "\u001b[1;31m---------------------------------------------------------------------------\u001b[0m",
      "\u001b[1;31mModuleNotFoundError\u001b[0m                       Traceback (most recent call last)",
      "\u001b[1;32m<ipython-input-19-f8c7b1b87947>\u001b[0m in \u001b[0;36m<module>\u001b[1;34m\u001b[0m\n\u001b[0;32m      2\u001b[0m \u001b[1;32mimport\u001b[0m \u001b[0mmatplotlib\u001b[0m\u001b[1;33m.\u001b[0m\u001b[0mpyplot\u001b[0m \u001b[1;32mas\u001b[0m \u001b[0mplt\u001b[0m\u001b[1;33m\u001b[0m\u001b[1;33m\u001b[0m\u001b[0m\n\u001b[0;32m      3\u001b[0m \u001b[1;32mimport\u001b[0m \u001b[0mseaborn\u001b[0m \u001b[1;32mas\u001b[0m \u001b[0msns\u001b[0m\u001b[1;33m\u001b[0m\u001b[1;33m\u001b[0m\u001b[0m\n\u001b[1;32m----> 4\u001b[1;33m \u001b[1;32mimport\u001b[0m \u001b[0mmissingno\u001b[0m \u001b[1;32mas\u001b[0m \u001b[0mmsno\u001b[0m\u001b[1;33m\u001b[0m\u001b[1;33m\u001b[0m\u001b[0m\n\u001b[0m\u001b[0;32m      5\u001b[0m \u001b[1;31m# import seaborn as sns\u001b[0m\u001b[1;33m\u001b[0m\u001b[1;33m\u001b[0m\u001b[1;33m\u001b[0m\u001b[0m\n\u001b[0;32m      6\u001b[0m \u001b[1;31m# import matplotlib.pyplot as plt\u001b[0m\u001b[1;33m\u001b[0m\u001b[1;33m\u001b[0m\u001b[1;33m\u001b[0m\u001b[0m\n",
      "\u001b[1;31mModuleNotFoundError\u001b[0m: No module named 'missingno'"
     ]
    }
   ],
   "source": [
    "import pandas as pd\n",
    "import matplotlib.pyplot as plt\n",
    "import seaborn as sns\n",
    "# import seaborn as sns\n",
    "# import matplotlib.pyplot as plt\n",
    "# from sklearn.impute import SimpleImputer\n",
    "# import numpy as np\n",
    "# from scipy.stats import zscore"
   ]
  },
  {
   "cell_type": "markdown",
   "metadata": {},
   "source": [
    "#### Loading the Data"
   ]
  },
  {
   "cell_type": "code",
   "execution_count": 13,
   "metadata": {},
   "outputs": [
    {
     "name": "stdout",
     "output_type": "stream",
     "text": [
      "Train Values:\n"
     ]
    },
    {
     "data": {
      "text/html": [
       "<div>\n",
       "<style scoped>\n",
       "    .dataframe tbody tr th:only-of-type {\n",
       "        vertical-align: middle;\n",
       "    }\n",
       "\n",
       "    .dataframe tbody tr th {\n",
       "        vertical-align: top;\n",
       "    }\n",
       "\n",
       "    .dataframe thead th {\n",
       "        text-align: right;\n",
       "    }\n",
       "</style>\n",
       "<table border=\"1\" class=\"dataframe\">\n",
       "  <thead>\n",
       "    <tr style=\"text-align: right;\">\n",
       "      <th></th>\n",
       "      <th>id</th>\n",
       "      <th>amount_tsh</th>\n",
       "      <th>date_recorded</th>\n",
       "      <th>funder</th>\n",
       "      <th>gps_height</th>\n",
       "      <th>installer</th>\n",
       "      <th>longitude</th>\n",
       "      <th>latitude</th>\n",
       "      <th>wpt_name</th>\n",
       "      <th>num_private</th>\n",
       "      <th>...</th>\n",
       "      <th>payment_type</th>\n",
       "      <th>water_quality</th>\n",
       "      <th>quality_group</th>\n",
       "      <th>quantity</th>\n",
       "      <th>quantity_group</th>\n",
       "      <th>source</th>\n",
       "      <th>source_type</th>\n",
       "      <th>source_class</th>\n",
       "      <th>waterpoint_type</th>\n",
       "      <th>waterpoint_type_group</th>\n",
       "    </tr>\n",
       "  </thead>\n",
       "  <tbody>\n",
       "    <tr>\n",
       "      <th>0</th>\n",
       "      <td>69572</td>\n",
       "      <td>6000.0</td>\n",
       "      <td>2011-03-14</td>\n",
       "      <td>Roman</td>\n",
       "      <td>1390</td>\n",
       "      <td>Roman</td>\n",
       "      <td>34.938093</td>\n",
       "      <td>-9.856322</td>\n",
       "      <td>none</td>\n",
       "      <td>0</td>\n",
       "      <td>...</td>\n",
       "      <td>annually</td>\n",
       "      <td>soft</td>\n",
       "      <td>good</td>\n",
       "      <td>enough</td>\n",
       "      <td>enough</td>\n",
       "      <td>spring</td>\n",
       "      <td>spring</td>\n",
       "      <td>groundwater</td>\n",
       "      <td>communal standpipe</td>\n",
       "      <td>communal standpipe</td>\n",
       "    </tr>\n",
       "    <tr>\n",
       "      <th>1</th>\n",
       "      <td>8776</td>\n",
       "      <td>0.0</td>\n",
       "      <td>2013-03-06</td>\n",
       "      <td>Grumeti</td>\n",
       "      <td>1399</td>\n",
       "      <td>GRUMETI</td>\n",
       "      <td>34.698766</td>\n",
       "      <td>-2.147466</td>\n",
       "      <td>Zahanati</td>\n",
       "      <td>0</td>\n",
       "      <td>...</td>\n",
       "      <td>never pay</td>\n",
       "      <td>soft</td>\n",
       "      <td>good</td>\n",
       "      <td>insufficient</td>\n",
       "      <td>insufficient</td>\n",
       "      <td>rainwater harvesting</td>\n",
       "      <td>rainwater harvesting</td>\n",
       "      <td>surface</td>\n",
       "      <td>communal standpipe</td>\n",
       "      <td>communal standpipe</td>\n",
       "    </tr>\n",
       "    <tr>\n",
       "      <th>2</th>\n",
       "      <td>34310</td>\n",
       "      <td>25.0</td>\n",
       "      <td>2013-02-25</td>\n",
       "      <td>Lottery Club</td>\n",
       "      <td>686</td>\n",
       "      <td>World vision</td>\n",
       "      <td>37.460664</td>\n",
       "      <td>-3.821329</td>\n",
       "      <td>Kwa Mahundi</td>\n",
       "      <td>0</td>\n",
       "      <td>...</td>\n",
       "      <td>per bucket</td>\n",
       "      <td>soft</td>\n",
       "      <td>good</td>\n",
       "      <td>enough</td>\n",
       "      <td>enough</td>\n",
       "      <td>dam</td>\n",
       "      <td>dam</td>\n",
       "      <td>surface</td>\n",
       "      <td>communal standpipe multiple</td>\n",
       "      <td>communal standpipe</td>\n",
       "    </tr>\n",
       "    <tr>\n",
       "      <th>3</th>\n",
       "      <td>67743</td>\n",
       "      <td>0.0</td>\n",
       "      <td>2013-01-28</td>\n",
       "      <td>Unicef</td>\n",
       "      <td>263</td>\n",
       "      <td>UNICEF</td>\n",
       "      <td>38.486161</td>\n",
       "      <td>-11.155298</td>\n",
       "      <td>Zahanati Ya Nanyumbu</td>\n",
       "      <td>0</td>\n",
       "      <td>...</td>\n",
       "      <td>never pay</td>\n",
       "      <td>soft</td>\n",
       "      <td>good</td>\n",
       "      <td>dry</td>\n",
       "      <td>dry</td>\n",
       "      <td>machine dbh</td>\n",
       "      <td>borehole</td>\n",
       "      <td>groundwater</td>\n",
       "      <td>communal standpipe multiple</td>\n",
       "      <td>communal standpipe</td>\n",
       "    </tr>\n",
       "    <tr>\n",
       "      <th>4</th>\n",
       "      <td>19728</td>\n",
       "      <td>0.0</td>\n",
       "      <td>2011-07-13</td>\n",
       "      <td>Action In A</td>\n",
       "      <td>0</td>\n",
       "      <td>Artisan</td>\n",
       "      <td>31.130847</td>\n",
       "      <td>-1.825359</td>\n",
       "      <td>Shuleni</td>\n",
       "      <td>0</td>\n",
       "      <td>...</td>\n",
       "      <td>never pay</td>\n",
       "      <td>soft</td>\n",
       "      <td>good</td>\n",
       "      <td>seasonal</td>\n",
       "      <td>seasonal</td>\n",
       "      <td>rainwater harvesting</td>\n",
       "      <td>rainwater harvesting</td>\n",
       "      <td>surface</td>\n",
       "      <td>communal standpipe</td>\n",
       "      <td>communal standpipe</td>\n",
       "    </tr>\n",
       "  </tbody>\n",
       "</table>\n",
       "<p>5 rows × 40 columns</p>\n",
       "</div>"
      ],
      "text/plain": [
       "      id  amount_tsh date_recorded        funder  gps_height     installer  \\\n",
       "0  69572      6000.0    2011-03-14         Roman        1390         Roman   \n",
       "1   8776         0.0    2013-03-06       Grumeti        1399       GRUMETI   \n",
       "2  34310        25.0    2013-02-25  Lottery Club         686  World vision   \n",
       "3  67743         0.0    2013-01-28        Unicef         263        UNICEF   \n",
       "4  19728         0.0    2011-07-13   Action In A           0       Artisan   \n",
       "\n",
       "   longitude   latitude              wpt_name  num_private  ... payment_type  \\\n",
       "0  34.938093  -9.856322                  none            0  ...     annually   \n",
       "1  34.698766  -2.147466              Zahanati            0  ...    never pay   \n",
       "2  37.460664  -3.821329           Kwa Mahundi            0  ...   per bucket   \n",
       "3  38.486161 -11.155298  Zahanati Ya Nanyumbu            0  ...    never pay   \n",
       "4  31.130847  -1.825359               Shuleni            0  ...    never pay   \n",
       "\n",
       "  water_quality quality_group      quantity  quantity_group  \\\n",
       "0          soft          good        enough          enough   \n",
       "1          soft          good  insufficient    insufficient   \n",
       "2          soft          good        enough          enough   \n",
       "3          soft          good           dry             dry   \n",
       "4          soft          good      seasonal        seasonal   \n",
       "\n",
       "                 source           source_type  source_class  \\\n",
       "0                spring                spring   groundwater   \n",
       "1  rainwater harvesting  rainwater harvesting       surface   \n",
       "2                   dam                   dam       surface   \n",
       "3           machine dbh              borehole   groundwater   \n",
       "4  rainwater harvesting  rainwater harvesting       surface   \n",
       "\n",
       "               waterpoint_type waterpoint_type_group  \n",
       "0           communal standpipe    communal standpipe  \n",
       "1           communal standpipe    communal standpipe  \n",
       "2  communal standpipe multiple    communal standpipe  \n",
       "3  communal standpipe multiple    communal standpipe  \n",
       "4           communal standpipe    communal standpipe  \n",
       "\n",
       "[5 rows x 40 columns]"
      ]
     },
     "metadata": {},
     "output_type": "display_data"
    },
    {
     "name": "stdout",
     "output_type": "stream",
     "text": [
      "\n",
      "Train Labels:\n"
     ]
    },
    {
     "data": {
      "text/html": [
       "<div>\n",
       "<style scoped>\n",
       "    .dataframe tbody tr th:only-of-type {\n",
       "        vertical-align: middle;\n",
       "    }\n",
       "\n",
       "    .dataframe tbody tr th {\n",
       "        vertical-align: top;\n",
       "    }\n",
       "\n",
       "    .dataframe thead th {\n",
       "        text-align: right;\n",
       "    }\n",
       "</style>\n",
       "<table border=\"1\" class=\"dataframe\">\n",
       "  <thead>\n",
       "    <tr style=\"text-align: right;\">\n",
       "      <th></th>\n",
       "      <th>id</th>\n",
       "      <th>status_group</th>\n",
       "    </tr>\n",
       "  </thead>\n",
       "  <tbody>\n",
       "    <tr>\n",
       "      <th>0</th>\n",
       "      <td>69572</td>\n",
       "      <td>functional</td>\n",
       "    </tr>\n",
       "    <tr>\n",
       "      <th>1</th>\n",
       "      <td>8776</td>\n",
       "      <td>functional</td>\n",
       "    </tr>\n",
       "    <tr>\n",
       "      <th>2</th>\n",
       "      <td>34310</td>\n",
       "      <td>functional</td>\n",
       "    </tr>\n",
       "    <tr>\n",
       "      <th>3</th>\n",
       "      <td>67743</td>\n",
       "      <td>non functional</td>\n",
       "    </tr>\n",
       "    <tr>\n",
       "      <th>4</th>\n",
       "      <td>19728</td>\n",
       "      <td>functional</td>\n",
       "    </tr>\n",
       "  </tbody>\n",
       "</table>\n",
       "</div>"
      ],
      "text/plain": [
       "      id    status_group\n",
       "0  69572      functional\n",
       "1   8776      functional\n",
       "2  34310      functional\n",
       "3  67743  non functional\n",
       "4  19728      functional"
      ]
     },
     "metadata": {},
     "output_type": "display_data"
    },
    {
     "name": "stdout",
     "output_type": "stream",
     "text": [
      "\n",
      "Shape of Train Values: (59400, 40)\n",
      "Shape of Train Labels: (59400, 2)\n"
     ]
    }
   ],
   "source": [
    "# Viewing the first five rows of the dataset\n",
    "\n",
    "# Load data\n",
    "train_values = pd.read_csv('Data/Training-set-values.csv')\n",
    "train_labels = pd.read_csv('Data/Training-set-labels.csv')\n",
    "\n",
    "# Display the first few rows of the train-values dataset\n",
    "print(\"Train Values:\")\n",
    "display(train_values.head())\n",
    "\n",
    "# Display the first few rows of the train-labels dataset\n",
    "print(\"\\nTrain Labels:\")\n",
    "display(train_labels.head())\n",
    "\n",
    "# Check the shape of the datasets\n",
    "print(\"\\nShape of Train Values:\", train_values.shape)\n",
    "print(\"Shape of Train Labels:\", train_labels.shape)"
   ]
  },
  {
   "cell_type": "markdown",
   "metadata": {},
   "source": [
    ">  **Key Insights:**\n",
    "> - Based on the above, I can confirm that we have a large dataset with 59,400 water points, which is good for training a predictive model.\n",
    ">- The datatset includes various types of features, such as numerical, categorical and geographical\n",
    ">- I have also identified that `status_group` is my primary target variable\n"
   ]
  },
  {
   "cell_type": "markdown",
   "metadata": {},
   "source": [
    "#### Inspecting the Loaded Data"
   ]
  },
  {
   "cell_type": "code",
   "execution_count": 14,
   "metadata": {},
   "outputs": [
    {
     "name": "stdout",
     "output_type": "stream",
     "text": [
      "Summary Statistics for Numerical Features:\n"
     ]
    },
    {
     "data": {
      "text/html": [
       "<div>\n",
       "<style scoped>\n",
       "    .dataframe tbody tr th:only-of-type {\n",
       "        vertical-align: middle;\n",
       "    }\n",
       "\n",
       "    .dataframe tbody tr th {\n",
       "        vertical-align: top;\n",
       "    }\n",
       "\n",
       "    .dataframe thead th {\n",
       "        text-align: right;\n",
       "    }\n",
       "</style>\n",
       "<table border=\"1\" class=\"dataframe\">\n",
       "  <thead>\n",
       "    <tr style=\"text-align: right;\">\n",
       "      <th></th>\n",
       "      <th>id</th>\n",
       "      <th>amount_tsh</th>\n",
       "      <th>gps_height</th>\n",
       "      <th>longitude</th>\n",
       "      <th>latitude</th>\n",
       "      <th>num_private</th>\n",
       "      <th>region_code</th>\n",
       "      <th>district_code</th>\n",
       "      <th>population</th>\n",
       "      <th>construction_year</th>\n",
       "    </tr>\n",
       "  </thead>\n",
       "  <tbody>\n",
       "    <tr>\n",
       "      <th>count</th>\n",
       "      <td>59400.000000</td>\n",
       "      <td>59400.000000</td>\n",
       "      <td>59400.000000</td>\n",
       "      <td>59400.000000</td>\n",
       "      <td>5.940000e+04</td>\n",
       "      <td>59400.000000</td>\n",
       "      <td>59400.000000</td>\n",
       "      <td>59400.000000</td>\n",
       "      <td>59400.000000</td>\n",
       "      <td>59400.000000</td>\n",
       "    </tr>\n",
       "    <tr>\n",
       "      <th>mean</th>\n",
       "      <td>37115.131768</td>\n",
       "      <td>317.650385</td>\n",
       "      <td>668.297239</td>\n",
       "      <td>34.077427</td>\n",
       "      <td>-5.706033e+00</td>\n",
       "      <td>0.474141</td>\n",
       "      <td>15.297003</td>\n",
       "      <td>5.629747</td>\n",
       "      <td>179.909983</td>\n",
       "      <td>1300.652475</td>\n",
       "    </tr>\n",
       "    <tr>\n",
       "      <th>std</th>\n",
       "      <td>21453.128371</td>\n",
       "      <td>2997.574558</td>\n",
       "      <td>693.116350</td>\n",
       "      <td>6.567432</td>\n",
       "      <td>2.946019e+00</td>\n",
       "      <td>12.236230</td>\n",
       "      <td>17.587406</td>\n",
       "      <td>9.633649</td>\n",
       "      <td>471.482176</td>\n",
       "      <td>951.620547</td>\n",
       "    </tr>\n",
       "    <tr>\n",
       "      <th>min</th>\n",
       "      <td>0.000000</td>\n",
       "      <td>0.000000</td>\n",
       "      <td>-90.000000</td>\n",
       "      <td>0.000000</td>\n",
       "      <td>-1.164944e+01</td>\n",
       "      <td>0.000000</td>\n",
       "      <td>1.000000</td>\n",
       "      <td>0.000000</td>\n",
       "      <td>0.000000</td>\n",
       "      <td>0.000000</td>\n",
       "    </tr>\n",
       "    <tr>\n",
       "      <th>25%</th>\n",
       "      <td>18519.750000</td>\n",
       "      <td>0.000000</td>\n",
       "      <td>0.000000</td>\n",
       "      <td>33.090347</td>\n",
       "      <td>-8.540621e+00</td>\n",
       "      <td>0.000000</td>\n",
       "      <td>5.000000</td>\n",
       "      <td>2.000000</td>\n",
       "      <td>0.000000</td>\n",
       "      <td>0.000000</td>\n",
       "    </tr>\n",
       "    <tr>\n",
       "      <th>50%</th>\n",
       "      <td>37061.500000</td>\n",
       "      <td>0.000000</td>\n",
       "      <td>369.000000</td>\n",
       "      <td>34.908743</td>\n",
       "      <td>-5.021597e+00</td>\n",
       "      <td>0.000000</td>\n",
       "      <td>12.000000</td>\n",
       "      <td>3.000000</td>\n",
       "      <td>25.000000</td>\n",
       "      <td>1986.000000</td>\n",
       "    </tr>\n",
       "    <tr>\n",
       "      <th>75%</th>\n",
       "      <td>55656.500000</td>\n",
       "      <td>20.000000</td>\n",
       "      <td>1319.250000</td>\n",
       "      <td>37.178387</td>\n",
       "      <td>-3.326156e+00</td>\n",
       "      <td>0.000000</td>\n",
       "      <td>17.000000</td>\n",
       "      <td>5.000000</td>\n",
       "      <td>215.000000</td>\n",
       "      <td>2004.000000</td>\n",
       "    </tr>\n",
       "    <tr>\n",
       "      <th>max</th>\n",
       "      <td>74247.000000</td>\n",
       "      <td>350000.000000</td>\n",
       "      <td>2770.000000</td>\n",
       "      <td>40.345193</td>\n",
       "      <td>-2.000000e-08</td>\n",
       "      <td>1776.000000</td>\n",
       "      <td>99.000000</td>\n",
       "      <td>80.000000</td>\n",
       "      <td>30500.000000</td>\n",
       "      <td>2013.000000</td>\n",
       "    </tr>\n",
       "  </tbody>\n",
       "</table>\n",
       "</div>"
      ],
      "text/plain": [
       "                 id     amount_tsh    gps_height     longitude      latitude  \\\n",
       "count  59400.000000   59400.000000  59400.000000  59400.000000  5.940000e+04   \n",
       "mean   37115.131768     317.650385    668.297239     34.077427 -5.706033e+00   \n",
       "std    21453.128371    2997.574558    693.116350      6.567432  2.946019e+00   \n",
       "min        0.000000       0.000000    -90.000000      0.000000 -1.164944e+01   \n",
       "25%    18519.750000       0.000000      0.000000     33.090347 -8.540621e+00   \n",
       "50%    37061.500000       0.000000    369.000000     34.908743 -5.021597e+00   \n",
       "75%    55656.500000      20.000000   1319.250000     37.178387 -3.326156e+00   \n",
       "max    74247.000000  350000.000000   2770.000000     40.345193 -2.000000e-08   \n",
       "\n",
       "        num_private   region_code  district_code    population  \\\n",
       "count  59400.000000  59400.000000   59400.000000  59400.000000   \n",
       "mean       0.474141     15.297003       5.629747    179.909983   \n",
       "std       12.236230     17.587406       9.633649    471.482176   \n",
       "min        0.000000      1.000000       0.000000      0.000000   \n",
       "25%        0.000000      5.000000       2.000000      0.000000   \n",
       "50%        0.000000     12.000000       3.000000     25.000000   \n",
       "75%        0.000000     17.000000       5.000000    215.000000   \n",
       "max     1776.000000     99.000000      80.000000  30500.000000   \n",
       "\n",
       "       construction_year  \n",
       "count       59400.000000  \n",
       "mean         1300.652475  \n",
       "std           951.620547  \n",
       "min             0.000000  \n",
       "25%             0.000000  \n",
       "50%          1986.000000  \n",
       "75%          2004.000000  \n",
       "max          2013.000000  "
      ]
     },
     "metadata": {},
     "output_type": "display_data"
    },
    {
     "name": "stdout",
     "output_type": "stream",
     "text": [
      "\n",
      "Missing Values in Train Values:\n"
     ]
    },
    {
     "data": {
      "text/plain": [
       "id                           0\n",
       "amount_tsh                   0\n",
       "date_recorded                0\n",
       "funder                    3635\n",
       "gps_height                   0\n",
       "installer                 3655\n",
       "longitude                    0\n",
       "latitude                     0\n",
       "wpt_name                     0\n",
       "num_private                  0\n",
       "basin                        0\n",
       "subvillage                 371\n",
       "region                       0\n",
       "region_code                  0\n",
       "district_code                0\n",
       "lga                          0\n",
       "ward                         0\n",
       "population                   0\n",
       "public_meeting            3334\n",
       "recorded_by                  0\n",
       "scheme_management         3877\n",
       "scheme_name              28166\n",
       "permit                    3056\n",
       "construction_year            0\n",
       "extraction_type              0\n",
       "extraction_type_group        0\n",
       "extraction_type_class        0\n",
       "management                   0\n",
       "management_group             0\n",
       "payment                      0\n",
       "payment_type                 0\n",
       "water_quality                0\n",
       "quality_group                0\n",
       "quantity                     0\n",
       "quantity_group               0\n",
       "source                       0\n",
       "source_type                  0\n",
       "source_class                 0\n",
       "waterpoint_type              0\n",
       "waterpoint_type_group        0\n",
       "dtype: int64"
      ]
     },
     "metadata": {},
     "output_type": "display_data"
    },
    {
     "name": "stdout",
     "output_type": "stream",
     "text": [
      "\n",
      "Data Types in Train Values:\n"
     ]
    },
    {
     "data": {
      "text/plain": [
       "id                         int64\n",
       "amount_tsh               float64\n",
       "date_recorded             object\n",
       "funder                    object\n",
       "gps_height                 int64\n",
       "installer                 object\n",
       "longitude                float64\n",
       "latitude                 float64\n",
       "wpt_name                  object\n",
       "num_private                int64\n",
       "basin                     object\n",
       "subvillage                object\n",
       "region                    object\n",
       "region_code                int64\n",
       "district_code              int64\n",
       "lga                       object\n",
       "ward                      object\n",
       "population                 int64\n",
       "public_meeting            object\n",
       "recorded_by               object\n",
       "scheme_management         object\n",
       "scheme_name               object\n",
       "permit                    object\n",
       "construction_year          int64\n",
       "extraction_type           object\n",
       "extraction_type_group     object\n",
       "extraction_type_class     object\n",
       "management                object\n",
       "management_group          object\n",
       "payment                   object\n",
       "payment_type              object\n",
       "water_quality             object\n",
       "quality_group             object\n",
       "quantity                  object\n",
       "quantity_group            object\n",
       "source                    object\n",
       "source_type               object\n",
       "source_class              object\n",
       "waterpoint_type           object\n",
       "waterpoint_type_group     object\n",
       "dtype: object"
      ]
     },
     "metadata": {},
     "output_type": "display_data"
    }
   ],
   "source": [
    "# Get summary statistics for numerical features\n",
    "print(\"Summary Statistics for Numerical Features:\")\n",
    "display(train_values.describe())\n",
    "\n",
    "# Check for missing values in the dataset\n",
    "print(\"\\nMissing Values in Train Values:\")\n",
    "display(train_values.isnull().sum())\n",
    "\n",
    "# Check for data types of each feature\n",
    "print(\"\\nData Types in Train Values:\")\n",
    "display(train_values.dtypes)"
   ]
  },
  {
   "cell_type": "markdown",
   "metadata": {},
   "source": [
    "> **Key Insights:**\n",
    "> - Based on the above, `amount_tsh` has a high proportion of zero values which could indicate that many water points have no water.\n",
    "> - Some key features such as `scheme_name` and `scheme_management` have missing data which needs to be addressed.\n",
    "> - Feature `date_recorded` has been stored as an `object` and needs to be converted to a `datetime` for analysis.\n"
   ]
  },
  {
   "cell_type": "markdown",
   "metadata": {},
   "source": [
    "#### Target Variable Exploration"
   ]
  },
  {
   "cell_type": "code",
   "execution_count": 17,
   "metadata": {},
   "outputs": [
    {
     "name": "stdout",
     "output_type": "stream",
     "text": [
      "\n",
      "Distribution of Target Variable:\n"
     ]
    },
    {
     "data": {
      "text/plain": [
       "functional                 32259\n",
       "non functional             22824\n",
       "functional needs repair     4317\n",
       "Name: status_group, dtype: int64"
      ]
     },
     "metadata": {},
     "output_type": "display_data"
    },
    {
     "name": "stdout",
     "output_type": "stream",
     "text": [
      "functional                 54.308081\n",
      "non functional             38.424242\n",
      "functional needs repair     7.267677\n",
      "Name: status_group, dtype: float64\n"
     ]
    },
    {
     "data": {
      "image/png": "[encoded data removed]",
      "text/plain": [
       "<Figure size 432x288 with 1 Axes>"
      ]
     },
     "metadata": {
      "needs_background": "light"
     },
     "output_type": "display_data"
    }
   ],
   "source": [
    "# Merge train-values and train-labels to explore the target variable\n",
    "train_data = train_values.merge(train_labels, on='id')\n",
    "\n",
    "# Display the distribution of the target variable\n",
    "print(\"\\nDistribution of Target Variable:\")\n",
    "display(train_data['status_group'].value_counts())\n",
    "\n",
    "# Calculate the distribution of the target variable in percentages\n",
    "target_distribution_percentage = (train_labels['status_group'].value_counts(normalize=True) * 100)\n",
    "\n",
    "# Display the output\n",
    "print(target_distribution_percentage)\n",
    "\n",
    "# Plot the distribution of the target variable\n",
    "sns.countplot(x='status_group', data=train_data)\n",
    "plt.title(\"Distribution of Target Variable\")\n",
    "plt.show()"
   ]
  },
  {
   "cell_type": "markdown",
   "metadata": {},
   "source": [
    "> **Key Insights:**\n",
    "> - From the above 32,259 pumps (54.3%) are fully operational, 22,824 pumps (38.4%) are not working at all while 4,317 pumps (7.3%) are operational but require some repairs.\n",
    ">> - This shows that there is a significant number of pumps that are non-functional or needs repairs.\n",
    ">> - The functional but needs repair class shows that it will be harder to predict due to its smaller size, making it critical to capture features that indicate early signs of wear or need for repair.\n",
    ">> - Since there are more pumps that are not working at all, it will be crucial to predict the need for repairs before complete failure so that maintenance can be done early."
   ]
  },
  {
   "cell_type": "markdown",
   "metadata": {},
   "source": [
    "#### Bivariate Analysis"
   ]
  },
  {
   "cell_type": "code",
   "execution_count": 18,
   "metadata": {},
   "outputs": [
    {
     "name": "stdout",
     "output_type": "stream",
     "text": [
      "\n",
      "Correlation Matrix:\n"
     ]
    },
    {
     "data": {
      "text/html": [
       "<div>\n",
       "<style scoped>\n",
       "    .dataframe tbody tr th:only-of-type {\n",
       "        vertical-align: middle;\n",
       "    }\n",
       "\n",
       "    .dataframe tbody tr th {\n",
       "        vertical-align: top;\n",
       "    }\n",
       "\n",
       "    .dataframe thead th {\n",
       "        text-align: right;\n",
       "    }\n",
       "</style>\n",
       "<table border=\"1\" class=\"dataframe\">\n",
       "  <thead>\n",
       "    <tr style=\"text-align: right;\">\n",
       "      <th></th>\n",
       "      <th>id</th>\n",
       "      <th>amount_tsh</th>\n",
       "      <th>gps_height</th>\n",
       "      <th>longitude</th>\n",
       "      <th>latitude</th>\n",
       "      <th>num_private</th>\n",
       "      <th>region_code</th>\n",
       "      <th>district_code</th>\n",
       "      <th>population</th>\n",
       "      <th>construction_year</th>\n",
       "    </tr>\n",
       "  </thead>\n",
       "  <tbody>\n",
       "    <tr>\n",
       "      <th>id</th>\n",
       "      <td>1.000000</td>\n",
       "      <td>-0.005321</td>\n",
       "      <td>-0.004692</td>\n",
       "      <td>-0.001348</td>\n",
       "      <td>0.001718</td>\n",
       "      <td>-0.002629</td>\n",
       "      <td>-0.003028</td>\n",
       "      <td>-0.003044</td>\n",
       "      <td>-0.002813</td>\n",
       "      <td>-0.002082</td>\n",
       "    </tr>\n",
       "    <tr>\n",
       "      <th>amount_tsh</th>\n",
       "      <td>-0.005321</td>\n",
       "      <td>1.000000</td>\n",
       "      <td>0.076650</td>\n",
       "      <td>0.022134</td>\n",
       "      <td>-0.052670</td>\n",
       "      <td>0.002944</td>\n",
       "      <td>-0.026813</td>\n",
       "      <td>-0.023599</td>\n",
       "      <td>0.016288</td>\n",
       "      <td>0.067915</td>\n",
       "    </tr>\n",
       "    <tr>\n",
       "      <th>gps_height</th>\n",
       "      <td>-0.004692</td>\n",
       "      <td>0.076650</td>\n",
       "      <td>1.000000</td>\n",
       "      <td>0.149155</td>\n",
       "      <td>-0.035751</td>\n",
       "      <td>0.007237</td>\n",
       "      <td>-0.183521</td>\n",
       "      <td>-0.171233</td>\n",
       "      <td>0.135003</td>\n",
       "      <td>0.658727</td>\n",
       "    </tr>\n",
       "    <tr>\n",
       "      <th>longitude</th>\n",
       "      <td>-0.001348</td>\n",
       "      <td>0.022134</td>\n",
       "      <td>0.149155</td>\n",
       "      <td>1.000000</td>\n",
       "      <td>-0.425802</td>\n",
       "      <td>0.023873</td>\n",
       "      <td>0.034197</td>\n",
       "      <td>0.151398</td>\n",
       "      <td>0.086590</td>\n",
       "      <td>0.396732</td>\n",
       "    </tr>\n",
       "    <tr>\n",
       "      <th>latitude</th>\n",
       "      <td>0.001718</td>\n",
       "      <td>-0.052670</td>\n",
       "      <td>-0.035751</td>\n",
       "      <td>-0.425802</td>\n",
       "      <td>1.000000</td>\n",
       "      <td>0.006837</td>\n",
       "      <td>-0.221018</td>\n",
       "      <td>-0.201020</td>\n",
       "      <td>-0.022152</td>\n",
       "      <td>-0.245278</td>\n",
       "    </tr>\n",
       "    <tr>\n",
       "      <th>num_private</th>\n",
       "      <td>-0.002629</td>\n",
       "      <td>0.002944</td>\n",
       "      <td>0.007237</td>\n",
       "      <td>0.023873</td>\n",
       "      <td>0.006837</td>\n",
       "      <td>1.000000</td>\n",
       "      <td>-0.020377</td>\n",
       "      <td>-0.004478</td>\n",
       "      <td>0.003818</td>\n",
       "      <td>0.026056</td>\n",
       "    </tr>\n",
       "    <tr>\n",
       "      <th>region_code</th>\n",
       "      <td>-0.003028</td>\n",
       "      <td>-0.026813</td>\n",
       "      <td>-0.183521</td>\n",
       "      <td>0.034197</td>\n",
       "      <td>-0.221018</td>\n",
       "      <td>-0.020377</td>\n",
       "      <td>1.000000</td>\n",
       "      <td>0.678602</td>\n",
       "      <td>0.094088</td>\n",
       "      <td>0.031724</td>\n",
       "    </tr>\n",
       "    <tr>\n",
       "      <th>district_code</th>\n",
       "      <td>-0.003044</td>\n",
       "      <td>-0.023599</td>\n",
       "      <td>-0.171233</td>\n",
       "      <td>0.151398</td>\n",
       "      <td>-0.201020</td>\n",
       "      <td>-0.004478</td>\n",
       "      <td>0.678602</td>\n",
       "      <td>1.000000</td>\n",
       "      <td>0.061831</td>\n",
       "      <td>0.048315</td>\n",
       "    </tr>\n",
       "    <tr>\n",
       "      <th>population</th>\n",
       "      <td>-0.002813</td>\n",
       "      <td>0.016288</td>\n",
       "      <td>0.135003</td>\n",
       "      <td>0.086590</td>\n",
       "      <td>-0.022152</td>\n",
       "      <td>0.003818</td>\n",
       "      <td>0.094088</td>\n",
       "      <td>0.061831</td>\n",
       "      <td>1.000000</td>\n",
       "      <td>0.260910</td>\n",
       "    </tr>\n",
       "    <tr>\n",
       "      <th>construction_year</th>\n",
       "      <td>-0.002082</td>\n",
       "      <td>0.067915</td>\n",
       "      <td>0.658727</td>\n",
       "      <td>0.396732</td>\n",
       "      <td>-0.245278</td>\n",
       "      <td>0.026056</td>\n",
       "      <td>0.031724</td>\n",
       "      <td>0.048315</td>\n",
       "      <td>0.260910</td>\n",
       "      <td>1.000000</td>\n",
       "    </tr>\n",
       "  </tbody>\n",
       "</table>\n",
       "</div>"
      ],
      "text/plain": [
       "                         id  amount_tsh  gps_height  longitude  latitude  \\\n",
       "id                 1.000000   -0.005321   -0.004692  -0.001348  0.001718   \n",
       "amount_tsh        -0.005321    1.000000    0.076650   0.022134 -0.052670   \n",
       "gps_height        -0.004692    0.076650    1.000000   0.149155 -0.035751   \n",
       "longitude         -0.001348    0.022134    0.149155   1.000000 -0.425802   \n",
       "latitude           0.001718   -0.052670   -0.035751  -0.425802  1.000000   \n",
       "num_private       -0.002629    0.002944    0.007237   0.023873  0.006837   \n",
       "region_code       -0.003028   -0.026813   -0.183521   0.034197 -0.221018   \n",
       "district_code     -0.003044   -0.023599   -0.171233   0.151398 -0.201020   \n",
       "population        -0.002813    0.016288    0.135003   0.086590 -0.022152   \n",
       "construction_year -0.002082    0.067915    0.658727   0.396732 -0.245278   \n",
       "\n",
       "                   num_private  region_code  district_code  population  \\\n",
       "id                   -0.002629    -0.003028      -0.003044   -0.002813   \n",
       "amount_tsh            0.002944    -0.026813      -0.023599    0.016288   \n",
       "gps_height            0.007237    -0.183521      -0.171233    0.135003   \n",
       "longitude             0.023873     0.034197       0.151398    0.086590   \n",
       "latitude              0.006837    -0.221018      -0.201020   -0.022152   \n",
       "num_private           1.000000    -0.020377      -0.004478    0.003818   \n",
       "region_code          -0.020377     1.000000       0.678602    0.094088   \n",
       "district_code        -0.004478     0.678602       1.000000    0.061831   \n",
       "population            0.003818     0.094088       0.061831    1.000000   \n",
       "construction_year     0.026056     0.031724       0.048315    0.260910   \n",
       "\n",
       "                   construction_year  \n",
       "id                         -0.002082  \n",
       "amount_tsh                  0.067915  \n",
       "gps_height                  0.658727  \n",
       "longitude                   0.396732  \n",
       "latitude                   -0.245278  \n",
       "num_private                 0.026056  \n",
       "region_code                 0.031724  \n",
       "district_code               0.048315  \n",
       "population                  0.260910  \n",
       "construction_year           1.000000  "
      ]
     },
     "metadata": {},
     "output_type": "display_data"
    },
    {
     "data": {
      "image/png": "[encoded data removed]",
      "text/plain": [
       "<Figure size 432x288 with 2 Axes>"
      ]
     },
     "metadata": {
      "needs_background": "light"
     },
     "output_type": "display_data"
    },
    {
     "name": "stdout",
     "output_type": "stream",
     "text": [
      "\n",
      "Grouped Analysis by Target Variable:\n"
     ]
    },
    {
     "data": {
      "text/plain": [
       "status_group\n",
       "functional                 461.798235\n",
       "functional needs repair    267.071577\n",
       "non functional             123.481230\n",
       "Name: amount_tsh, dtype: float64"
      ]
     },
     "metadata": {},
     "output_type": "display_data"
    }
   ],
   "source": [
    "# Correlation matrix for numerical features\n",
    "print(\"\\nCorrelation Matrix:\")\n",
    "corr_matrix = train_data.corr()\n",
    "display(corr_matrix)\n",
    "\n",
    "# Visualize the correlation matrix\n",
    "sns.heatmap(corr_matrix, annot=True, cmap='coolwarm')\n",
    "plt.title(\"Correlation Matrix of Numerical Features\")\n",
    "plt.show()\n",
    "\n",
    "# Grouped analysis for categorical features\n",
    "# Example: Grouping by 'status_group' and checking the mean of a numerical feature\n",
    "print(\"\\nGrouped Analysis by Target Variable:\")\n",
    "display(train_data.groupby('status_group')['amount_tsh'].mean())"
   ]
  },
  {
   "cell_type": "markdown",
   "metadata": {},
   "source": [
    "> **Key Observations on the Correlation Matrix:**\n",
    "> - `gps_height` and `construction_year` have a strong positive correlation of 0.659 which is closer to +1. This suggests that newer constructions tend to be at higher altitudes.\n",
    "> - `longitude` and `construction_year` have a moderate positive correlation of 0.397, wich indicates that newer costructions might be located in specific places.\n",
    "> - Most other features have low or no significant correlation with each other, as indicated by values close to 0\n",
    "\n",
    "> **Key Observations on the Grouped Analysis by Target Variable:**\n",
    "> - I performed an analysis showing the average `amount_tsh` for each category in the `status_group` target variable:\n",
    "> - For `functional` pumps requires an average `amount_tsh` of 461.80 Tsh.\n",
    "> - For `functional needs repair` pumps requires an average `amount_tsh` of 267.07 Tsh.\n",
    "> - For `non functional` pumps requires an average `amount_tsh` of 123.48 Tsh.\n",
    ">> - From the above we can see that functional water pumps tend to have a higher `amount_tsh`.\n",
    ">> - This means that better-funded pumps are more likely to be functional while lower funded pumps are more likely to be non-functional or needs repair."
   ]
  },
  {
   "cell_type": "markdown",
   "metadata": {},
   "source": [
    "#### Missing Values Analysis"
   ]
  },
  {
   "cell_type": "code",
   "execution_count": 25,
   "metadata": {},
   "outputs": [
    {
     "name": "stdout",
     "output_type": "stream",
     "text": [
      "\n",
      "Missing Data by Count\n"
     ]
    },
    {
     "data": {
      "text/plain": [
       "funder                3635\n",
       "installer             3655\n",
       "subvillage             371\n",
       "public_meeting        3334\n",
       "scheme_management     3877\n",
       "scheme_name          28166\n",
       "permit                3056\n",
       "dtype: int64"
      ]
     },
     "metadata": {},
     "output_type": "display_data"
    },
    {
     "name": "stdout",
     "output_type": "stream",
     "text": [
      "\n",
      " Missing Data by Percentage\n"
     ]
    },
    {
     "data": {
      "text/plain": [
       "id                        0.000000\n",
       "amount_tsh                0.000000\n",
       "date_recorded             0.000000\n",
       "funder                    6.119529\n",
       "gps_height                0.000000\n",
       "installer                 6.153199\n",
       "longitude                 0.000000\n",
       "latitude                  0.000000\n",
       "wpt_name                  0.000000\n",
       "num_private               0.000000\n",
       "basin                     0.000000\n",
       "subvillage                0.624579\n",
       "region                    0.000000\n",
       "region_code               0.000000\n",
       "district_code             0.000000\n",
       "lga                       0.000000\n",
       "ward                      0.000000\n",
       "population                0.000000\n",
       "public_meeting            5.612795\n",
       "recorded_by               0.000000\n",
       "scheme_management         6.526936\n",
       "scheme_name              47.417508\n",
       "permit                    5.144781\n",
       "construction_year         0.000000\n",
       "extraction_type           0.000000\n",
       "extraction_type_group     0.000000\n",
       "extraction_type_class     0.000000\n",
       "management                0.000000\n",
       "management_group          0.000000\n",
       "payment                   0.000000\n",
       "payment_type              0.000000\n",
       "water_quality             0.000000\n",
       "quality_group             0.000000\n",
       "quantity                  0.000000\n",
       "quantity_group            0.000000\n",
       "source                    0.000000\n",
       "source_type               0.000000\n",
       "source_class              0.000000\n",
       "waterpoint_type           0.000000\n",
       "waterpoint_type_group     0.000000\n",
       "status_group              0.000000\n",
       "dtype: float64"
      ]
     },
     "metadata": {},
     "output_type": "display_data"
    },
    {
     "data": {
      "image/png": "[encoded data removed]",
      "text/plain": [
       "<Figure size 720x432 with 1 Axes>"
      ]
     },
     "metadata": {
      "needs_background": "light"
     },
     "output_type": "display_data"
    }
   ],
   "source": [
    "missing_data = train_data.isnull().sum()\n",
    "missing_data = missing_data[missing_data > 0]\n",
    "print(\"\\nMissing Data by Count\")\n",
    "display(missing_data)\n",
    "missing_percent = (missing_values / len(train_data)) * 100\n",
    "print(\"\\n Missing Data by Percentage\")\n",
    "display(missing_percentage)\n",
    "plt.figure(figsize=(10, 6))\n",
    "missing_data.plot(kind='bar', color='orange')\n",
    "plt.title(\"Bar Plot of Missing Values by Feature\")\n",
    "plt.ylabel(\"Number of Missing Values\")\n",
    "plt.show()"
   ]
  },
  {
   "cell_type": "markdown",
   "metadata": {},
   "source": [
    "> **Key Insights:**\n",
    ">- `scheme_name` has the most significant proportion of missing values almost 47.4% of the data.\n",
    "> - `funder` and `installer` seem like key features that could indicate who is responsible for the functionality of the water points.\n",
    "> - `public_meeting` and `permit` are categorical features with missing values which might reflect the administration or governance aspects of water points"
   ]
  },
  {
   "cell_type": "markdown",
   "metadata": {},
   "source": [
    "# 3. Data Preparation"
   ]
  },
  {
   "cell_type": "markdown",
   "metadata": {},
   "source": [
    "In this section we will be preparing the data to be used address skewness of data and handling of outliers"
   ]
  }
 ],
 "metadata": {
  "kernelspec": {
   "display_name": "learn-env",
   "language": "python",
   "name": "python3"
  },
  "language_info": {
   "codemirror_mode": {
    "name": "ipython",
    "version": 3
   },
   "file_extension": ".py",
   "mimetype": "text/x-python",
   "name": "python",
   "nbconvert_exporter": "python",
   "pygments_lexer": "ipython3",
   "version": "3.8.5"
  }
 },
 "nbformat": 4,
 "nbformat_minor": 2
}
