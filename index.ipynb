{
 "cells": [
  {
   "cell_type": "markdown",
   "metadata": {},
   "source": [
    "# 1. Business Understanding"
   ]
  },
  {
   "cell_type": "markdown",
   "metadata": {},
   "source": [
    "#### 1.1. Project Overview\n",
    "\n",
    "Tanzania is a country with a population of 57 million. It faces significant challenges in providing clean and reliable water to its population.\n",
    "The country has established numerous water points to meet this need but many of these water points are not fully functional, with some requiring repairs and others have failed entirely.\n",
    "This project aims to predict the functionality of these water pumps, distingishing between those that are fully functional, those that need repairs and those that do not work at all"
   ]
  },
  {
   "cell_type": "markdown",
   "metadata": {},
   "source": [
    "#### 2.1. Objective\n",
    "The primary objective is to develop a predictive model that can accurately classify the operational status of water pumps into one of three categories:\n",
    "- Functional: The water pump is fully operational and provides clean water.\n",
    "- Needs repair: The water pump is operational but requires some maintenance or repair to ensure optimal performance.\n",
    "- Non-Functional: The water pump has failed and is not providing water."
   ]
  },
  {
   "cell_type": "markdown",
   "metadata": {},
   "source": [
    "#### 3.1. Stakeholders\n",
    "- Non-Governmental Organizations(NGOs): Various NGOs involved in providing support for wells needing repairs in Tanzania\n",
    "- Government of Tanzania throught the Tanzanian Ministry of Water: The government is looking to find patterns in non-functional wells to influence how new wells are built"
   ]
  },
  {
   "cell_type": "markdown",
   "metadata": {},
   "source": [
    "#### 4.1. Key Questions\n",
    "1. What are the critical factors influencing the functionality of water pumps in Tanzania?\n",
    "2. Does the year of construction of the water pump affect its current functionality?\n",
    "3. Are there specific regions or districts that consistently have non functional or poorly performing water pumps?\n"
   ]
  },
  {
   "cell_type": "markdown",
   "metadata": {},
   "source": [
    "# 2. Data Understanding"
   ]
  },
  {
   "cell_type": "markdown",
   "metadata": {},
   "source": [
    "#### Import the necessary python packages"
   ]
  },
  {
   "cell_type": "code",
   "execution_count": 1,
   "metadata": {},
   "outputs": [],
   "source": [
    "import pandas as pd\n",
    "pd.set_option('display.max_columns', None)\n",
    "pd.set_option('display.expand_frame_repr', False)\n",
    "import matplotlib.pyplot as plt\n",
    "import seaborn as sns"
   ]
  },
  {
   "cell_type": "markdown",
   "metadata": {},
   "source": [
    "#### Loading the Data"
   ]
  },
  {
   "cell_type": "code",
   "execution_count": 2,
   "metadata": {},
   "outputs": [
    {
     "name": "stdout",
     "output_type": "stream",
     "text": [
      "Train Values:\n"
     ]
    },
    {
     "data": {
      "text/html": [
       "<div>\n",
       "<style scoped>\n",
       "    .dataframe tbody tr th:only-of-type {\n",
       "        vertical-align: middle;\n",
       "    }\n",
       "\n",
       "    .dataframe tbody tr th {\n",
       "        vertical-align: top;\n",
       "    }\n",
       "\n",
       "    .dataframe thead th {\n",
       "        text-align: right;\n",
       "    }\n",
       "</style>\n",
       "<table border=\"1\" class=\"dataframe\">\n",
       "  <thead>\n",
       "    <tr style=\"text-align: right;\">\n",
       "      <th></th>\n",
       "      <th>id</th>\n",
       "      <th>amount_tsh</th>\n",
       "      <th>date_recorded</th>\n",
       "      <th>funder</th>\n",
       "      <th>gps_height</th>\n",
       "      <th>installer</th>\n",
       "      <th>longitude</th>\n",
       "      <th>latitude</th>\n",
       "      <th>wpt_name</th>\n",
       "      <th>num_private</th>\n",
       "      <th>basin</th>\n",
       "      <th>subvillage</th>\n",
       "      <th>region</th>\n",
       "      <th>region_code</th>\n",
       "      <th>district_code</th>\n",
       "      <th>lga</th>\n",
       "      <th>ward</th>\n",
       "      <th>population</th>\n",
       "      <th>public_meeting</th>\n",
       "      <th>recorded_by</th>\n",
       "      <th>scheme_management</th>\n",
       "      <th>scheme_name</th>\n",
       "      <th>permit</th>\n",
       "      <th>construction_year</th>\n",
       "      <th>extraction_type</th>\n",
       "      <th>extraction_type_group</th>\n",
       "      <th>extraction_type_class</th>\n",
       "      <th>management</th>\n",
       "      <th>management_group</th>\n",
       "      <th>payment</th>\n",
       "      <th>payment_type</th>\n",
       "      <th>water_quality</th>\n",
       "      <th>quality_group</th>\n",
       "      <th>quantity</th>\n",
       "      <th>quantity_group</th>\n",
       "      <th>source</th>\n",
       "      <th>source_type</th>\n",
       "      <th>source_class</th>\n",
       "      <th>waterpoint_type</th>\n",
       "      <th>waterpoint_type_group</th>\n",
       "    </tr>\n",
       "  </thead>\n",
       "  <tbody>\n",
       "    <tr>\n",
       "      <th>0</th>\n",
       "      <td>69572</td>\n",
       "      <td>6000.0</td>\n",
       "      <td>2011-03-14</td>\n",
       "      <td>Roman</td>\n",
       "      <td>1390</td>\n",
       "      <td>Roman</td>\n",
       "      <td>34.938093</td>\n",
       "      <td>-9.856322</td>\n",
       "      <td>none</td>\n",
       "      <td>0</td>\n",
       "      <td>Lake Nyasa</td>\n",
       "      <td>Mnyusi B</td>\n",
       "      <td>Iringa</td>\n",
       "      <td>11</td>\n",
       "      <td>5</td>\n",
       "      <td>Ludewa</td>\n",
       "      <td>Mundindi</td>\n",
       "      <td>109</td>\n",
       "      <td>True</td>\n",
       "      <td>GeoData Consultants Ltd</td>\n",
       "      <td>VWC</td>\n",
       "      <td>Roman</td>\n",
       "      <td>False</td>\n",
       "      <td>1999</td>\n",
       "      <td>gravity</td>\n",
       "      <td>gravity</td>\n",
       "      <td>gravity</td>\n",
       "      <td>vwc</td>\n",
       "      <td>user-group</td>\n",
       "      <td>pay annually</td>\n",
       "      <td>annually</td>\n",
       "      <td>soft</td>\n",
       "      <td>good</td>\n",
       "      <td>enough</td>\n",
       "      <td>enough</td>\n",
       "      <td>spring</td>\n",
       "      <td>spring</td>\n",
       "      <td>groundwater</td>\n",
       "      <td>communal standpipe</td>\n",
       "      <td>communal standpipe</td>\n",
       "    </tr>\n",
       "    <tr>\n",
       "      <th>1</th>\n",
       "      <td>8776</td>\n",
       "      <td>0.0</td>\n",
       "      <td>2013-03-06</td>\n",
       "      <td>Grumeti</td>\n",
       "      <td>1399</td>\n",
       "      <td>GRUMETI</td>\n",
       "      <td>34.698766</td>\n",
       "      <td>-2.147466</td>\n",
       "      <td>Zahanati</td>\n",
       "      <td>0</td>\n",
       "      <td>Lake Victoria</td>\n",
       "      <td>Nyamara</td>\n",
       "      <td>Mara</td>\n",
       "      <td>20</td>\n",
       "      <td>2</td>\n",
       "      <td>Serengeti</td>\n",
       "      <td>Natta</td>\n",
       "      <td>280</td>\n",
       "      <td>NaN</td>\n",
       "      <td>GeoData Consultants Ltd</td>\n",
       "      <td>Other</td>\n",
       "      <td>NaN</td>\n",
       "      <td>True</td>\n",
       "      <td>2010</td>\n",
       "      <td>gravity</td>\n",
       "      <td>gravity</td>\n",
       "      <td>gravity</td>\n",
       "      <td>wug</td>\n",
       "      <td>user-group</td>\n",
       "      <td>never pay</td>\n",
       "      <td>never pay</td>\n",
       "      <td>soft</td>\n",
       "      <td>good</td>\n",
       "      <td>insufficient</td>\n",
       "      <td>insufficient</td>\n",
       "      <td>rainwater harvesting</td>\n",
       "      <td>rainwater harvesting</td>\n",
       "      <td>surface</td>\n",
       "      <td>communal standpipe</td>\n",
       "      <td>communal standpipe</td>\n",
       "    </tr>\n",
       "    <tr>\n",
       "      <th>2</th>\n",
       "      <td>34310</td>\n",
       "      <td>25.0</td>\n",
       "      <td>2013-02-25</td>\n",
       "      <td>Lottery Club</td>\n",
       "      <td>686</td>\n",
       "      <td>World vision</td>\n",
       "      <td>37.460664</td>\n",
       "      <td>-3.821329</td>\n",
       "      <td>Kwa Mahundi</td>\n",
       "      <td>0</td>\n",
       "      <td>Pangani</td>\n",
       "      <td>Majengo</td>\n",
       "      <td>Manyara</td>\n",
       "      <td>21</td>\n",
       "      <td>4</td>\n",
       "      <td>Simanjiro</td>\n",
       "      <td>Ngorika</td>\n",
       "      <td>250</td>\n",
       "      <td>True</td>\n",
       "      <td>GeoData Consultants Ltd</td>\n",
       "      <td>VWC</td>\n",
       "      <td>Nyumba ya mungu pipe scheme</td>\n",
       "      <td>True</td>\n",
       "      <td>2009</td>\n",
       "      <td>gravity</td>\n",
       "      <td>gravity</td>\n",
       "      <td>gravity</td>\n",
       "      <td>vwc</td>\n",
       "      <td>user-group</td>\n",
       "      <td>pay per bucket</td>\n",
       "      <td>per bucket</td>\n",
       "      <td>soft</td>\n",
       "      <td>good</td>\n",
       "      <td>enough</td>\n",
       "      <td>enough</td>\n",
       "      <td>dam</td>\n",
       "      <td>dam</td>\n",
       "      <td>surface</td>\n",
       "      <td>communal standpipe multiple</td>\n",
       "      <td>communal standpipe</td>\n",
       "    </tr>\n",
       "    <tr>\n",
       "      <th>3</th>\n",
       "      <td>67743</td>\n",
       "      <td>0.0</td>\n",
       "      <td>2013-01-28</td>\n",
       "      <td>Unicef</td>\n",
       "      <td>263</td>\n",
       "      <td>UNICEF</td>\n",
       "      <td>38.486161</td>\n",
       "      <td>-11.155298</td>\n",
       "      <td>Zahanati Ya Nanyumbu</td>\n",
       "      <td>0</td>\n",
       "      <td>Ruvuma / Southern Coast</td>\n",
       "      <td>Mahakamani</td>\n",
       "      <td>Mtwara</td>\n",
       "      <td>90</td>\n",
       "      <td>63</td>\n",
       "      <td>Nanyumbu</td>\n",
       "      <td>Nanyumbu</td>\n",
       "      <td>58</td>\n",
       "      <td>True</td>\n",
       "      <td>GeoData Consultants Ltd</td>\n",
       "      <td>VWC</td>\n",
       "      <td>NaN</td>\n",
       "      <td>True</td>\n",
       "      <td>1986</td>\n",
       "      <td>submersible</td>\n",
       "      <td>submersible</td>\n",
       "      <td>submersible</td>\n",
       "      <td>vwc</td>\n",
       "      <td>user-group</td>\n",
       "      <td>never pay</td>\n",
       "      <td>never pay</td>\n",
       "      <td>soft</td>\n",
       "      <td>good</td>\n",
       "      <td>dry</td>\n",
       "      <td>dry</td>\n",
       "      <td>machine dbh</td>\n",
       "      <td>borehole</td>\n",
       "      <td>groundwater</td>\n",
       "      <td>communal standpipe multiple</td>\n",
       "      <td>communal standpipe</td>\n",
       "    </tr>\n",
       "    <tr>\n",
       "      <th>4</th>\n",
       "      <td>19728</td>\n",
       "      <td>0.0</td>\n",
       "      <td>2011-07-13</td>\n",
       "      <td>Action In A</td>\n",
       "      <td>0</td>\n",
       "      <td>Artisan</td>\n",
       "      <td>31.130847</td>\n",
       "      <td>-1.825359</td>\n",
       "      <td>Shuleni</td>\n",
       "      <td>0</td>\n",
       "      <td>Lake Victoria</td>\n",
       "      <td>Kyanyamisa</td>\n",
       "      <td>Kagera</td>\n",
       "      <td>18</td>\n",
       "      <td>1</td>\n",
       "      <td>Karagwe</td>\n",
       "      <td>Nyakasimbi</td>\n",
       "      <td>0</td>\n",
       "      <td>True</td>\n",
       "      <td>GeoData Consultants Ltd</td>\n",
       "      <td>NaN</td>\n",
       "      <td>NaN</td>\n",
       "      <td>True</td>\n",
       "      <td>0</td>\n",
       "      <td>gravity</td>\n",
       "      <td>gravity</td>\n",
       "      <td>gravity</td>\n",
       "      <td>other</td>\n",
       "      <td>other</td>\n",
       "      <td>never pay</td>\n",
       "      <td>never pay</td>\n",
       "      <td>soft</td>\n",
       "      <td>good</td>\n",
       "      <td>seasonal</td>\n",
       "      <td>seasonal</td>\n",
       "      <td>rainwater harvesting</td>\n",
       "      <td>rainwater harvesting</td>\n",
       "      <td>surface</td>\n",
       "      <td>communal standpipe</td>\n",
       "      <td>communal standpipe</td>\n",
       "    </tr>\n",
       "  </tbody>\n",
       "</table>\n",
       "</div>"
      ],
      "text/plain": [
       "      id  amount_tsh date_recorded        funder  gps_height     installer  longitude   latitude              wpt_name  num_private                    basin  subvillage   region  region_code  district_code        lga        ward  population public_meeting              recorded_by scheme_management                  scheme_name permit  construction_year extraction_type extraction_type_group extraction_type_class management management_group         payment payment_type water_quality quality_group      quantity quantity_group                source           source_type source_class              waterpoint_type waterpoint_type_group\n",
       "0  69572      6000.0    2011-03-14         Roman        1390         Roman  34.938093  -9.856322                  none            0               Lake Nyasa    Mnyusi B   Iringa           11              5     Ludewa    Mundindi         109           True  GeoData Consultants Ltd               VWC                        Roman  False               1999         gravity               gravity               gravity        vwc       user-group    pay annually     annually          soft          good        enough         enough                spring                spring  groundwater           communal standpipe    communal standpipe\n",
       "1   8776         0.0    2013-03-06       Grumeti        1399       GRUMETI  34.698766  -2.147466              Zahanati            0            Lake Victoria     Nyamara     Mara           20              2  Serengeti       Natta         280            NaN  GeoData Consultants Ltd             Other                          NaN   True               2010         gravity               gravity               gravity        wug       user-group       never pay    never pay          soft          good  insufficient   insufficient  rainwater harvesting  rainwater harvesting      surface           communal standpipe    communal standpipe\n",
       "2  34310        25.0    2013-02-25  Lottery Club         686  World vision  37.460664  -3.821329           Kwa Mahundi            0                  Pangani     Majengo  Manyara           21              4  Simanjiro     Ngorika         250           True  GeoData Consultants Ltd               VWC  Nyumba ya mungu pipe scheme   True               2009         gravity               gravity               gravity        vwc       user-group  pay per bucket   per bucket          soft          good        enough         enough                   dam                   dam      surface  communal standpipe multiple    communal standpipe\n",
       "3  67743         0.0    2013-01-28        Unicef         263        UNICEF  38.486161 -11.155298  Zahanati Ya Nanyumbu            0  Ruvuma / Southern Coast  Mahakamani   Mtwara           90             63   Nanyumbu    Nanyumbu          58           True  GeoData Consultants Ltd               VWC                          NaN   True               1986     submersible           submersible           submersible        vwc       user-group       never pay    never pay          soft          good           dry            dry           machine dbh              borehole  groundwater  communal standpipe multiple    communal standpipe\n",
       "4  19728         0.0    2011-07-13   Action In A           0       Artisan  31.130847  -1.825359               Shuleni            0            Lake Victoria  Kyanyamisa   Kagera           18              1    Karagwe  Nyakasimbi           0           True  GeoData Consultants Ltd               NaN                          NaN   True                  0         gravity               gravity               gravity      other            other       never pay    never pay          soft          good      seasonal       seasonal  rainwater harvesting  rainwater harvesting      surface           communal standpipe    communal standpipe"
      ]
     },
     "metadata": {},
     "output_type": "display_data"
    },
    {
     "name": "stdout",
     "output_type": "stream",
     "text": [
      "\n",
      "Train Labels:\n"
     ]
    },
    {
     "data": {
      "text/html": [
       "<div>\n",
       "<style scoped>\n",
       "    .dataframe tbody tr th:only-of-type {\n",
       "        vertical-align: middle;\n",
       "    }\n",
       "\n",
       "    .dataframe tbody tr th {\n",
       "        vertical-align: top;\n",
       "    }\n",
       "\n",
       "    .dataframe thead th {\n",
       "        text-align: right;\n",
       "    }\n",
       "</style>\n",
       "<table border=\"1\" class=\"dataframe\">\n",
       "  <thead>\n",
       "    <tr style=\"text-align: right;\">\n",
       "      <th></th>\n",
       "      <th>id</th>\n",
       "      <th>status_group</th>\n",
       "    </tr>\n",
       "  </thead>\n",
       "  <tbody>\n",
       "    <tr>\n",
       "      <th>0</th>\n",
       "      <td>69572</td>\n",
       "      <td>functional</td>\n",
       "    </tr>\n",
       "    <tr>\n",
       "      <th>1</th>\n",
       "      <td>8776</td>\n",
       "      <td>functional</td>\n",
       "    </tr>\n",
       "    <tr>\n",
       "      <th>2</th>\n",
       "      <td>34310</td>\n",
       "      <td>functional</td>\n",
       "    </tr>\n",
       "    <tr>\n",
       "      <th>3</th>\n",
       "      <td>67743</td>\n",
       "      <td>non functional</td>\n",
       "    </tr>\n",
       "    <tr>\n",
       "      <th>4</th>\n",
       "      <td>19728</td>\n",
       "      <td>functional</td>\n",
       "    </tr>\n",
       "  </tbody>\n",
       "</table>\n",
       "</div>"
      ],
      "text/plain": [
       "      id    status_group\n",
       "0  69572      functional\n",
       "1   8776      functional\n",
       "2  34310      functional\n",
       "3  67743  non functional\n",
       "4  19728      functional"
      ]
     },
     "metadata": {},
     "output_type": "display_data"
    },
    {
     "name": "stdout",
     "output_type": "stream",
     "text": [
      "\n",
      "Shape of Train Values: (59400, 40)\n",
      "Shape of Train Labels: (59400, 2)\n"
     ]
    }
   ],
   "source": [
    "# Viewing the first five rows of the dataset\n",
    "\n",
    "# Load data\n",
    "train_values = pd.read_csv('Data/Training-set-values.csv')\n",
    "train_labels = pd.read_csv('Data/Training-set-labels.csv')\n",
    "test_data = pd.read_csv('Data/Test-set-values.csv')\n",
    "\n",
    "\n",
    "# Display the first few rows of the train-values dataset\n",
    "print(\"Train Values:\")\n",
    "display(train_values.head())\n",
    "\n",
    "# Display the first few rows of the train-labels dataset\n",
    "print(\"\\nTrain Labels:\")\n",
    "display(train_labels.head())\n",
    "\n",
    "# Check the shape of the datasets\n",
    "print(\"\\nShape of Train Values:\", train_values.shape)\n",
    "print(\"Shape of Train Labels:\", train_labels.shape)"
   ]
  },
  {
   "cell_type": "markdown",
   "metadata": {},
   "source": [
    ">  **Key Insights:**\n",
    "> - Based on the above, I can confirm that we have a large dataset with 59,400 water points, which is good for training a predictive model.\n",
    ">- The datatset includes various types of features, such as numerical, categorical and geographical\n",
    ">- I have also identified that `status_group` is my primary target variable\n"
   ]
  },
  {
   "cell_type": "markdown",
   "metadata": {},
   "source": [
    "#### Inspecting the Loaded Data"
   ]
  },
  {
   "cell_type": "code",
   "execution_count": 3,
   "metadata": {},
   "outputs": [
    {
     "name": "stdout",
     "output_type": "stream",
     "text": [
      "Summary Statistics for Numerical Features:\n"
     ]
    },
    {
     "data": {
      "text/html": [
       "<div>\n",
       "<style scoped>\n",
       "    .dataframe tbody tr th:only-of-type {\n",
       "        vertical-align: middle;\n",
       "    }\n",
       "\n",
       "    .dataframe tbody tr th {\n",
       "        vertical-align: top;\n",
       "    }\n",
       "\n",
       "    .dataframe thead th {\n",
       "        text-align: right;\n",
       "    }\n",
       "</style>\n",
       "<table border=\"1\" class=\"dataframe\">\n",
       "  <thead>\n",
       "    <tr style=\"text-align: right;\">\n",
       "      <th></th>\n",
       "      <th>id</th>\n",
       "      <th>amount_tsh</th>\n",
       "      <th>gps_height</th>\n",
       "      <th>longitude</th>\n",
       "      <th>latitude</th>\n",
       "      <th>num_private</th>\n",
       "      <th>region_code</th>\n",
       "      <th>district_code</th>\n",
       "      <th>population</th>\n",
       "      <th>construction_year</th>\n",
       "    </tr>\n",
       "  </thead>\n",
       "  <tbody>\n",
       "    <tr>\n",
       "      <th>count</th>\n",
       "      <td>59400.000000</td>\n",
       "      <td>59400.000000</td>\n",
       "      <td>59400.000000</td>\n",
       "      <td>59400.000000</td>\n",
       "      <td>5.940000e+04</td>\n",
       "      <td>59400.000000</td>\n",
       "      <td>59400.000000</td>\n",
       "      <td>59400.000000</td>\n",
       "      <td>59400.000000</td>\n",
       "      <td>59400.000000</td>\n",
       "    </tr>\n",
       "    <tr>\n",
       "      <th>mean</th>\n",
       "      <td>37115.131768</td>\n",
       "      <td>317.650385</td>\n",
       "      <td>668.297239</td>\n",
       "      <td>34.077427</td>\n",
       "      <td>-5.706033e+00</td>\n",
       "      <td>0.474141</td>\n",
       "      <td>15.297003</td>\n",
       "      <td>5.629747</td>\n",
       "      <td>179.909983</td>\n",
       "      <td>1300.652475</td>\n",
       "    </tr>\n",
       "    <tr>\n",
       "      <th>std</th>\n",
       "      <td>21453.128371</td>\n",
       "      <td>2997.574558</td>\n",
       "      <td>693.116350</td>\n",
       "      <td>6.567432</td>\n",
       "      <td>2.946019e+00</td>\n",
       "      <td>12.236230</td>\n",
       "      <td>17.587406</td>\n",
       "      <td>9.633649</td>\n",
       "      <td>471.482176</td>\n",
       "      <td>951.620547</td>\n",
       "    </tr>\n",
       "    <tr>\n",
       "      <th>min</th>\n",
       "      <td>0.000000</td>\n",
       "      <td>0.000000</td>\n",
       "      <td>-90.000000</td>\n",
       "      <td>0.000000</td>\n",
       "      <td>-1.164944e+01</td>\n",
       "      <td>0.000000</td>\n",
       "      <td>1.000000</td>\n",
       "      <td>0.000000</td>\n",
       "      <td>0.000000</td>\n",
       "      <td>0.000000</td>\n",
       "    </tr>\n",
       "    <tr>\n",
       "      <th>25%</th>\n",
       "      <td>18519.750000</td>\n",
       "      <td>0.000000</td>\n",
       "      <td>0.000000</td>\n",
       "      <td>33.090347</td>\n",
       "      <td>-8.540621e+00</td>\n",
       "      <td>0.000000</td>\n",
       "      <td>5.000000</td>\n",
       "      <td>2.000000</td>\n",
       "      <td>0.000000</td>\n",
       "      <td>0.000000</td>\n",
       "    </tr>\n",
       "    <tr>\n",
       "      <th>50%</th>\n",
       "      <td>37061.500000</td>\n",
       "      <td>0.000000</td>\n",
       "      <td>369.000000</td>\n",
       "      <td>34.908743</td>\n",
       "      <td>-5.021597e+00</td>\n",
       "      <td>0.000000</td>\n",
       "      <td>12.000000</td>\n",
       "      <td>3.000000</td>\n",
       "      <td>25.000000</td>\n",
       "      <td>1986.000000</td>\n",
       "    </tr>\n",
       "    <tr>\n",
       "      <th>75%</th>\n",
       "      <td>55656.500000</td>\n",
       "      <td>20.000000</td>\n",
       "      <td>1319.250000</td>\n",
       "      <td>37.178387</td>\n",
       "      <td>-3.326156e+00</td>\n",
       "      <td>0.000000</td>\n",
       "      <td>17.000000</td>\n",
       "      <td>5.000000</td>\n",
       "      <td>215.000000</td>\n",
       "      <td>2004.000000</td>\n",
       "    </tr>\n",
       "    <tr>\n",
       "      <th>max</th>\n",
       "      <td>74247.000000</td>\n",
       "      <td>350000.000000</td>\n",
       "      <td>2770.000000</td>\n",
       "      <td>40.345193</td>\n",
       "      <td>-2.000000e-08</td>\n",
       "      <td>1776.000000</td>\n",
       "      <td>99.000000</td>\n",
       "      <td>80.000000</td>\n",
       "      <td>30500.000000</td>\n",
       "      <td>2013.000000</td>\n",
       "    </tr>\n",
       "  </tbody>\n",
       "</table>\n",
       "</div>"
      ],
      "text/plain": [
       "                 id     amount_tsh    gps_height     longitude      latitude   num_private   region_code  district_code    population  construction_year\n",
       "count  59400.000000   59400.000000  59400.000000  59400.000000  5.940000e+04  59400.000000  59400.000000   59400.000000  59400.000000       59400.000000\n",
       "mean   37115.131768     317.650385    668.297239     34.077427 -5.706033e+00      0.474141     15.297003       5.629747    179.909983        1300.652475\n",
       "std    21453.128371    2997.574558    693.116350      6.567432  2.946019e+00     12.236230     17.587406       9.633649    471.482176         951.620547\n",
       "min        0.000000       0.000000    -90.000000      0.000000 -1.164944e+01      0.000000      1.000000       0.000000      0.000000           0.000000\n",
       "25%    18519.750000       0.000000      0.000000     33.090347 -8.540621e+00      0.000000      5.000000       2.000000      0.000000           0.000000\n",
       "50%    37061.500000       0.000000    369.000000     34.908743 -5.021597e+00      0.000000     12.000000       3.000000     25.000000        1986.000000\n",
       "75%    55656.500000      20.000000   1319.250000     37.178387 -3.326156e+00      0.000000     17.000000       5.000000    215.000000        2004.000000\n",
       "max    74247.000000  350000.000000   2770.000000     40.345193 -2.000000e-08   1776.000000     99.000000      80.000000  30500.000000        2013.000000"
      ]
     },
     "metadata": {},
     "output_type": "display_data"
    },
    {
     "name": "stdout",
     "output_type": "stream",
     "text": [
      "\n",
      "Missing Values in Train Values:\n"
     ]
    },
    {
     "data": {
      "text/plain": [
       "id                           0\n",
       "amount_tsh                   0\n",
       "date_recorded                0\n",
       "funder                    3635\n",
       "gps_height                   0\n",
       "installer                 3655\n",
       "longitude                    0\n",
       "latitude                     0\n",
       "wpt_name                     0\n",
       "num_private                  0\n",
       "basin                        0\n",
       "subvillage                 371\n",
       "region                       0\n",
       "region_code                  0\n",
       "district_code                0\n",
       "lga                          0\n",
       "ward                         0\n",
       "population                   0\n",
       "public_meeting            3334\n",
       "recorded_by                  0\n",
       "scheme_management         3877\n",
       "scheme_name              28166\n",
       "permit                    3056\n",
       "construction_year            0\n",
       "extraction_type              0\n",
       "extraction_type_group        0\n",
       "extraction_type_class        0\n",
       "management                   0\n",
       "management_group             0\n",
       "payment                      0\n",
       "payment_type                 0\n",
       "water_quality                0\n",
       "quality_group                0\n",
       "quantity                     0\n",
       "quantity_group               0\n",
       "source                       0\n",
       "source_type                  0\n",
       "source_class                 0\n",
       "waterpoint_type              0\n",
       "waterpoint_type_group        0\n",
       "dtype: int64"
      ]
     },
     "metadata": {},
     "output_type": "display_data"
    },
    {
     "name": "stdout",
     "output_type": "stream",
     "text": [
      "\n",
      "Data Types in Train Values:\n"
     ]
    },
    {
     "data": {
      "text/plain": [
       "id                         int64\n",
       "amount_tsh               float64\n",
       "date_recorded             object\n",
       "funder                    object\n",
       "gps_height                 int64\n",
       "installer                 object\n",
       "longitude                float64\n",
       "latitude                 float64\n",
       "wpt_name                  object\n",
       "num_private                int64\n",
       "basin                     object\n",
       "subvillage                object\n",
       "region                    object\n",
       "region_code                int64\n",
       "district_code              int64\n",
       "lga                       object\n",
       "ward                      object\n",
       "population                 int64\n",
       "public_meeting            object\n",
       "recorded_by               object\n",
       "scheme_management         object\n",
       "scheme_name               object\n",
       "permit                    object\n",
       "construction_year          int64\n",
       "extraction_type           object\n",
       "extraction_type_group     object\n",
       "extraction_type_class     object\n",
       "management                object\n",
       "management_group          object\n",
       "payment                   object\n",
       "payment_type              object\n",
       "water_quality             object\n",
       "quality_group             object\n",
       "quantity                  object\n",
       "quantity_group            object\n",
       "source                    object\n",
       "source_type               object\n",
       "source_class              object\n",
       "waterpoint_type           object\n",
       "waterpoint_type_group     object\n",
       "dtype: object"
      ]
     },
     "metadata": {},
     "output_type": "display_data"
    }
   ],
   "source": [
    "# Get summary statistics for numerical features\n",
    "print(\"Summary Statistics for Numerical Features:\")\n",
    "display(train_values.describe())\n",
    "\n",
    "# Check for missing values in the dataset\n",
    "print(\"\\nMissing Values in Train Values:\")\n",
    "display(train_values.isnull().sum())\n",
    "\n",
    "# Check for data types of each feature\n",
    "print(\"\\nData Types in Train Values:\")\n",
    "display(train_values.dtypes)"
   ]
  },
  {
   "cell_type": "markdown",
   "metadata": {},
   "source": [
    "> **Key Insights:**\n",
    "> - Based on the above, `amount_tsh` has a high proportion of zero values which could indicate that many water points have no water.\n",
    "> - Some key features such as `scheme_name` and `scheme_management` have missing data which needs to be addressed.\n",
    "> - Feature `date_recorded` has been stored as an `object` and needs to be converted to a `datetime` for analysis.\n"
   ]
  },
  {
   "cell_type": "markdown",
   "metadata": {},
   "source": [
    "#### Target Variable Exploration"
   ]
  },
  {
   "cell_type": "code",
   "execution_count": 4,
   "metadata": {},
   "outputs": [
    {
     "name": "stdout",
     "output_type": "stream",
     "text": [
      "\n",
      "Distribution of Target Variable:\n"
     ]
    },
    {
     "data": {
      "text/plain": [
       "functional                 32259\n",
       "non functional             22824\n",
       "functional needs repair     4317\n",
       "Name: status_group, dtype: int64"
      ]
     },
     "metadata": {},
     "output_type": "display_data"
    },
    {
     "name": "stdout",
     "output_type": "stream",
     "text": [
      "functional                 54.308081\n",
      "non functional             38.424242\n",
      "functional needs repair     7.267677\n",
      "Name: status_group, dtype: float64\n"
     ]
    },
    {
     "data": {
      "image/png": "[encoded data removed]",
      "text/plain": [
       "<Figure size 432x288 with 1 Axes>"
      ]
     },
     "metadata": {
      "needs_background": "light"
     },
     "output_type": "display_data"
    }
   ],
   "source": [
    "# Merge train-values and train-labels to explore the target variable\n",
    "train_data = train_values.merge(train_labels, on='id')\n",
    "\n",
    "\n",
    "# Display the distribution of the target variable\n",
    "print(\"\\nDistribution of Target Variable:\")\n",
    "display(train_data['status_group'].value_counts())\n",
    "\n",
    "# Calculate the distribution of the target variable in percentages\n",
    "target_distribution_percentage = (train_labels['status_group'].value_counts(normalize=True) * 100)\n",
    "\n",
    "# Display the output\n",
    "print(target_distribution_percentage)\n",
    "\n",
    "# Plot the distribution of the target variable\n",
    "sns.countplot(x='status_group', data=train_data)\n",
    "plt.title(\"Distribution of Target Variable\")\n",
    "plt.show()"
   ]
  },
  {
   "cell_type": "markdown",
   "metadata": {},
   "source": [
    "> **Key Insights:**\n",
    "> - From the above 32,259 pumps (54.3%) are fully operational, 22,824 pumps (38.4%) are not working at all while 4,317 pumps (7.3%) are operational but require some repairs.\n",
    ">> - This shows that there is a significant number of pumps that are non-functional or needs repairs.\n",
    ">> - The functional but needs repair class shows that it will be harder to predict due to its smaller size, making it critical to capture features that indicate early signs of wear or need for repair.\n",
    ">> - Since there are more pumps that are not working at all, it will be crucial to predict the need for repairs before complete failure so that maintenance can be done early."
   ]
  },
  {
   "cell_type": "markdown",
   "metadata": {},
   "source": [
    "#### Bivariate Analysis"
   ]
  },
  {
   "cell_type": "code",
   "execution_count": 5,
   "metadata": {},
   "outputs": [
    {
     "name": "stdout",
     "output_type": "stream",
     "text": [
      "\n",
      "Correlation Matrix:\n"
     ]
    },
    {
     "data": {
      "text/html": [
       "<div>\n",
       "<style scoped>\n",
       "    .dataframe tbody tr th:only-of-type {\n",
       "        vertical-align: middle;\n",
       "    }\n",
       "\n",
       "    .dataframe tbody tr th {\n",
       "        vertical-align: top;\n",
       "    }\n",
       "\n",
       "    .dataframe thead th {\n",
       "        text-align: right;\n",
       "    }\n",
       "</style>\n",
       "<table border=\"1\" class=\"dataframe\">\n",
       "  <thead>\n",
       "    <tr style=\"text-align: right;\">\n",
       "      <th></th>\n",
       "      <th>id</th>\n",
       "      <th>amount_tsh</th>\n",
       "      <th>gps_height</th>\n",
       "      <th>longitude</th>\n",
       "      <th>latitude</th>\n",
       "      <th>num_private</th>\n",
       "      <th>region_code</th>\n",
       "      <th>district_code</th>\n",
       "      <th>population</th>\n",
       "      <th>construction_year</th>\n",
       "    </tr>\n",
       "  </thead>\n",
       "  <tbody>\n",
       "    <tr>\n",
       "      <th>id</th>\n",
       "      <td>1.000000</td>\n",
       "      <td>-0.005321</td>\n",
       "      <td>-0.004692</td>\n",
       "      <td>-0.001348</td>\n",
       "      <td>0.001718</td>\n",
       "      <td>-0.002629</td>\n",
       "      <td>-0.003028</td>\n",
       "      <td>-0.003044</td>\n",
       "      <td>-0.002813</td>\n",
       "      <td>-0.002082</td>\n",
       "    </tr>\n",
       "    <tr>\n",
       "      <th>amount_tsh</th>\n",
       "      <td>-0.005321</td>\n",
       "      <td>1.000000</td>\n",
       "      <td>0.076650</td>\n",
       "      <td>0.022134</td>\n",
       "      <td>-0.052670</td>\n",
       "      <td>0.002944</td>\n",
       "      <td>-0.026813</td>\n",
       "      <td>-0.023599</td>\n",
       "      <td>0.016288</td>\n",
       "      <td>0.067915</td>\n",
       "    </tr>\n",
       "    <tr>\n",
       "      <th>gps_height</th>\n",
       "      <td>-0.004692</td>\n",
       "      <td>0.076650</td>\n",
       "      <td>1.000000</td>\n",
       "      <td>0.149155</td>\n",
       "      <td>-0.035751</td>\n",
       "      <td>0.007237</td>\n",
       "      <td>-0.183521</td>\n",
       "      <td>-0.171233</td>\n",
       "      <td>0.135003</td>\n",
       "      <td>0.658727</td>\n",
       "    </tr>\n",
       "    <tr>\n",
       "      <th>longitude</th>\n",
       "      <td>-0.001348</td>\n",
       "      <td>0.022134</td>\n",
       "      <td>0.149155</td>\n",
       "      <td>1.000000</td>\n",
       "      <td>-0.425802</td>\n",
       "      <td>0.023873</td>\n",
       "      <td>0.034197</td>\n",
       "      <td>0.151398</td>\n",
       "      <td>0.086590</td>\n",
       "      <td>0.396732</td>\n",
       "    </tr>\n",
       "    <tr>\n",
       "      <th>latitude</th>\n",
       "      <td>0.001718</td>\n",
       "      <td>-0.052670</td>\n",
       "      <td>-0.035751</td>\n",
       "      <td>-0.425802</td>\n",
       "      <td>1.000000</td>\n",
       "      <td>0.006837</td>\n",
       "      <td>-0.221018</td>\n",
       "      <td>-0.201020</td>\n",
       "      <td>-0.022152</td>\n",
       "      <td>-0.245278</td>\n",
       "    </tr>\n",
       "    <tr>\n",
       "      <th>num_private</th>\n",
       "      <td>-0.002629</td>\n",
       "      <td>0.002944</td>\n",
       "      <td>0.007237</td>\n",
       "      <td>0.023873</td>\n",
       "      <td>0.006837</td>\n",
       "      <td>1.000000</td>\n",
       "      <td>-0.020377</td>\n",
       "      <td>-0.004478</td>\n",
       "      <td>0.003818</td>\n",
       "      <td>0.026056</td>\n",
       "    </tr>\n",
       "    <tr>\n",
       "      <th>region_code</th>\n",
       "      <td>-0.003028</td>\n",
       "      <td>-0.026813</td>\n",
       "      <td>-0.183521</td>\n",
       "      <td>0.034197</td>\n",
       "      <td>-0.221018</td>\n",
       "      <td>-0.020377</td>\n",
       "      <td>1.000000</td>\n",
       "      <td>0.678602</td>\n",
       "      <td>0.094088</td>\n",
       "      <td>0.031724</td>\n",
       "    </tr>\n",
       "    <tr>\n",
       "      <th>district_code</th>\n",
       "      <td>-0.003044</td>\n",
       "      <td>-0.023599</td>\n",
       "      <td>-0.171233</td>\n",
       "      <td>0.151398</td>\n",
       "      <td>-0.201020</td>\n",
       "      <td>-0.004478</td>\n",
       "      <td>0.678602</td>\n",
       "      <td>1.000000</td>\n",
       "      <td>0.061831</td>\n",
       "      <td>0.048315</td>\n",
       "    </tr>\n",
       "    <tr>\n",
       "      <th>population</th>\n",
       "      <td>-0.002813</td>\n",
       "      <td>0.016288</td>\n",
       "      <td>0.135003</td>\n",
       "      <td>0.086590</td>\n",
       "      <td>-0.022152</td>\n",
       "      <td>0.003818</td>\n",
       "      <td>0.094088</td>\n",
       "      <td>0.061831</td>\n",
       "      <td>1.000000</td>\n",
       "      <td>0.260910</td>\n",
       "    </tr>\n",
       "    <tr>\n",
       "      <th>construction_year</th>\n",
       "      <td>-0.002082</td>\n",
       "      <td>0.067915</td>\n",
       "      <td>0.658727</td>\n",
       "      <td>0.396732</td>\n",
       "      <td>-0.245278</td>\n",
       "      <td>0.026056</td>\n",
       "      <td>0.031724</td>\n",
       "      <td>0.048315</td>\n",
       "      <td>0.260910</td>\n",
       "      <td>1.000000</td>\n",
       "    </tr>\n",
       "  </tbody>\n",
       "</table>\n",
       "</div>"
      ],
      "text/plain": [
       "                         id  amount_tsh  gps_height  longitude  latitude  num_private  region_code  district_code  population  construction_year\n",
       "id                 1.000000   -0.005321   -0.004692  -0.001348  0.001718    -0.002629    -0.003028      -0.003044   -0.002813          -0.002082\n",
       "amount_tsh        -0.005321    1.000000    0.076650   0.022134 -0.052670     0.002944    -0.026813      -0.023599    0.016288           0.067915\n",
       "gps_height        -0.004692    0.076650    1.000000   0.149155 -0.035751     0.007237    -0.183521      -0.171233    0.135003           0.658727\n",
       "longitude         -0.001348    0.022134    0.149155   1.000000 -0.425802     0.023873     0.034197       0.151398    0.086590           0.396732\n",
       "latitude           0.001718   -0.052670   -0.035751  -0.425802  1.000000     0.006837    -0.221018      -0.201020   -0.022152          -0.245278\n",
       "num_private       -0.002629    0.002944    0.007237   0.023873  0.006837     1.000000    -0.020377      -0.004478    0.003818           0.026056\n",
       "region_code       -0.003028   -0.026813   -0.183521   0.034197 -0.221018    -0.020377     1.000000       0.678602    0.094088           0.031724\n",
       "district_code     -0.003044   -0.023599   -0.171233   0.151398 -0.201020    -0.004478     0.678602       1.000000    0.061831           0.048315\n",
       "population        -0.002813    0.016288    0.135003   0.086590 -0.022152     0.003818     0.094088       0.061831    1.000000           0.260910\n",
       "construction_year -0.002082    0.067915    0.658727   0.396732 -0.245278     0.026056     0.031724       0.048315    0.260910           1.000000"
      ]
     },
     "metadata": {},
     "output_type": "display_data"
    },
    {
     "data": {
      "image/png": "[encoded data removed]",
      "text/plain": [
       "<Figure size 432x288 with 2 Axes>"
      ]
     },
     "metadata": {
      "needs_background": "light"
     },
     "output_type": "display_data"
    },
    {
     "name": "stdout",
     "output_type": "stream",
     "text": [
      "\n",
      "Grouped Analysis by Target Variable:\n"
     ]
    },
    {
     "data": {
      "text/plain": [
       "status_group\n",
       "functional                 461.798235\n",
       "functional needs repair    267.071577\n",
       "non functional             123.481230\n",
       "Name: amount_tsh, dtype: float64"
      ]
     },
     "metadata": {},
     "output_type": "display_data"
    }
   ],
   "source": [
    "# Correlation matrix for numerical features\n",
    "print(\"\\nCorrelation Matrix:\")\n",
    "corr_matrix = train_data.corr()\n",
    "display(corr_matrix)\n",
    "\n",
    "# Visualize the correlation matrix\n",
    "sns.heatmap(corr_matrix, annot=True, cmap='coolwarm')\n",
    "plt.title(\"Correlation Matrix of Numerical Features\")\n",
    "plt.show()\n",
    "\n",
    "# Grouped analysis for categorical features\n",
    "# Example: Grouping by 'status_group' and checking the mean of a numerical feature\n",
    "print(\"\\nGrouped Analysis by Target Variable:\")\n",
    "display(train_data.groupby('status_group')['amount_tsh'].mean())"
   ]
  },
  {
   "cell_type": "markdown",
   "metadata": {},
   "source": [
    "> **Key Observations on the Correlation Matrix:**\n",
    "> - `gps_height` and `construction_year` have a strong positive correlation of 0.659 which is closer to +1. This suggests that newer constructions tend to be at higher altitudes.\n",
    "> - `longitude` and `construction_year` have a moderate positive correlation of 0.397, wich indicates that newer costructions might be located in specific places.\n",
    "> - Most other features have low or no significant correlation with each other, as indicated by values close to 0\n",
    "\n",
    "> **Key Observations on the Grouped Analysis by Target Variable:**\n",
    "> - I performed an analysis showing the average `amount_tsh` for each category in the `status_group` target variable:\n",
    "> - For `functional` pumps requires an average `amount_tsh` of 461.80 Tsh.\n",
    "> - For `functional needs repair` pumps requires an average `amount_tsh` of 267.07 Tsh.\n",
    "> - For `non functional` pumps requires an average `amount_tsh` of 123.48 Tsh.\n",
    ">> - From the above we can see that functional water pumps tend to have a higher `amount_tsh`.\n",
    ">> - This means that better-funded pumps are more likely to be functional while lower funded pumps are more likely to be non-functional or needs repair."
   ]
  },
  {
   "cell_type": "markdown",
   "metadata": {},
   "source": [
    "#### Missing Values Analysis"
   ]
  },
  {
   "cell_type": "code",
   "execution_count": 6,
   "metadata": {},
   "outputs": [
    {
     "name": "stdout",
     "output_type": "stream",
     "text": [
      "\n",
      "Missing Data by Count\n",
      "funder                3635\n",
      "installer             3655\n",
      "subvillage             371\n",
      "public_meeting        3334\n",
      "scheme_management     3877\n",
      "scheme_name          28166\n",
      "permit                3056\n",
      "dtype: int64\n",
      "\n",
      "Missing Data by Percentage\n",
      "funder                6.119529\n",
      "installer             6.153199\n",
      "subvillage            0.624579\n",
      "public_meeting        5.612795\n",
      "scheme_management     6.526936\n",
      "scheme_name          47.417508\n",
      "permit                5.144781\n",
      "dtype: float64\n"
     ]
    },
    {
     "data": {
      "image/png": "[encoded data removed]",
      "text/plain": [
       "<Figure size 720x432 with 1 Axes>"
      ]
     },
     "metadata": {
      "needs_background": "light"
     },
     "output_type": "display_data"
    },
    {
     "name": "stdout",
     "output_type": "stream",
     "text": [
      "\n",
      "Missing Data by Count\n",
      "funder                869\n",
      "installer             877\n",
      "subvillage             99\n",
      "public_meeting        821\n",
      "scheme_management     969\n",
      "scheme_name          7092\n",
      "permit                737\n",
      "dtype: int64\n",
      "\n",
      "Missing Data by Percentage\n",
      "funder                5.851852\n",
      "installer             5.905724\n",
      "subvillage            0.666667\n",
      "public_meeting        5.528620\n",
      "scheme_management     6.525253\n",
      "scheme_name          47.757576\n",
      "permit                4.962963\n",
      "dtype: float64\n"
     ]
    },
    {
     "data": {
      "image/png": "[encoded data removed]",
      "text/plain": [
       "<Figure size 720x432 with 1 Axes>"
      ]
     },
     "metadata": {
      "needs_background": "light"
     },
     "output_type": "display_data"
    }
   ],
   "source": [
    "def missing_data_summary(data):\n",
    "    # Calculate missing data counts\n",
    "    missing_data = data.isnull().sum()\n",
    "    \n",
    "    if missing_data[missing_data > 0].empty:\n",
    "        print(\"No missing data.\")\n",
    "        return\n",
    "    \n",
    "    # Display missing data by count\n",
    "    print(\"\\nMissing Data by Count\")\n",
    "    print(missing_data[missing_data > 0])\n",
    "    \n",
    "    # Calculate and display missing data by percentage\n",
    "    missing_percentage = (missing_data / len(data)) * 100\n",
    "    print(\"\\nMissing Data by Percentage\")\n",
    "    print(missing_percentage[missing_data > 0])\n",
    "    \n",
    "    # Plot bar graph of missing data\n",
    "    plt.figure(figsize=(10, 6))\n",
    "    missing_data[missing_data > 0].plot(kind='bar', color='orange')\n",
    "    plt.title(\"Bar Plot of Missing Values by Feature\")\n",
    "    plt.ylabel(\"Number of Missing Values\")\n",
    "    plt.xlabel(\"Feature\")\n",
    "    plt.show()\n",
    "\n",
    "# Apply the function to both train and test data\n",
    "missing_data_summary(train_data)\n",
    "missing_data_summary(test_data)"
   ]
  },
  {
   "cell_type": "markdown",
   "metadata": {},
   "source": [
    "> **Key Insights:**\n",
    ">- `scheme_name` has the most significant proportion of missing values almost 47.4% of the data.\n",
    "> - `funder` and `installer` seem like key features that could indicate who is responsible for the functionality of the water points.\n",
    "> - `public_meeting` and `permit` are categorical features with missing values which might reflect the administration or governance aspects of water points"
   ]
  },
  {
   "cell_type": "markdown",
   "metadata": {},
   "source": [
    "#### Bar Plots to understand the relationships between categorical features and `status_group`"
   ]
  },
  {
   "cell_type": "code",
   "execution_count": 7,
   "metadata": {},
   "outputs": [
    {
     "name": "stdout",
     "output_type": "stream",
     "text": [
      "\n",
      " Top Category of: funder\n"
     ]
    },
    {
     "data": {
      "text/plain": [
       "Index(['Government Of Tanzania', 'Danida', 'Hesawa', 'Rwssp', 'World Bank',\n",
       "       'Kkkt', 'World Vision', 'Unicef', 'Tasaf', 'District Council'],\n",
       "      dtype='object')"
      ]
     },
     "metadata": {},
     "output_type": "display_data"
    },
    {
     "data": {
      "image/png": "[encoded data removed]",
      "text/plain": [
       "<Figure size 864x432 with 1 Axes>"
      ]
     },
     "metadata": {
      "needs_background": "light"
     },
     "output_type": "display_data"
    },
    {
     "name": "stdout",
     "output_type": "stream",
     "text": [
      "\n",
      " Top Category of: installer\n"
     ]
    },
    {
     "data": {
      "text/plain": [
       "Index(['DWE', 'Government', 'RWE', 'Commu', 'DANIDA', 'KKKT', 'Hesawa', '0',\n",
       "       'TCRS', 'Central government'],\n",
       "      dtype='object')"
      ]
     },
     "metadata": {},
     "output_type": "display_data"
    },
    {
     "data": {
      "image/png": "[encoded data removed]",
      "text/plain": [
       "<Figure size 864x432 with 1 Axes>"
      ]
     },
     "metadata": {
      "needs_background": "light"
     },
     "output_type": "display_data"
    },
    {
     "name": "stdout",
     "output_type": "stream",
     "text": [
      "\n",
      " Top Category of: scheme_management\n"
     ]
    },
    {
     "data": {
      "text/plain": [
       "Index(['VWC', 'WUG', 'Water authority', 'WUA', 'Water Board', 'Parastatal',\n",
       "       'Private operator', 'Company', 'Other', 'SWC'],\n",
       "      dtype='object')"
      ]
     },
     "metadata": {},
     "output_type": "display_data"
    },
    {
     "data": {
      "image/png": "[encoded data removed]",
      "text/plain": [
       "<Figure size 864x432 with 1 Axes>"
      ]
     },
     "metadata": {
      "needs_background": "light"
     },
     "output_type": "display_data"
    }
   ],
   "source": [
    "def plot_bar(train_data, feature, target='status_group', top_n=10):\n",
    "    plt.figure(figsize=(12, 6))\n",
    "    top_categories = train_data[feature].value_counts().nlargest(top_n).index\n",
    "    # Display the top categories and their counts\n",
    "    print(f\"\\n Top Category of: {feature}\")\n",
    "    display(top_categories)\n",
    "    sns.countplot(data=train_data[train_data[feature].isin(top_categories)], \n",
    "                  x=feature, hue=target, palette='viridis', order=top_categories)\n",
    "    \n",
    "    plt.title(f'Top {top_n} {feature.capitalize()} Distribution by {target.capitalize()}')\n",
    "    plt.xticks(rotation=90)\n",
    "    plt.show()\n",
    "\n",
    "# Bar plots for the top 10 'funder', 'installer', and 'scheme_management'\n",
    "plot_bar(train_data, 'funder', top_n=10)\n",
    "plot_bar(train_data, 'installer', top_n=10)\n",
    "plot_bar(train_data, 'scheme_management', top_n=10)\n"
   ]
  },
  {
   "cell_type": "markdown",
   "metadata": {},
   "source": [
    "> **Key Insights:**\n",
    ">> 1) For the top 10 `funders`:\n",
    ">>-  We can see that Government of Tanzania might have a significant impact on both the status of the water pumps that are `funnctional` and `non functional`.\n",
    ">> - Danida, Hesawa, and World Bank are also prominent funders, possibly showing a trend where certain funders have better or worse outcomes in terms of water pump functionality.\n",
    ">>>2) For the top 10 `installers`:\n",
    ">>> - DWE and Government are key players in the installation of water pumps. The functionality of pumps installed by these entities can give insights into their effectiveness.\n",
    ">>> - Comparing the distribution of `status_group` across these installers can show if certain installers have a better success rate.\n",
    ">>>> 3) For the 10 `scheme_management`:\n",
    ">>>> - VWC and WUG seem to be the most common scheme management organizations. Their success rate in terms of pump functionality can be vital for assessing the effectiveness of community-driven water management.\n",
    ">>>> - This distribution can indicate which management schemes are more likely to maintain functional pumps."
   ]
  },
  {
   "cell_type": "markdown",
   "metadata": {},
   "source": [
    "#### Box Plots to understand the relationship between numerical features and `status_group`"
   ]
  },
  {
   "cell_type": "code",
   "execution_count": 8,
   "metadata": {},
   "outputs": [
    {
     "name": "stdout",
     "output_type": "stream",
     "text": [
      "Unique Categories of Status_group:\n",
      "['functional' 'non functional' 'functional needs repair']\n",
      "\n",
      "Amount_tsh Summary by Status_group:\n",
      "                           count        mean          std  min  25%  50%   75%       max\n",
      "status_group                                                                            \n",
      "functional               32259.0  461.798235  3889.735284  0.0  0.0  0.0  50.0  350000.0\n",
      "functional needs repair   4317.0  267.071577  1925.026420  0.0  0.0  0.0  50.0  100000.0\n",
      "non functional           22824.0  123.481230  1110.120571  0.0  0.0  0.0   0.0  117000.0\n",
      "\n"
     ]
    },
    {
     "data": {
      "image/png": "[encoded data removed]",
      "text/plain": [
       "<Figure size 864x432 with 1 Axes>"
      ]
     },
     "metadata": {
      "needs_background": "light"
     },
     "output_type": "display_data"
    },
    {
     "name": "stdout",
     "output_type": "stream",
     "text": [
      "Unique Categories of Status_group:\n",
      "['functional' 'non functional' 'functional needs repair']\n",
      "\n",
      "Population Summary by Status_group:\n",
      "                           count        mean         std  min  25%   50%    75%      max\n",
      "status_group                                                                            \n",
      "functional               32259.0  187.553303  513.198991  0.0  0.0  40.0  200.0  30500.0\n",
      "functional needs repair   4317.0  175.102154  433.033756  0.0  0.0  25.0  245.0  15300.0\n",
      "non functional           22824.0  170.016430  413.094978  0.0  0.0   1.0  230.0   9865.0\n",
      "\n"
     ]
    },
    {
     "data": {
      "image/png": "[encoded data removed]",
      "text/plain": [
       "<Figure size 864x432 with 1 Axes>"
      ]
     },
     "metadata": {
      "needs_background": "light"
     },
     "output_type": "display_data"
    }
   ],
   "source": [
    "# Define a function to plot box plots for numerical variables \n",
    "def plot_box(train_data, feature, target='status_group'):\n",
    "    # Print unique categories of the target variable\n",
    "    print(f\"Unique Categories of {target.capitalize()}:\")\n",
    "    print(train_data[target].unique())\n",
    "    print()\n",
    "    \n",
    "    # Print summary statistics of the feature by target variable\n",
    "    print(f\"{feature.capitalize()} Summary by {target.capitalize()}:\")\n",
    "    print(train_data.groupby(target)[feature].describe())\n",
    "    print()\n",
    "\n",
    "    # Plot the box plot\n",
    "    plt.figure(figsize=(12, 6))\n",
    "    sns.boxplot(data=train_data, x=target, y=feature, palette='viridis')\n",
    "    plt.title(f'{feature.capitalize()} Distribution by {target.capitalize()}')\n",
    "    plt.show()\n",
    "\n",
    "# Box plots for 'amount_tsh' and 'population'\n",
    "plot_box(train_data, 'amount_tsh')\n",
    "plot_box(train_data, 'population')\n",
    "\n"
   ]
  },
  {
   "cell_type": "markdown",
   "metadata": {},
   "source": [
    ">**Key Insights:**\n",
    ">> 1) Insights on `amount_tsh`:\n",
    ">>- The median for `functional` pumps is higher compared to othe rgroups. This may suggest that functional pumps tend to have more water available, whic indicates that these pumps are better maintained or located in areas with higher water availability.\n",
    ">>- The median for `non functional` pumps is significantly lower, suggesting a strong correlation between low water availability and pump failure.\n",
    ">> - There is also presence of outliers in `non functional` and `functional needs repair` pumps, This could represent pumps that have unusually high or low water amounts despite their `status_group`. This could be due to seasonal changes in weather.\n",
    ">>> 2) Insights on `population`:\n",
    ">>> - The median `population` served by functional pumps is higher compared to other groups. This implies that pumps serving larger populations are more likely to be `functional`, possibly due to prioritization of maintenance in areas with higher demand.\n",
    ">>> - The median `population` for `non functional` pumps is the lowests, indicating thst pumps serving smaller populations might be prone to neglect or failure\n",
    ">>> - We can also notice that for `non functional` pumps they have a narrower IQR which means that the pumps tend to serve smaller, more consistent population sizes, possibly in rural or less prioritized areas.\n",
    ">>> - There are outliers in the population data for all three groups, especially in the `functional` group. These outliers could represent pumps serving very large or very small populations, possibly due to extreme cases where a single pump is critical for a large community or only serves a small number of people due to geographic isolation."
   ]
  },
  {
   "cell_type": "markdown",
   "metadata": {},
   "source": [
    "# 3. Data Preparation"
   ]
  },
  {
   "cell_type": "markdown",
   "metadata": {},
   "source": [
    "In this section we will be preparing the data to address missing values, skewness and outliers, encooding of categorical variables and feature scaling"
   ]
  },
  {
   "cell_type": "markdown",
   "metadata": {},
   "source": [
    "#### Import the necessary packages"
   ]
  },
  {
   "cell_type": "code",
   "execution_count": 9,
   "metadata": {},
   "outputs": [],
   "source": [
    "import numpy as np\n",
    "from sklearn.preprocessing import OneHotEncoder, LabelEncoder\n",
    "from sklearn.preprocessing import MinMaxScaler"
   ]
  },
  {
   "cell_type": "markdown",
   "metadata": {},
   "source": [
    "#### Handle Missing Data\n",
    "I will call the function `missing_data_summary(train_data)` so that we can review the data that is missing."
   ]
  },
  {
   "cell_type": "code",
   "execution_count": 10,
   "metadata": {},
   "outputs": [
    {
     "name": "stdout",
     "output_type": "stream",
     "text": [
      "\n",
      "Missing Data by Count\n",
      "funder                3635\n",
      "installer             3655\n",
      "subvillage             371\n",
      "public_meeting        3334\n",
      "scheme_management     3877\n",
      "scheme_name          28166\n",
      "permit                3056\n",
      "dtype: int64\n",
      "\n",
      "Missing Data by Percentage\n",
      "funder                6.119529\n",
      "installer             6.153199\n",
      "subvillage            0.624579\n",
      "public_meeting        5.612795\n",
      "scheme_management     6.526936\n",
      "scheme_name          47.417508\n",
      "permit                5.144781\n",
      "dtype: float64\n"
     ]
    },
    {
     "data": {
      "image/png": "[encoded data removed]",
      "text/plain": [
       "<Figure size 720x432 with 1 Axes>"
      ]
     },
     "metadata": {
      "needs_background": "light"
     },
     "output_type": "display_data"
    },
    {
     "name": "stdout",
     "output_type": "stream",
     "text": [
      "\n",
      "\n",
      "\n",
      "Missing Data by Count\n",
      "funder                869\n",
      "installer             877\n",
      "subvillage             99\n",
      "public_meeting        821\n",
      "scheme_management     969\n",
      "scheme_name          7092\n",
      "permit                737\n",
      "dtype: int64\n",
      "\n",
      "Missing Data by Percentage\n",
      "funder                5.851852\n",
      "installer             5.905724\n",
      "subvillage            0.666667\n",
      "public_meeting        5.528620\n",
      "scheme_management     6.525253\n",
      "scheme_name          47.757576\n",
      "permit                4.962963\n",
      "dtype: float64\n"
     ]
    },
    {
     "data": {
      "image/png": "[encoded data removed]",
      "text/plain": [
       "<Figure size 720x432 with 1 Axes>"
      ]
     },
     "metadata": {
      "needs_background": "light"
     },
     "output_type": "display_data"
    }
   ],
   "source": [
    "data = train_data\n",
    "missing_data_summary(train_data)\n",
    "print(\"\\n\")\n",
    "data = test_data\n",
    "missing_data_summary(test_data)\n",
    "\n"
   ]
  },
  {
   "cell_type": "markdown",
   "metadata": {},
   "source": [
    "##### Handling Strategy "
   ]
  },
  {
   "cell_type": "markdown",
   "metadata": {},
   "source": [
    "1. From the above I can see that `scheme_name` has the highest percentage of missing data of 47.42%, so I have decided that I will drop the feature since almost half the values are missing. This will avoid introducing biasness in the model."
   ]
  },
  {
   "cell_type": "code",
   "execution_count": 11,
   "metadata": {},
   "outputs": [],
   "source": [
    "train_data.drop(columns=['scheme_name'], inplace=True)\n",
    "test_data.drop(columns=['scheme_name'], inplace=True)\n"
   ]
  },
  {
   "cell_type": "markdown",
   "metadata": {},
   "source": [
    "2. I will replace missing values of `funder` , `installer`,`subvillage`, `scheme_management` with 'Unknown' so that it indicates that the funders of those water points are Unknown"
   ]
  },
  {
   "cell_type": "code",
   "execution_count": 12,
   "metadata": {},
   "outputs": [
    {
     "name": "stdout",
     "output_type": "stream",
     "text": [
      "Missing values in 'amount_tsh': 0\n",
      "Missing values in 'population': 0\n"
     ]
    }
   ],
   "source": [
    "print(\"Missing values in 'amount_tsh':\", train_data['amount_tsh'].isnull().sum())\n",
    "print(\"Missing values in 'population':\", train_data['population'].isnull().sum())\n"
   ]
  },
  {
   "cell_type": "code",
   "execution_count": 13,
   "metadata": {},
   "outputs": [],
   "source": [
    "train_data['funder'].fillna('Unknown', inplace=True)\n",
    "train_data['installer'].fillna('Unknown', inplace=True)\n",
    "train_data['subvillage'].fillna('Unknown', inplace=True)\n",
    "train_data['scheme_management'].fillna('Unknown', inplace=True)\n",
    "\n",
    "\n",
    "test_data['funder'].fillna('Unknown', inplace=True)\n",
    "test_data['installer'].fillna('Unknown', inplace=True)\n",
    "test_data['subvillage'].fillna('Unknown', inplace=True)\n",
    "test_data['scheme_management'].fillna('Unknown', inplace=True)\n"
   ]
  },
  {
   "cell_type": "markdown",
   "metadata": {},
   "source": [
    "3. Since `permit` is a categorical feature that is either in True or False I will create a new binary feature that indicates whether the `permit` value was missing so that I can learn whether the inclusion of a permit increases the chances of better functioning water pump."
   ]
  },
  {
   "cell_type": "code",
   "execution_count": 14,
   "metadata": {},
   "outputs": [
    {
     "name": "stdout",
     "output_type": "stream",
     "text": [
      "Missing values in 'permit' in the training data: 0\n",
      "Missing values in 'permit' in the test data: 0\n"
     ]
    }
   ],
   "source": [
    "train_data['permit'].fillna(train_data['permit'].mode()[0], inplace=True)\n",
    "test_data['permit'].fillna(test_data['permit'].mode()[0], inplace=True)\n",
    "\n",
    "\n",
    "print(\"Missing values in 'permit' in the training data:\", train_data['permit'].isnull().sum())\n",
    "print(\"Missing values in 'permit' in the test data:\", test_data['permit'].isnull().sum())\n",
    "\n"
   ]
  },
  {
   "cell_type": "code",
   "execution_count": 15,
   "metadata": {},
   "outputs": [
    {
     "name": "stdout",
     "output_type": "stream",
     "text": [
      "Missing values in 'amount_tsh': 0\n",
      "Missing values in 'population': 0\n"
     ]
    }
   ],
   "source": [
    "print(\"Missing values in 'amount_tsh':\", train_data['amount_tsh'].isnull().sum())\n",
    "print(\"Missing values in 'population':\", train_data['population'].isnull().sum())\n"
   ]
  },
  {
   "cell_type": "markdown",
   "metadata": {},
   "source": [
    "4. For the `public_meeting` missing values I have replaced them the most occcuring values in the column"
   ]
  },
  {
   "cell_type": "code",
   "execution_count": 16,
   "metadata": {},
   "outputs": [],
   "source": [
    "train_data['public_meeting'].fillna(train_data['public_meeting'].mode()[0], inplace=True)\n",
    "test_data['public_meeting'].fillna(test_data['public_meeting'].mode()[0], inplace=True)\n"
   ]
  },
  {
   "cell_type": "markdown",
   "metadata": {},
   "source": [
    "##### Verification"
   ]
  },
  {
   "cell_type": "code",
   "execution_count": 17,
   "metadata": {},
   "outputs": [
    {
     "name": "stdout",
     "output_type": "stream",
     "text": [
      "Remaining Missing Values: 0\n"
     ]
    }
   ],
   "source": [
    "# Check for any remaining missing values\n",
    "missing_after = train_data.isnull().sum()\n",
    "missing_after = test_data.isnull().sum()\n",
    "\n",
    "\n",
    "# Filter out columns with missing values\n",
    "remaining_missing = missing_after[missing_after > 0]\n",
    "\n",
    "if remaining_missing.empty:\n",
    "    print(\"Remaining Missing Values: 0\")\n",
    "else:\n",
    "    print(\"Remaining Missing Values:\\n\", remaining_missing)\n"
   ]
  },
  {
   "cell_type": "markdown",
   "metadata": {},
   "source": [
    "#### Handling Skewness and Outliers"
   ]
  },
  {
   "cell_type": "markdown",
   "metadata": {},
   "source": [
    "##### Identify and Visualize skewness"
   ]
  },
  {
   "cell_type": "code",
   "execution_count": 18,
   "metadata": {},
   "outputs": [
    {
     "name": "stdout",
     "output_type": "stream",
     "text": [
      "Skewness of amount_tsh in the training data: 57.8077999458852\n",
      "Skewness of population in the training data: 12.660713588843592\n",
      "Skewness of amount_tsh in the test data: 43.85786088361004\n",
      "Skewness of population in the test data: 8.217148256491978\n"
     ]
    },
    {
     "data": {
      "image/png": "[encoded data removed]",
      "text/plain": [
       "<Figure size 432x288 with 1 Axes>"
      ]
     },
     "metadata": {
      "needs_background": "light"
     },
     "output_type": "display_data"
    },
    {
     "data": {
      "image/png": "[encoded data removed]",
      "text/plain": [
       "<Figure size 432x288 with 1 Axes>"
      ]
     },
     "metadata": {
      "needs_background": "light"
     },
     "output_type": "display_data"
    },
    {
     "data": {
      "image/png": "[encoded data removed]",
      "text/plain": [
       "<Figure size 432x288 with 1 Axes>"
      ]
     },
     "metadata": {
      "needs_background": "light"
     },
     "output_type": "display_data"
    },
    {
     "data": {
      "image/png": "[encoded data removed]",
      "text/plain": [
       "<Figure size 432x288 with 1 Axes>"
      ]
     },
     "metadata": {
      "needs_background": "light"
     },
     "output_type": "display_data"
    }
   ],
   "source": [
    "# Check skewness\n",
    "print(f\"Skewness of amount_tsh in the training data: {train_data['amount_tsh'].skew()}\")\n",
    "print(f\"Skewness of population in the training data: {train_data['population'].skew()}\")\n",
    "\n",
    "# Check skewness\n",
    "print(f\"Skewness of amount_tsh in the test data: {test_data['amount_tsh'].skew()}\")\n",
    "print(f\"Skewness of population in the test data: {test_data['population'].skew()}\")\n",
    "\n",
    "# Plot histograms\n",
    "train_data['amount_tsh'].hist(bins=50)\n",
    "plt.title('Distribution of amount_tsh in the training data')\n",
    "plt.show()\n",
    "\n",
    "train_data['population'].hist(bins=50)\n",
    "plt.title('Distribution of population in the training data')\n",
    "plt.show()\n",
    "\n",
    "# Plot histograms\n",
    "test_data['amount_tsh'].hist(bins=50)\n",
    "plt.title('Distribution of amount_tsh in the testing data')\n",
    "plt.show()\n",
    "\n",
    "test_data['population'].hist(bins=50)\n",
    "plt.title('Distribution of population in the testing data')\n",
    "plt.show()\n"
   ]
  },
  {
   "cell_type": "markdown",
   "metadata": {},
   "source": [
    "##### Apply Log Transformation\n",
    ">- Due to the high skewness of both `amount_tsh` and `population` I have decided to apply a log transformation on both features so as to normalize the distribution of these features."
   ]
  },
  {
   "cell_type": "code",
   "execution_count": 19,
   "metadata": {},
   "outputs": [
    {
     "name": "stdout",
     "output_type": "stream",
     "text": [
      "Skewness of log-transformed amount_tsh of the train_data: 1.3370903407288008\n",
      "Skewness of log-transformed population of the train_data: 0.1414983993018132\n",
      "Skewness of log-transformed amount_tsh of the test_data: 1.336826921282946\n",
      "Skewness of log-transformed population of the test_data: 0.1730538071726138\n"
     ]
    }
   ],
   "source": [
    "# Apply log1p transformation (log(1 + x)) to handle skewness\n",
    "train_data['amount_tsh_log'] = np.log1p(train_data['amount_tsh'])\n",
    "train_data['population_log'] = np.log1p(train_data['population'])\n",
    "\n",
    "# Check skewness after transformation\n",
    "print(f\"Skewness of log-transformed amount_tsh of the train_data: {train_data['amount_tsh_log'].skew()}\")\n",
    "print(f\"Skewness of log-transformed population of the train_data: {train_data['population_log'].skew()}\")\n",
    "\n",
    "# Apply log1p transformation (log(1 + x)) to handle skewness\n",
    "test_data['amount_tsh_log'] = np.log1p(test_data['amount_tsh'])\n",
    "test_data['population_log'] = np.log1p(test_data['population'])\n",
    "\n",
    "# Check skewness after transformation\n",
    "print(f\"Skewness of log-transformed amount_tsh of the test_data: {test_data['amount_tsh_log'].skew()}\")\n",
    "print(f\"Skewness of log-transformed population of the test_data: {test_data['population_log'].skew()}\")\n"
   ]
  },
  {
   "cell_type": "markdown",
   "metadata": {},
   "source": [
    "##### Verification"
   ]
  },
  {
   "cell_type": "code",
   "execution_count": 20,
   "metadata": {},
   "outputs": [
    {
     "data": {
      "image/png": "[encoded data removed]",
      "text/plain": [
       "<Figure size 432x288 with 1 Axes>"
      ]
     },
     "metadata": {
      "needs_background": "light"
     },
     "output_type": "display_data"
    },
    {
     "data": {
      "image/png": "[encoded data removed]",
      "text/plain": [
       "<Figure size 432x288 with 1 Axes>"
      ]
     },
     "metadata": {
      "needs_background": "light"
     },
     "output_type": "display_data"
    },
    {
     "data": {
      "image/png": "[encoded data removed]",
      "text/plain": [
       "<Figure size 432x288 with 1 Axes>"
      ]
     },
     "metadata": {
      "needs_background": "light"
     },
     "output_type": "display_data"
    },
    {
     "data": {
      "image/png": "[encoded data removed]",
      "text/plain": [
       "<Figure size 432x288 with 1 Axes>"
      ]
     },
     "metadata": {
      "needs_background": "light"
     },
     "output_type": "display_data"
    }
   ],
   "source": [
    "# Plot histograms to visualize the transformed distributions\n",
    "train_data['amount_tsh_log'].hist(bins=50)\n",
    "plt.title('Distribution of Log Transformed amount_tsh in the training data')\n",
    "plt.show()\n",
    "\n",
    "train_data['population_log'].hist(bins=50)\n",
    "plt.title('Distribution of Log Transformed population in the training data')\n",
    "plt.show()\n",
    "\n",
    "# Plot histograms to visualize the transformed distributions\n",
    "test_data['amount_tsh_log'].hist(bins=50)\n",
    "plt.title('Distribution of Log Transformed amount_tsh in the testing data')\n",
    "plt.show()\n",
    "\n",
    "test_data['population_log'].hist(bins=50)\n",
    "plt.title('Distribution of Log Transformed population in the testing data')\n",
    "plt.show()\n"
   ]
  },
  {
   "cell_type": "markdown",
   "metadata": {},
   "source": [
    "##### Handling Outliers"
   ]
  },
  {
   "cell_type": "code",
   "execution_count": 21,
   "metadata": {},
   "outputs": [],
   "source": [
    "# Function to remove outliers\n",
    "def remove_outliers(train_data, column):\n",
    "    Q1 = train_data[column].quantile(0.25)\n",
    "    Q3 = train_data[column].quantile(0.75)\n",
    "    IQR = Q3 - Q1\n",
    "    lower_bound = Q1 - 1.5 * IQR\n",
    "    upper_bound = Q3 + 1.5 * IQR\n",
    "    train_data = train_data[(train_data[column] >= lower_bound) & (train_data[column] <= upper_bound)]\n",
    "    return train_data\n",
    "\n",
    "# Remove outliers from the log-transformed columns\n",
    "train_data = remove_outliers(train_data, 'amount_tsh_log')\n",
    "train_data = remove_outliers(train_data, 'population_log')\n",
    "\n",
    "# Remove outliers from the log-transformed columns\n",
    "test_data = remove_outliers(test_data, 'amount_tsh_log')\n",
    "test_data = remove_outliers(test_data, 'population_log')"
   ]
  },
  {
   "cell_type": "markdown",
   "metadata": {},
   "source": [
    "##### Verification\n"
   ]
  },
  {
   "cell_type": "code",
   "execution_count": 22,
   "metadata": {},
   "outputs": [
    {
     "name": "stdout",
     "output_type": "stream",
     "text": [
      "Skewness of log-transformed amount_tsh after outlier removal of the train_data: 1.379494824458808\n",
      "Skewness of log-transformed population after outlier removal of the train_data: 0.15836927112689408\n",
      "Skewness of log-transformed amount_tsh after outlier removal of the test_data: 1.3476391273119728\n",
      "Skewness of log-transformed population after outlier removal of the test_data: 0.18498520326537424\n"
     ]
    }
   ],
   "source": [
    "# Recalculate skewness\n",
    "print(f\"Skewness of log-transformed amount_tsh after outlier removal of the train_data: {train_data['amount_tsh_log'].skew()}\")\n",
    "print(f\"Skewness of log-transformed population after outlier removal of the train_data: {train_data['population_log'].skew()}\")\n",
    "\n",
    "# Recalculate skewness\n",
    "print(f\"Skewness of log-transformed amount_tsh after outlier removal of the test_data: {test_data['amount_tsh_log'].skew()}\")\n",
    "print(f\"Skewness of log-transformed population after outlier removal of the test_data: {test_data['population_log'].skew()}\")\n"
   ]
  },
  {
   "cell_type": "markdown",
   "metadata": {},
   "source": [
    "#### Encoding Categorical Variables"
   ]
  },
  {
   "cell_type": "code",
   "execution_count": 23,
   "metadata": {},
   "outputs": [
    {
     "name": "stdout",
     "output_type": "stream",
     "text": [
      "Unique values for funder:\n",
      "['Grumeti' 'Lottery Club' 'Unicef' ... 'Dina' 'Brown' 'Samlo']\n",
      "\n",
      "Sample values for funder:\n",
      "                funder\n",
      "1              Grumeti\n",
      "2         Lottery Club\n",
      "3               Unicef\n",
      "4          Action In A\n",
      "5  Mkinga Distric Coun\n",
      "\n",
      "Unique values for installer:\n",
      "['GRUMETI' 'World vision' 'UNICEF' ... 'Dina' 'brown' 'SELEPTA']\n",
      "\n",
      "Sample values for installer:\n",
      "      installer\n",
      "1       GRUMETI\n",
      "2  World vision\n",
      "3        UNICEF\n",
      "4       Artisan\n",
      "5           DWE\n",
      "\n",
      "Unique values for scheme_management:\n",
      "['Other' 'VWC' 'Unknown' 'Private operator' 'WUG' 'Water Board' 'WUA'\n",
      " 'Water authority' 'Company' 'Parastatal' 'Trust' 'SWC' 'None']\n",
      "\n",
      "Sample values for scheme_management:\n",
      "  scheme_management\n",
      "1             Other\n",
      "2               VWC\n",
      "3               VWC\n",
      "4           Unknown\n",
      "5               VWC\n",
      "\n",
      "Unique values for permit:\n",
      "[ True False]\n",
      "\n",
      "Sample values for permit:\n",
      "   permit\n",
      "1    True\n",
      "2    True\n",
      "3    True\n",
      "4    True\n",
      "5    True\n",
      "\n",
      "Unique values for funder:\n",
      "['Dmdd' 'Government Of Tanzania' 'Unknown' 'Finn Water' 'Bruder' 'Finw'\n",
      " 'Unicef' 'Lawatefuka Water Supply' 'Germany Republi' 'World Vision'\n",
      " 'World Bank' 'Ministry Of Water' 'Danida'\n",
      " 'Rural Water Supply And Sanitat' '0' 'Dwe' 'Tasaf' 'Mwanashila'\n",
      " 'Tz Japan' 'Germany' 'Water' 'Dwsp' 'Bffs' 'Private Individual' 'Tlc'\n",
      " 'Mkinga Distric Coun' 'Nethalan' 'Jaica' 'Rotary Club' 'Morovian'\n",
      " 'Isf/government' 'Rc Church' 'Dwssp' 'Jica' 'Hesawa' 'Concern'\n",
      " 'People Of Japan' 'Solidarm' 'Kkkt' 'Adra' 'Rudep' 'Water Aid /sema' 'Rc'\n",
      " 'Kibaha Town Council' 'Idydc' 'Ki' 'African' 'Adp' 'Si' 'France' 'Kadp'\n",
      " 'Village Council/ Haydom Luther' 'Tdft' 'Norad' 'Rw Ssp' 'Franc' 'Rwssp'\n",
      " 'Wua' 'Unice' 'Ces (gmbh)' 'Fathe' 'Oikos E.Afrika' 'M'\n",
      " 'Plan International' 'Bsf' 'Mws' 'Kiliwater' 'Finland' 'Caritas' 'Fdc'\n",
      " 'Anglican Church' 'Tanza' 'African Development Bank' 'One Un' 'Commu'\n",
      " 'Shawasa' 'Aict' 'Magadini-makiwaru Water' 'Roman Church' 'Ddca' 'Hifab'\n",
      " 'Fini Water' 'Care/crc' 'Twesa' 'Ir' 'Tardo'\n",
      " 'Swisland/ Mount Meru Flowers' 'Shipo' 'Wateraid' 'Lga' 'Missi' 'Tcrs'\n",
      " 'Dh' 'Mission' 'Hsw' 'Ces(gmbh)' 'Kalitasi' 'Kuwait' 'Dolf Project'\n",
      " 'Roman Catholic' 'Muwsa' 'Tanzania And Egypt Cooperat'\n",
      " 'Kilindi District Co' 'Private' 'Dfid' 'Community' 'Gain' 'Kirdep'\n",
      " 'Padep' 'Hw/rc' 'Lwi' 'Wsdp' 'Nk' 'He' 'Tredep' 'Malec' 'Snv' 'Swiss If'\n",
      " 'Adb' 'Grail Mission' 'District Council' 'Halmashauri Ya Wilaya Sikonge'\n",
      " 'Irish Ai' 'St' 'Kiuma' 'Fin Water' 'Selous G' 'Isf' 'Hans' 'Undp' 'Wvt'\n",
      " 'Oxfarm' 'Kanisa La Menonite' 'Devon Aid Korogwe' 'Kirde' 'Machibya Guma'\n",
      " 'T' 'Handeni Trunk Main(' 'Mkinga  Distric Cou' 'Japan Food' 'Aimgold'\n",
      " 'Veo' 'Gtz' 'Jaic' 'Oxfam' 'Dhv' 'Oxfarm Gb' 'Mount Meru Flowers'\n",
      " 'Tassaf' 'Jbg' 'Olumuro' 'Sema' 'H' 'Mileniam Project'\n",
      " 'Care International' 'Il' 'Plan' 'Krf' 'Vttp' 'Roman' 'Cmcr' 'Adf' 'Co'\n",
      " 'Lench' 'Netherlands' 'Wananchi' 'European Union' 'Lvia'\n",
      " 'Concern World Wide' 'Fw' 'Kkkt_makwale' 'Qwickwin' 'Kidp' 'Sabemo'\n",
      " 'Kmcl' 'Action Aid' 'Sda' 'Government/ World Bank' 'Aco/germany'\n",
      " 'Msikiti' 'Dadis' 'Tanap' 'Ifad' 'Conce' 'Tober And Friends From Austral'\n",
      " 'Kuamu' 'Rc Ch' 'Tanapa' 'Clause' 'Rada' 'Dwspd' 'Romam Catholc/vil'\n",
      " 'Amref' 'Dasip' 'Plan Int' 'Tabora Municipal Council' 'Jika' 'Lifetime'\n",
      " 'Undp/ilo' 'Prf' 'Wwf' 'Magoma Adp' 'Go' 'Local' 'Uwamalu'\n",
      " 'Idara Ya Maji' 'Halmashauri Ya Wilaya' 'National Rural' 'Hpa'\n",
      " 'Mamlaka Ya Maji Ngara' 'Cobashec' 'Ncaa' 'Dwe/norad'\n",
      " 'Belgian Government' 'Japan Embassy' 'Tuwasa' 'Ox' 'Benguka' 'Vwc'\n",
      " 'Samsoni' 'Dhv\\\\norp' 'Finida German Tanzania Govt' 'Dwst'\n",
      " 'Longido Sec School' 'Ded' 'Shule' 'Ba As' 'Solidame' 'Dads' 'Tado'\n",
      " 'Donor' 'Ai' 'Roman Cathoric -kilomeni' 'Kyela Council'\n",
      " 'Action Contre La Faim' 'Serena' 'Zaben' 'Kaempo' 'Ministry Of Education'\n",
      " 'Md' 'Redep' 'Water User As' 'Twe' 'Dhv/gove' 'Serikali' 'W' 'Gen' 'Cdtf'\n",
      " 'Sinohydro' 'Tacare' 'Ga' 'Ramadhan Dau' 'Mdrdp' 'Bgm' 'No' 'Ka' 'Songas'\n",
      " 'Resolute Mining' 'Water Aid/dwe' 'Envirocare' 'Mbunge' 'W.D.&.I.'\n",
      " 'School' 'Swedish' 'Roman Cathoric-same' 'The Desk And Chair Foundati'\n",
      " 'Private Owned' 'Villagers' 'Idc' 'Kaemp' 'Abasia' 'Ru'\n",
      " 'China Government' 'Cmsr' 'Ripat' 'Water Of Water' 'Water Aid/sema'\n",
      " 'Tadepa' 'Kerebuka' 'Un' 'Churc' 'Ereto' 'Unicef/central'\n",
      " 'Village Committee' 'Rwsp' 'Childreach' 'Is' 'Kuwasa' 'Senapa'\n",
      " 'Serving And Friends' 'Eu/acra' 'Water /sema' 'Mzee Ole'\n",
      " 'Tulawaka Gold Mine' 'Uhai Wa Mama Na Mtoto' 'Unhcr' 'Marafip' 'Cdcg'\n",
      " 'Lwiji Italy' 'I Wash' 'Sowasa' 'Idea' 'New York General Meeting'\n",
      " 'St Savery Primary School' 'Aar' 'Government/ Community' 'W.B' 'Priva'\n",
      " 'Mrtc' 'Kyela-morogoro' 'Biore' 'Not Known' 'Usa Embassy'\n",
      " 'Reginald Mengi' 'Millenium' 'Po' 'Nsc' 'Friends Of Bariadi'\n",
      " 'Missionaries' 'Eagt Church' 'Ridep' 'Lotary Club' 'Colonial Government'\n",
      " 'Water User Group' 'Private Co' 'Cspd' 'Dimel' 'Pangaboi Health Centre'\n",
      " 'Kimkuma' 'Happy Watoto Foundation' 'Red Cross' 'Ta' 'Finland Government'\n",
      " 'Save The Rain Usa' 'Drwssp' 'Sida' 'Ics' 'Baptist Church' 'Mbiuwasa'\n",
      " 'Urt' 'Songea District Council' 'Islam' 'Wfp' 'Cg/rc'\n",
      " 'Mheza Distric Counc' 'Islamic Found' 'Bened' 'Cristan Outrich' 'Kidep'\n",
      " 'Losaa-kia Water Supply' 'Milenia' 'Nrwssp' 'Cocern' 'Laurian Rafaeli'\n",
      " 'Do' 'Crdb' 'Kanisa' 'Bahewasa' 'Lutheran Church' 'Nethe' 'Lamp'\n",
      " 'Ministry Of Healthy' 'Isaboga' 'Oikos E.Africa/european Union'\n",
      " 'Kkkt Church' 'Kalta' 'Pidp' 'Watu Wa Ujerumani'\n",
      " 'Koica And Tanzania Government' 'Quick Wings' 'World Vision/adra'\n",
      " 'Ustawi' 'Mwelia Estate' 'Wvt Nakombo Adp' 'Cipro/care'\n",
      " 'Government /tassaf' 'Vifafi' 'Tumaini Fund' 'Canada' 'Fpct Church'\n",
      " 'Rafik' 'Nchagwa' 'Mwaya Mn' 'Kkkt Imbaseny' 'Village Community' 'Samlo'\n",
      " 'Users' 'Msabi' 'Colonies' 'Global Fund' 'Cocen' 'Re' 'Dhv Moro'\n",
      " 'Village Council' 'H/w' 'Norad/government' 'Ham' 'Wua And Ded'\n",
      " 'Mzee Maisha' 'Mkuyu' 'Village Govt' 'Irevea Sister' 'Anrikana'\n",
      " 'Omary Dodo' 'Bank' 'Hewasa' 'Ndrdp' 'Makonde Water Supply' 'Panone'\n",
      " 'Serikari' 'Quick' 'Efg' 'Soda' 'Kanisa Katoliki Lolovoni' 'Mama'\n",
      " 'Teak Com' 'Summit For Water' 'Wd And Id' 'Tanzakesho' 'Filo' 'El'\n",
      " 'Water Board' 'Zara Camp' 'Peace Cope' 'Kyariga' 'Imf' 'Tltc' 'Ms'\n",
      " 'Mwanasukari' 'Ubalozi Wa Marekani/dwe' 'Cefa' 'Nytamboka' 'Jimbo Fund'\n",
      " 'Elct' 'Sekei Village Community' 'Ngiresi Village Community'\n",
      " 'Institution' 'Simmors' 'Acra' 'Sdg' 'Nduku Village' 'Islamic' 'Asb'\n",
      " 'Bulyahunlu Gold Mine' 'Makonde Water Population' 'World Vision/ Kkkt'\n",
      " 'Grumeti' 'Killflora' 'Lgdcg' 'Domestic Rural Development Pro' 'Unise'\n",
      " 'Answar' 'Japan' 'Cg' 'Rc Church/centr' 'Holland' 'Women For Partnership'\n",
      " 'Dasap' 'Norad/ Kidep' 'Miziriol' 'Mi' 'Msf' 'B.A.P' 'Usaid' 'Asdp'\n",
      " 'Watoto Foundation' 'Zao Water Spring' 'D' 'Menon'\n",
      " 'Songea Municipal Counci' 'Maendeleo Ya Maji' 'Lgcd' 'African Relie'\n",
      " 'Acord' 'Umfaiswary' 'Maxavella' 'Nakayama' 'The Isla' 'Sijm' 'Bs'\n",
      " 'Lottery Club' 'Giz' 'Greinaker' 'Kwik' 'Halmashauri' 'Luthe' 'Mkukuta'\n",
      " 'Ilo' 'Village' 'Oldadai Village Community' 'Kwa Cheon Rotary Club'\n",
      " 'Heswa' 'Umoja Makanisa Pentekoste Tz' 'Rc/mission' 'De' 'Dw' 'Ilct'\n",
      " 'Isf/tacare' 'Bakari Hamisi' 'Desk And Chair Foundation' 'Dct'\n",
      " 'Adp Mombo' 'Kilomber' 'Wamisionari Wa Kikatoriki' 'Villager'\n",
      " 'Tassaf/ Danida' 'African Development Foundation' 'Duwas' 'Moravian'\n",
      " 'Tirdo' 'W.D &' 'Cipro' 'Chamavita' 'Mzinga A' 'Tridep' 'School Capital'\n",
      " 'Kiwanda Cha Samaki' 'Finwater' 'Songa Hospi' 'Loliondo Secondary'\n",
      " 'Unicef/cspd' 'Kilwater' 'British Colonial Government' 'Rdc' 'Wfp/tnt'\n",
      " 'Halmashauri Ya Manispa Tabora' 'Uniceffinidagermantanzania' 'Tassaf Ii'\n",
      " 'Quwkwin' 'African 2000 Network' 'Mzee Moh' 'Nipon & Panoco'\n",
      " 'Mlolwa Masanja' 'Lips' \"Park Kyung Youl's\" 'Total Landcare' 'Shekh Said'\n",
      " 'Jeica' 'Suwasa' 'Cafod' 'Roman Cathoric Same'\n",
      " 'The Desk And Chair Foundat' 'Sswp' 'Cbhi' 'Sumbawanga Munici' 'Rentobe'\n",
      " 'Tag Church Vi' 'Total Land Care' 'Quick Wins' 'S.S.S' 'Lgcdg' 'Partage'\n",
      " 'Vcw' 'African Muslim Agency' 'Rc Churc' 'Peters' 'Stantons'\n",
      " 'Roman Catholic Rulenge Diocese' 'Tambalizeni' 'Hiap' 'Mh An' 'Netherla'\n",
      " 'Makundya' 'Tom' 'Salim Ahmed Salim' 'Plan Internatio'\n",
      " 'Water User Associat' 'Tassaf I' 'Mtuwasa And Community' 'Migration'\n",
      " 'Simavi' 'Sant Sigfrigs Sweden' 'British Tanza' 'Nazareth Church'\n",
      " 'Maji Mugumu' 'Halmashauri Ya Manispaa' 'Kkkt Usa' 'Particular' 'Mons.'\n",
      " 'Wfp/usaid' 'Dbfpe' 'Tasaf/dmdd' 'Rotery C' 'Wards' 'Kigoma Municipal'\n",
      " 'Sister Francis' 'Ndanda Missions' 'Mzungu Paul' 'Tanroad' 'Obc'\n",
      " 'Dar Al Ber' 'Craelius' 'Pad' 'Snv-swash' 'Tgts' 'Fida'\n",
      " 'Cipro/government' 'Ebaha' 'Finidagermantanzania Govt' 'Daids' 'Iado'\n",
      " 'Germany Misionary' 'Mmem' 'Anjuman E Seifee' 'Vunjo Sekondari' 'Mosque'\n",
      " 'Jandu' 'Wrssp' 'Pmo' 'Italy' 'Idara Ya Afya' 'Wizara' 'Brad' 'Council'\n",
      " 'Holla' 'Mowi' 'Sao H' 'Danida /government' 'Rudep/dwe' 'Wwf / Fores'\n",
      " 'Lcgd' 'Redcross' 'Goldfinder' 'Tasafu' 'Mahiti' 'A/co Germany'\n",
      " 'Geita Goldmain' 'Sangea District Council' 'Isingiro Ho' 'Acord Ngo'\n",
      " 'Government/tassaf' 'Moroil' 'Kijij' 'Woyege' 'Miomb' 'Magoma Adpvwc'\n",
      " 'Africare' 'Heaswa' 'Tahea' 'Kanute Haule' 'Bi Ndizi'\n",
      " 'School Administration' 'Tasaf/village Community' 'Belgij' 'Marwa'\n",
      " 'Wingeti Safari' 'Stabex' 'Nicodemu Mkumbw' 'Waingereza' 'Kulwa'\n",
      " 'Bi Kidawa' 'Lengai Makoo' 'Mtuwasa' 'Village Government'\n",
      " 'Private Institutions' 'Rcchurch/cefa' 'Serian' 'Cefa/ Rc Church' 'Aveda'\n",
      " 'Wate Aid/sema' 'Rished' 'Dwe And Veo' 'Koica' 'Sipdo' 'Concern /govern'\n",
      " 'Kinapa' 'Cpro' 'Kibwana Maumba' 'German Missionary' 'Private Manager'\n",
      " 'Lions' 'Robert' 'Cuso' 'Water Project Mbawala Chini' 'Lowasa' 'Scott'\n",
      " 'Free Pentecoste Church Of Tanz' 'Aic' 'Us Embassy'\n",
      " 'Tcrs/village Community' 'Childreach International' 'Local Government'\n",
      " 'Mbunnge Mkono' 'Mgolole' 'Secondary' 'Hesawz' 'Robert Loyal' 'Colon'\n",
      " 'People From Japan' 'Mwika Lekura Water User' 'Mwang' 'Mdc' 'P'\n",
      " 'H/kijiji' 'Christian Outrich' 'Ch' 'Hemed Islam' 'Rwssp/wsdp' 'Baric'\n",
      " 'Trachoma' 'Mac' 'Salim Aliamari' 'Tlc/community' 'Losakia Water Supply'\n",
      " 'Railway' 'Kibo Brewaries' 'Mwita Muremi' 'Tackle'\n",
      " 'Eung-am Methodist Church' 'Af' 'Omari Abdallah' 'None' 'Norplan'\n",
      " 'The People Of Japan' 'Dassip' 'Lgsp/dwe' 'Trach' 'Mapinga Prima'\n",
      " 'World Bank/government' 'Socie' 'C' 'Tag' 'Kanisa La Kkt'\n",
      " 'Olgilai Village Community' 'Lawate Fuka Water Suppl' 'U.S.A' 'Sabodo'\n",
      " 'Moyowosi' 'Living Water International' 'Lions Club' 'Dak' 'Rcchurch'\n",
      " 'Hima' 'Member Of Parliament' 'Wise-usa' 'Mzee Chacha' 'Bridge North'\n",
      " 'Sengerema District Council' 'Fpct' 'Norad /government' 'Makori Nyitange'\n",
      " 'Villegers' 'Hesaw' 'Kkkt Kolila' 'Regional Water Engineer Arusha'\n",
      " 'Matimo Sangi' 'Ubalozi Wa Marekani' 'Tarangire Park'\n",
      " 'Rural Drinking Water Supply' 'Maji Mengi' 'Redeso' 'Private Company'\n",
      " 'Mboma' 'Semaki K' 'Italy Government' 'Mlifa' 'Fico' 'Peter Tesha'\n",
      " 'Tanzania/australia' 'Bgss' 'Mhema' 'Angrikana' 'Lakailo'\n",
      " 'Friends Of Kahama' 'Roman Ca' 'Rulenge Diocese' 'Mosha'\n",
      " 'Jumuiya Ya Dar Al Ber_uae' 'Kazipombe' 'Totoland' 'Nazareti' 'Kijiji'\n",
      " 'Aljazera' 'Ci' 'Colony' 'Omary Issa' 'Wfp/usaid/tnt' 'Rc Mission'\n",
      " 'Tanzania Na Egypt' 'G.D&i.D' 'Kkkt-dioces Ya Pare' 'Pentecosta Church'\n",
      " 'Mwanga Town Water Authority' 'Eu' 'Lobosiret Village Community'\n",
      " 'Ilkeri Village' 'Greec' 'Mem' 'Lga And The Commu' 'In'\n",
      " 'Cdtfdistrict Council' 'Mwakipesile' 'Roman Cathoric' 'Ccm' 'Menonite'\n",
      " 'Makonde' 'Village Authority' 'Rc Cathoric' 'Mosque Bugula' 'Q-sem Ltd'\n",
      " 'Magati' 'Bandika Kilewa' 'Abd' 'Kagera' 'Morrevian'\n",
      " 'Uniceffinida German Tanzani' 'Diocese Of Geita' 'Anyemike'\n",
      " 'Gachuma Ginery' 'Pod' 'Ras' 'Tanzania' 'Nyabasamba' 'Rundu Man'\n",
      " 'Rural Water Supply And Sanita' 'Wazieni Bilangali' 'Snv Ltd' 'Dioce'\n",
      " 'Leef Gold Mining' 'Iwash' 'Swedish Tandala Project'\n",
      " 'Rural Water Department' 'Dasp' 'Mzee Shekhe' 'Mosque Pera' 'Minis'\n",
      " 'Hapa Singida' 'Diwani Maige' 'Fredked Conservation' 'Ngo Kinapa' 'Nddp'\n",
      " 'Saboga Bise Makori' 'Bfwd' 'Mgaya' 'Morrovian' 'Mzee Matiti Edwin'\n",
      " 'Government/julius' 'Ba' 'Bingi Foundation In German' 'Ola'\n",
      " 'Kinapa Canada' 'Ballo' 'Nado' 'Finland Government Finland Gov'\n",
      " 'Ikela Wa' 'Dacip' 'Ihehana' 'W0rld  Bank' 'Oxfam Gb' 'Old Bank'\n",
      " 'Tcrs /care' 'Rotary I' 'Mamad' 'Mh Kapuya' 'Kome Parish' 'Act' 'Mambe'\n",
      " 'Singida Yetu' 'Shabani Mharami' 'Quickwi' 'Eagt'\n",
      " 'Swisland/mount Meru Flowers' 'Udc/sema' 'School Adm9nstrarion' 'Trc'\n",
      " 'Mjaka Mtumwa' 'Halmashauli' 'Schoo' 'Kkkt Mso' 'Jgb'\n",
      " 'Haydom Lutheran Hospital' 'Moslem Foundation' 'Mukwabi Nyeisa'\n",
      " 'Matyenye' 'Othodox Church' 'Undp/aict' 'Dmdd/solider' 'Odc'\n",
      " 'Danida /wsdp' 'Tanzania Nea Egypt' 'Cct' 'Magufudi' 'Solar Villa'\n",
      " 'Drdp Ngo' 'Mianz' 'Bint' 'Mbozi District Council' 'Said A Alf'\n",
      " 'Sikonge Copper Mi' 'Tanzania Christian Service' 'Farm 17 Secondary'\n",
      " 'Scharnhorstgymnasium' 'Williamson Diamond Ltd' 'Patrick Marwa' 'Norlad'\n",
      " 'Said Nassoro' 'Father Bonifasi' 'Sharot' 'Ddp' 'Muslims' 'Kkkt Church S'\n",
      " 'Farm' 'Khanga' 'Nyanokwi' 'Agness' 'Heasawa' 'Nzige' 'Iucn'\n",
      " 'Tcrs /government' 'Village Gover' 'Adap' 'The Vickrey Well'\n",
      " 'Lench Talamaye' 'Ilolangulu Water Supply/mileni' 'Guje Olsson' 'Crs'\n",
      " 'Ruben Hunting' 'Medicine Lumundi' 'Bi Chau' 'Ngos' 'Cpps Wat'\n",
      " 'Ded And Priva' 'Idc-ihushi Dev Centre' 'Seronera' 'Seleman' 'Father W'\n",
      " 'Rural Water Supply' 'Maidia Simgaya' 'Dhv/comm' 'Vodacom' 'Kyagoka'\n",
      " 'Marsfip' 'Villa' 'Qwiqwi' 'Cipro/care/tcrs' 'Nyamongo Gold Mining'\n",
      " 'Abdul' 'Floresta' 'Chiko In' 'Parastatal' 'Kwiboni' 'Tasmin'\n",
      " 'Dwsp & Central Government' 'Cocu' 'Chacha' 'Kingupira S' 'Rafael'\n",
      " 'Japan Government' 'Mkumbukwa' 'Isg' 'Dmk' 'Poland Sec School'\n",
      " 'Att/total Land Care' 'Missio' 'Ji-eun' 'Tz/japan Embass' 'Pancra I'\n",
      " 'Kashwas' 'Kcu' 'Unesco' 'Tomas Kasmil' 'Pataji' 'Ulanga C'\n",
      " 'Hadija Makame' 'Mombia' 'Canaco' 'Banane' 'Lcdg' 'Serikali Ya Kijiji'\n",
      " 'Nyamigogo' 'Village Fou' 'Velem' 'Livin']\n",
      "\n",
      "Sample values for funder:\n",
      "                   funder\n",
      "0                    Dmdd\n",
      "1  Government Of Tanzania\n",
      "2                 Unknown\n",
      "3              Finn Water\n",
      "4                  Bruder\n",
      "\n",
      "Unique values for installer:\n",
      "['DMDD' 'DWE' 'Unknown' ... 'O &' 'Central government/TLC' 'LIVI']\n",
      "\n",
      "Sample values for installer:\n",
      "    installer\n",
      "0        DMDD\n",
      "1         DWE\n",
      "2     Unknown\n",
      "3  FINN WATER\n",
      "4      BRUDER\n",
      "\n",
      "Unique values for scheme_management:\n",
      "['Parastatal' 'VWC' 'Water Board' 'Unknown' 'Other' 'SWC' 'WUG' 'WUA'\n",
      " 'Water authority' 'Company' 'Private operator' 'Trust']\n",
      "\n",
      "Sample values for scheme_management:\n",
      "  scheme_management\n",
      "0        Parastatal\n",
      "1               VWC\n",
      "2               VWC\n",
      "3               VWC\n",
      "4       Water Board\n",
      "\n",
      "Unique values for permit:\n",
      "[ True False]\n",
      "\n",
      "Sample values for permit:\n",
      "   permit\n",
      "0    True\n",
      "1    True\n",
      "2    True\n",
      "3    True\n",
      "4    True\n",
      "\n"
     ]
    }
   ],
   "source": [
    "def data_of_categorical_features(data, features):\n",
    "\n",
    "  for feature in features:\n",
    "    print(f\"Unique values for {feature}:\")\n",
    "    print(data[feature].unique())\n",
    "    print()\n",
    "\n",
    "    print(f\"Sample values for {feature}:\")\n",
    "    print(data[[feature]].head())\n",
    "    print()\n",
    "    \n",
    "categorical_features = ['funder', 'installer', 'scheme_management', 'permit']\n",
    "data_of_categorical_features(train_data, categorical_features)\n",
    "data_of_categorical_features(test_data, categorical_features)"
   ]
  },
  {
   "cell_type": "markdown",
   "metadata": {},
   "source": [
    "From the above output, I have decided to use the following techniques of encoding as follows:"
   ]
  },
  {
   "cell_type": "markdown",
   "metadata": {},
   "source": [
    "##### One-Hot Encoding features `funder`, `installer` and `scheme_management`\n",
    ">- This is because the above features have many unique values. One-Hot Encoding is suitable when handling categorical variables with multiple distinct values.\n",
    "> - I realized from the above that `funder` and `installer` have high cardinality, meaning that they have many categories which would lead to high memory usage and sparse data.\n",
    ">>- To address this I will include Frequency Encoding to deal with the high cardinality."
   ]
  },
  {
   "cell_type": "markdown",
   "metadata": {},
   "source": [
    "##### Frequency Encoding for Training Data"
   ]
  },
  {
   "cell_type": "code",
   "execution_count": 24,
   "metadata": {},
   "outputs": [
    {
     "name": "stdout",
     "output_type": "stream",
     "text": [
      "   funder_encoded  installer_encoded  scheme_management_encoded\n",
      "1              53                 39                        765\n",
      "2               8                408                      35440\n",
      "3             990                183                      35440\n",
      "4               1                135                       3863\n",
      "5             150              16848                      35440\n",
      "   funder_encoded  installer_encoded  scheme_management_encoded\n",
      "0           162.0               83.0                       1612\n",
      "1          8910.0            16848.0                      35440\n",
      "2          3616.0             3635.0                      35440\n",
      "3            33.0               33.0                      35440\n",
      "4            16.0               16.0                       2716\n"
     ]
    }
   ],
   "source": [
    "# Frequency Encoding for 'funder'\n",
    "funder_freq = train_data['funder'].value_counts()\n",
    "train_data['funder_encoded'] = train_data['funder'].map(funder_freq)\n",
    "test_data['funder_encoded'] = test_data['funder'].map(funder_freq)\n",
    "\n",
    "# Frequency Encoding for 'installer'\n",
    "installer_freq = train_data['installer'].value_counts()\n",
    "train_data['installer_encoded'] = train_data['installer'].map(installer_freq)\n",
    "test_data['installer_encoded'] = test_data['installer'].map(installer_freq)\n",
    "\n",
    "# Frequency Encoding for 'scheme_management'\n",
    "scheme_management_freq = train_data['scheme_management'].value_counts()\n",
    "train_data['scheme_management_encoded'] = train_data['scheme_management'].map(scheme_management_freq)\n",
    "test_data['scheme_management_encoded'] = test_data['scheme_management'].map(scheme_management_freq)\n",
    "\n",
    "# Check the first few rows to verify the encoding\n",
    "print(train_data[['funder_encoded', 'installer_encoded', 'scheme_management_encoded']].head())\n",
    "print(test_data[['funder_encoded', 'installer_encoded', 'scheme_management_encoded']].head())\n"
   ]
  },
  {
   "cell_type": "markdown",
   "metadata": {},
   "source": [
    "##### Handle Missing Categorical Values"
   ]
  },
  {
   "cell_type": "code",
   "execution_count": 25,
   "metadata": {},
   "outputs": [],
   "source": [
    "# Filling missing values after encoding (optional step based on strategy)\n",
    "train_data['funder_encoded'].fillna(0, inplace=True)\n",
    "test_data['funder_encoded'].fillna(0, inplace=True)\n",
    "\n",
    "train_data['installer_encoded'].fillna(0, inplace=True)\n",
    "test_data['installer_encoded'].fillna(0, inplace=True)\n",
    "\n",
    "train_data['scheme_management_encoded'].fillna(0, inplace=True)\n",
    "test_data['scheme_management_encoded'].fillna(0, inplace=True)\n"
   ]
  },
  {
   "cell_type": "markdown",
   "metadata": {},
   "source": [
    "##### Drop Original Categorical Columns"
   ]
  },
  {
   "cell_type": "code",
   "execution_count": 26,
   "metadata": {},
   "outputs": [
    {
     "name": "stdout",
     "output_type": "stream",
     "text": [
      "      id  amount_tsh date_recorded  gps_height  longitude   latitude              wpt_name  num_private                    basin   subvillage   region  region_code  district_code        lga        ward  population  public_meeting              recorded_by  permit  construction_year extraction_type extraction_type_group extraction_type_class management management_group         payment payment_type water_quality quality_group      quantity quantity_group                source           source_type source_class              waterpoint_type waterpoint_type_group    status_group  amount_tsh_log  population_log  funder_encoded  installer_encoded  scheme_management_encoded\n",
      "1   8776         0.0    2013-03-06        1399  34.698766  -2.147466              Zahanati            0            Lake Victoria      Nyamara     Mara           20              2  Serengeti       Natta         280            True  GeoData Consultants Ltd    True               2010         gravity               gravity               gravity        wug       user-group       never pay    never pay          soft          good  insufficient   insufficient  rainwater harvesting  rainwater harvesting      surface           communal standpipe    communal standpipe      functional        0.000000        5.638355              53                 39                        765\n",
      "2  34310        25.0    2013-02-25         686  37.460664  -3.821329           Kwa Mahundi            0                  Pangani      Majengo  Manyara           21              4  Simanjiro     Ngorika         250            True  GeoData Consultants Ltd    True               2009         gravity               gravity               gravity        vwc       user-group  pay per bucket   per bucket          soft          good        enough         enough                   dam                   dam      surface  communal standpipe multiple    communal standpipe      functional        3.258097        5.525453               8                408                      35440\n",
      "3  67743         0.0    2013-01-28         263  38.486161 -11.155298  Zahanati Ya Nanyumbu            0  Ruvuma / Southern Coast   Mahakamani   Mtwara           90             63   Nanyumbu    Nanyumbu          58            True  GeoData Consultants Ltd    True               1986     submersible           submersible           submersible        vwc       user-group       never pay    never pay          soft          good           dry            dry           machine dbh              borehole  groundwater  communal standpipe multiple    communal standpipe  non functional        0.000000        4.077537             990                183                      35440\n",
      "4  19728         0.0    2011-07-13           0  31.130847  -1.825359               Shuleni            0            Lake Victoria   Kyanyamisa   Kagera           18              1    Karagwe  Nyakasimbi           0            True  GeoData Consultants Ltd    True                  0         gravity               gravity               gravity      other            other       never pay    never pay          soft          good      seasonal       seasonal  rainwater harvesting  rainwater harvesting      surface           communal standpipe    communal standpipe      functional        0.000000        0.000000               1                135                       3863\n",
      "5   9944        20.0    2011-03-13           0  39.172796  -4.765587                Tajiri            0                  Pangani  Moa/Mwereme    Tanga            4              8     Mkinga         Moa           1            True  GeoData Consultants Ltd    True               2009     submersible           submersible           submersible        vwc       user-group  pay per bucket   per bucket         salty         salty        enough         enough                 other                 other      unknown  communal standpipe multiple    communal standpipe      functional        3.044522        0.693147             150              16848                      35440\n",
      "      id  amount_tsh date_recorded  gps_height  longitude   latitude                 wpt_name  num_private                    basin  subvillage   region  region_code  district_code            lga          ward  population  public_meeting              recorded_by  permit  construction_year extraction_type extraction_type_group extraction_type_class   management management_group      payment payment_type water_quality quality_group      quantity quantity_group                source           source_type source_class     waterpoint_type waterpoint_type_group  amount_tsh_log  population_log  funder_encoded  installer_encoded  scheme_management_encoded\n",
      "0  50785         0.0    2013-02-04        1996  35.290799  -4.059696  Dinamu Secondary School            0                 Internal      Magoma  Manyara           21              3          Mbulu        Bashay         321            True  GeoData Consultants Ltd    True               2012           other                 other                 other   parastatal       parastatal    never pay    never pay          soft          good      seasonal       seasonal  rainwater harvesting  rainwater harvesting      surface               other                 other        0.000000        5.774552           162.0               83.0                       1612\n",
      "1  51630         0.0    2013-02-04        1569  36.656709  -3.309214                  Kimnyak            0                  Pangani     Kimnyak   Arusha            2              2   Arusha Rural      Kimnyaki         300            True  GeoData Consultants Ltd    True               2000         gravity               gravity               gravity          vwc       user-group    never pay    never pay          soft          good  insufficient   insufficient                spring                spring  groundwater  communal standpipe    communal standpipe        0.000000        5.707110          8910.0            16848.0                      35440\n",
      "2  17168         0.0    2013-02-01        1567  34.767863  -5.004344           Puma Secondary            0                 Internal       Msatu  Singida           13              2  Singida Rural          Puma         500            True  GeoData Consultants Ltd    True               2010           other                 other                 other          vwc       user-group    never pay    never pay          soft          good  insufficient   insufficient  rainwater harvesting  rainwater harvesting      surface               other                 other        0.000000        6.216606          3616.0             3635.0                      35440\n",
      "3  45559         0.0    2013-01-22         267  38.058046  -9.418672           Kwa Mzee Pange            0  Ruvuma / Southern Coast  Kipindimbi    Lindi           80             43         Liwale       Mkutano         250            True  GeoData Consultants Ltd    True               1987           other                 other                 other          vwc       user-group      unknown      unknown          soft          good           dry            dry          shallow well          shallow well  groundwater               other                 other        0.000000        5.525453            33.0               33.0                      35440\n",
      "4  49871       500.0    2013-03-27        1260  35.006123 -10.950412          Kwa Mzee Turuka            0  Ruvuma / Southern Coast     Losonga   Ruvuma           10              3         Mbinga  Mbinga Urban          60            True  GeoData Consultants Ltd    True               2000         gravity               gravity               gravity  water board       user-group  pay monthly      monthly          soft          good        enough         enough                spring                spring  groundwater  communal standpipe    communal standpipe        6.216606        4.110874            16.0               16.0                       2716\n"
     ]
    }
   ],
   "source": [
    "# Drop original columns after encoding\n",
    "train_data.drop(columns=['funder', 'installer', 'scheme_management'], inplace=True)\n",
    "test_data.drop(columns=['funder', 'installer', 'scheme_management'], inplace=True)\n",
    "\n",
    "# Check the final structure\n",
    "print(train_data.head())\n",
    "print(test_data.head())\n"
   ]
  },
  {
   "cell_type": "markdown",
   "metadata": {},
   "source": [
    "##### Label Encoding feature `permit` and `permit_missing`\n",
    ">- Since `permit` and `permit_missing` have values based on True or False, it is easier to encode it with Label Encoding. This allows the feture to represent 1 as True and 0 as False."
   ]
  },
  {
   "cell_type": "code",
   "execution_count": 27,
   "metadata": {},
   "outputs": [],
   "source": [
    "# Binary Encoding \n",
    "\n",
    "label_encoder = LabelEncoder()\n",
    "train_data['permit_encoded'] = label_encoder.fit_transform(train_data['permit'])\n",
    "# Create 'permit_missing' column\n",
    "train_data['permit_missing'] = train_data['permit'].isnull().astype(int)\n",
    "train_data['permit_missing'] = train_data['permit_missing'].astype(int)\n",
    "\n",
    "test_data['permit_encoded'] = label_encoder.fit_transform(test_data['permit'])\n",
    "# Create 'permit_missing' column\n",
    "test_data['permit_missing'] = test_data['permit'].isnull().astype(int)\n",
    "test_data['permit_missing'] = test_data['permit_missing'].astype(int)"
   ]
  },
  {
   "cell_type": "markdown",
   "metadata": {},
   "source": [
    "#### Verification"
   ]
  },
  {
   "cell_type": "code",
   "execution_count": 28,
   "metadata": {},
   "outputs": [
    {
     "name": "stdout",
     "output_type": "stream",
     "text": [
      "      id  amount_tsh date_recorded  gps_height  longitude   latitude              wpt_name  num_private                    basin   subvillage   region  region_code  district_code        lga        ward  population  public_meeting              recorded_by  permit  construction_year extraction_type extraction_type_group extraction_type_class management management_group         payment payment_type water_quality quality_group      quantity quantity_group                source           source_type source_class              waterpoint_type waterpoint_type_group    status_group  amount_tsh_log  population_log  funder_encoded  installer_encoded  scheme_management_encoded  permit_encoded  permit_missing\n",
      "1   8776         0.0    2013-03-06        1399  34.698766  -2.147466              Zahanati            0            Lake Victoria      Nyamara     Mara           20              2  Serengeti       Natta         280            True  GeoData Consultants Ltd    True               2010         gravity               gravity               gravity        wug       user-group       never pay    never pay          soft          good  insufficient   insufficient  rainwater harvesting  rainwater harvesting      surface           communal standpipe    communal standpipe      functional        0.000000        5.638355              53                 39                        765               1               0\n",
      "2  34310        25.0    2013-02-25         686  37.460664  -3.821329           Kwa Mahundi            0                  Pangani      Majengo  Manyara           21              4  Simanjiro     Ngorika         250            True  GeoData Consultants Ltd    True               2009         gravity               gravity               gravity        vwc       user-group  pay per bucket   per bucket          soft          good        enough         enough                   dam                   dam      surface  communal standpipe multiple    communal standpipe      functional        3.258097        5.525453               8                408                      35440               1               0\n",
      "3  67743         0.0    2013-01-28         263  38.486161 -11.155298  Zahanati Ya Nanyumbu            0  Ruvuma / Southern Coast   Mahakamani   Mtwara           90             63   Nanyumbu    Nanyumbu          58            True  GeoData Consultants Ltd    True               1986     submersible           submersible           submersible        vwc       user-group       never pay    never pay          soft          good           dry            dry           machine dbh              borehole  groundwater  communal standpipe multiple    communal standpipe  non functional        0.000000        4.077537             990                183                      35440               1               0\n",
      "4  19728         0.0    2011-07-13           0  31.130847  -1.825359               Shuleni            0            Lake Victoria   Kyanyamisa   Kagera           18              1    Karagwe  Nyakasimbi           0            True  GeoData Consultants Ltd    True                  0         gravity               gravity               gravity      other            other       never pay    never pay          soft          good      seasonal       seasonal  rainwater harvesting  rainwater harvesting      surface           communal standpipe    communal standpipe      functional        0.000000        0.000000               1                135                       3863               1               0\n",
      "5   9944        20.0    2011-03-13           0  39.172796  -4.765587                Tajiri            0                  Pangani  Moa/Mwereme    Tanga            4              8     Mkinga         Moa           1            True  GeoData Consultants Ltd    True               2009     submersible           submersible           submersible        vwc       user-group  pay per bucket   per bucket         salty         salty        enough         enough                 other                 other      unknown  communal standpipe multiple    communal standpipe      functional        3.044522        0.693147             150              16848                      35440               1               0\n",
      "      id  amount_tsh date_recorded  gps_height  longitude   latitude                 wpt_name  num_private                    basin  subvillage   region  region_code  district_code            lga          ward  population  public_meeting              recorded_by  permit  construction_year extraction_type extraction_type_group extraction_type_class   management management_group      payment payment_type water_quality quality_group      quantity quantity_group                source           source_type source_class     waterpoint_type waterpoint_type_group  amount_tsh_log  population_log  funder_encoded  installer_encoded  scheme_management_encoded  permit_encoded  permit_missing\n",
      "0  50785         0.0    2013-02-04        1996  35.290799  -4.059696  Dinamu Secondary School            0                 Internal      Magoma  Manyara           21              3          Mbulu        Bashay         321            True  GeoData Consultants Ltd    True               2012           other                 other                 other   parastatal       parastatal    never pay    never pay          soft          good      seasonal       seasonal  rainwater harvesting  rainwater harvesting      surface               other                 other        0.000000        5.774552           162.0               83.0                       1612               1               0\n",
      "1  51630         0.0    2013-02-04        1569  36.656709  -3.309214                  Kimnyak            0                  Pangani     Kimnyak   Arusha            2              2   Arusha Rural      Kimnyaki         300            True  GeoData Consultants Ltd    True               2000         gravity               gravity               gravity          vwc       user-group    never pay    never pay          soft          good  insufficient   insufficient                spring                spring  groundwater  communal standpipe    communal standpipe        0.000000        5.707110          8910.0            16848.0                      35440               1               0\n",
      "2  17168         0.0    2013-02-01        1567  34.767863  -5.004344           Puma Secondary            0                 Internal       Msatu  Singida           13              2  Singida Rural          Puma         500            True  GeoData Consultants Ltd    True               2010           other                 other                 other          vwc       user-group    never pay    never pay          soft          good  insufficient   insufficient  rainwater harvesting  rainwater harvesting      surface               other                 other        0.000000        6.216606          3616.0             3635.0                      35440               1               0\n",
      "3  45559         0.0    2013-01-22         267  38.058046  -9.418672           Kwa Mzee Pange            0  Ruvuma / Southern Coast  Kipindimbi    Lindi           80             43         Liwale       Mkutano         250            True  GeoData Consultants Ltd    True               1987           other                 other                 other          vwc       user-group      unknown      unknown          soft          good           dry            dry          shallow well          shallow well  groundwater               other                 other        0.000000        5.525453            33.0               33.0                      35440               1               0\n",
      "4  49871       500.0    2013-03-27        1260  35.006123 -10.950412          Kwa Mzee Turuka            0  Ruvuma / Southern Coast     Losonga   Ruvuma           10              3         Mbinga  Mbinga Urban          60            True  GeoData Consultants Ltd    True               2000         gravity               gravity               gravity  water board       user-group  pay monthly      monthly          soft          good        enough         enough                spring                spring  groundwater  communal standpipe    communal standpipe        6.216606        4.110874            16.0               16.0                       2716               1               0\n"
     ]
    }
   ],
   "source": [
    "# Check the transformed data\n",
    "print(train_data.head())\n",
    "print(test_data.head())\n"
   ]
  },
  {
   "cell_type": "markdown",
   "metadata": {},
   "source": [
    "#### Feature Scaling"
   ]
  },
  {
   "cell_type": "code",
   "execution_count": 29,
   "metadata": {},
   "outputs": [
    {
     "name": "stdout",
     "output_type": "stream",
     "text": [
      "Scaled 'amount_tsh' in train data:\n",
      " 1    0.0000\n",
      "2    0.0125\n",
      "3    0.0000\n",
      "4    0.0000\n",
      "5    0.0100\n",
      "Name: amount_tsh, dtype: float64\n",
      "Scaled 'population' in train data:\n",
      " 1    0.009180\n",
      "2    0.008197\n",
      "3    0.001902\n",
      "4    0.000000\n",
      "5    0.000033\n",
      "Name: population, dtype: float64\n",
      "Scaled 'amount_tsh' in test data:\n",
      " 0    0.00\n",
      "1    0.00\n",
      "2    0.00\n",
      "3    0.00\n",
      "4    0.25\n",
      "Name: amount_tsh, dtype: float64\n",
      "Scaled 'population' in test data:\n",
      " 0    0.010525\n",
      "1    0.009836\n",
      "2    0.016393\n",
      "3    0.008197\n",
      "4    0.001967\n",
      "Name: population, dtype: float64\n"
     ]
    }
   ],
   "source": [
    "# Select the numerical features\n",
    "numerical_features = ['amount_tsh', 'population']\n",
    "\n",
    "# Convert the columns to numeric data type, handling potential errors\n",
    "for feature in numerical_features:\n",
    "    train_data[feature] = pd.to_numeric(train_data[feature], errors='coerce')\n",
    "    test_data[feature] = pd.to_numeric(test_data[feature], errors='coerce')\n",
    "\n",
    "# Fill missing values with appropriate strategies\n",
    "train_data['amount_tsh'].fillna(0, inplace=True)\n",
    "train_data['population'].fillna(train_data['population'].median(), inplace=True)\n",
    "\n",
    "# Apply MinMaxScaler to the numerical features\n",
    "scaler = MinMaxScaler()\n",
    "train_data[numerical_features] = scaler.fit_transform(train_data[numerical_features])\n",
    "test_data[numerical_features] = scaler.transform(test_data[numerical_features])\n",
    "\n",
    "# Check the scaled values\n",
    "print(\"Scaled 'amount_tsh' in train data:\\n\", train_data['amount_tsh'].head())\n",
    "print(\"Scaled 'population' in train data:\\n\", train_data['population'].head())\n",
    "\n",
    "print(\"Scaled 'amount_tsh' in test data:\\n\", test_data['amount_tsh'].head())\n",
    "print(\"Scaled 'population' in test data:\\n\", test_data['population'].head())"
   ]
  },
  {
   "cell_type": "markdown",
   "metadata": {},
   "source": [
    "> I have chosen to use Min-Max scaler to scale `amount_tsh` and `population` because I want ti retain the relative differences in the data but in a smaller scale"
   ]
  },
  {
   "cell_type": "markdown",
   "metadata": {},
   "source": [
    "#### Encoding of Target Variable"
   ]
  },
  {
   "cell_type": "code",
   "execution_count": 30,
   "metadata": {},
   "outputs": [
    {
     "name": "stdout",
     "output_type": "stream",
     "text": [
      "Classes and their encoded values: {'functional': 0, 'functional needs repair': 1, 'non functional': 2}\n",
      "      id  amount_tsh date_recorded  gps_height  longitude   latitude              wpt_name  num_private                    basin   subvillage   region  region_code  district_code        lga        ward  population  public_meeting              recorded_by  permit  construction_year extraction_type extraction_type_group extraction_type_class management management_group         payment payment_type water_quality quality_group      quantity quantity_group                source           source_type source_class              waterpoint_type waterpoint_type_group    status_group  amount_tsh_log  population_log  funder_encoded  installer_encoded  scheme_management_encoded  permit_encoded  permit_missing\n",
      "1   8776      0.0000    2013-03-06        1399  34.698766  -2.147466              Zahanati            0            Lake Victoria      Nyamara     Mara           20              2  Serengeti       Natta    0.009180            True  GeoData Consultants Ltd    True               2010         gravity               gravity               gravity        wug       user-group       never pay    never pay          soft          good  insufficient   insufficient  rainwater harvesting  rainwater harvesting      surface           communal standpipe    communal standpipe      functional        0.000000        5.638355              53                 39                        765               1               0\n",
      "2  34310      0.0125    2013-02-25         686  37.460664  -3.821329           Kwa Mahundi            0                  Pangani      Majengo  Manyara           21              4  Simanjiro     Ngorika    0.008197            True  GeoData Consultants Ltd    True               2009         gravity               gravity               gravity        vwc       user-group  pay per bucket   per bucket          soft          good        enough         enough                   dam                   dam      surface  communal standpipe multiple    communal standpipe      functional        3.258097        5.525453               8                408                      35440               1               0\n",
      "3  67743      0.0000    2013-01-28         263  38.486161 -11.155298  Zahanati Ya Nanyumbu            0  Ruvuma / Southern Coast   Mahakamani   Mtwara           90             63   Nanyumbu    Nanyumbu    0.001902            True  GeoData Consultants Ltd    True               1986     submersible           submersible           submersible        vwc       user-group       never pay    never pay          soft          good           dry            dry           machine dbh              borehole  groundwater  communal standpipe multiple    communal standpipe  non functional        0.000000        4.077537             990                183                      35440               1               0\n",
      "4  19728      0.0000    2011-07-13           0  31.130847  -1.825359               Shuleni            0            Lake Victoria   Kyanyamisa   Kagera           18              1    Karagwe  Nyakasimbi    0.000000            True  GeoData Consultants Ltd    True                  0         gravity               gravity               gravity      other            other       never pay    never pay          soft          good      seasonal       seasonal  rainwater harvesting  rainwater harvesting      surface           communal standpipe    communal standpipe      functional        0.000000        0.000000               1                135                       3863               1               0\n",
      "5   9944      0.0100    2011-03-13           0  39.172796  -4.765587                Tajiri            0                  Pangani  Moa/Mwereme    Tanga            4              8     Mkinga         Moa    0.000033            True  GeoData Consultants Ltd    True               2009     submersible           submersible           submersible        vwc       user-group  pay per bucket   per bucket         salty         salty        enough         enough                 other                 other      unknown  communal standpipe multiple    communal standpipe      functional        3.044522        0.693147             150              16848                      35440               1               0\n",
      "      id  amount_tsh date_recorded  gps_height  longitude   latitude                 wpt_name  num_private                    basin  subvillage   region  region_code  district_code            lga          ward  population  public_meeting              recorded_by  permit  construction_year extraction_type extraction_type_group extraction_type_class   management management_group      payment payment_type water_quality quality_group      quantity quantity_group                source           source_type source_class     waterpoint_type waterpoint_type_group  amount_tsh_log  population_log  funder_encoded  installer_encoded  scheme_management_encoded  permit_encoded  permit_missing\n",
      "0  50785        0.00    2013-02-04        1996  35.290799  -4.059696  Dinamu Secondary School            0                 Internal      Magoma  Manyara           21              3          Mbulu        Bashay    0.010525            True  GeoData Consultants Ltd    True               2012           other                 other                 other   parastatal       parastatal    never pay    never pay          soft          good      seasonal       seasonal  rainwater harvesting  rainwater harvesting      surface               other                 other        0.000000        5.774552           162.0               83.0                       1612               1               0\n",
      "1  51630        0.00    2013-02-04        1569  36.656709  -3.309214                  Kimnyak            0                  Pangani     Kimnyak   Arusha            2              2   Arusha Rural      Kimnyaki    0.009836            True  GeoData Consultants Ltd    True               2000         gravity               gravity               gravity          vwc       user-group    never pay    never pay          soft          good  insufficient   insufficient                spring                spring  groundwater  communal standpipe    communal standpipe        0.000000        5.707110          8910.0            16848.0                      35440               1               0\n",
      "2  17168        0.00    2013-02-01        1567  34.767863  -5.004344           Puma Secondary            0                 Internal       Msatu  Singida           13              2  Singida Rural          Puma    0.016393            True  GeoData Consultants Ltd    True               2010           other                 other                 other          vwc       user-group    never pay    never pay          soft          good  insufficient   insufficient  rainwater harvesting  rainwater harvesting      surface               other                 other        0.000000        6.216606          3616.0             3635.0                      35440               1               0\n",
      "3  45559        0.00    2013-01-22         267  38.058046  -9.418672           Kwa Mzee Pange            0  Ruvuma / Southern Coast  Kipindimbi    Lindi           80             43         Liwale       Mkutano    0.008197            True  GeoData Consultants Ltd    True               1987           other                 other                 other          vwc       user-group      unknown      unknown          soft          good           dry            dry          shallow well          shallow well  groundwater               other                 other        0.000000        5.525453            33.0               33.0                      35440               1               0\n",
      "4  49871        0.25    2013-03-27        1260  35.006123 -10.950412          Kwa Mzee Turuka            0  Ruvuma / Southern Coast     Losonga   Ruvuma           10              3         Mbinga  Mbinga Urban    0.001967            True  GeoData Consultants Ltd    True               2000         gravity               gravity               gravity  water board       user-group  pay monthly      monthly          soft          good        enough         enough                spring                spring  groundwater  communal standpipe    communal standpipe        6.216606        4.110874            16.0               16.0                       2716               1               0\n"
     ]
    }
   ],
   "source": [
    "label_encoder = LabelEncoder()\n",
    "\n",
    "# Fit and transform the target variable\n",
    "train_labels['status_group_encoded'] = label_encoder.fit_transform(train_labels['status_group'])\n",
    "\n",
    "# Check the unique classes and their corresponding encoded values\n",
    "print(\"Classes and their encoded values:\", dict(zip(label_encoder.classes_, label_encoder.transform(label_encoder.classes_))))\n",
    "# Check the transformed data\n",
    "print(train_data.head())\n",
    "print(test_data.head())"
   ]
  },
  {
   "cell_type": "markdown",
   "metadata": {},
   "source": [
    "> - It is important to encode the target variable `status_group` because it contains categorical values and for modeling to be successful all categorical features being used in the project need to be changed to numerical values."
   ]
  },
  {
   "cell_type": "markdown",
   "metadata": {},
   "source": [
    "#### Feature Selection"
   ]
  },
  {
   "cell_type": "markdown",
   "metadata": {},
   "source": [
    ">- From the above I have chosen the following features as my predictors while my predicted value is `train_data['status_group_encoded']`:\n",
    ">>1. `funder_encoded`\n",
    ">>2. `installer_encoded`\n",
    ">>3. `scheme_management_encoded`\n",
    ">>4. `permit_encoded`\n",
    ">>5. `permit_missing`\n",
    ">>6. `amount_tsh`\n",
    ">>7. `population`\n"
   ]
  },
  {
   "cell_type": "markdown",
   "metadata": {},
   "source": [
    "# 4. Modeling"
   ]
  },
  {
   "cell_type": "markdown",
   "metadata": {},
   "source": [
    "#### Importing necessary packages"
   ]
  },
  {
   "cell_type": "code",
   "execution_count": 39,
   "metadata": {},
   "outputs": [],
   "source": [
    "from sklearn.model_selection import train_test_split\n",
    "from sklearn.linear_model import LogisticRegression\n",
    "from sklearn.tree import DecisionTreeClassifier\n",
    "from sklearn.ensemble import RandomForestClassifier\n",
    "from sklearn.metrics import classification_report, accuracy_score, confusion_matrix, ConfusionMatrixDisplay\n",
    "from sklearn.model_selection import RandomizedSearchCV\n",
    "from sklearn.model_selection import cross_val_score\n",
    "from collections import Counter"
   ]
  },
  {
   "cell_type": "markdown",
   "metadata": {},
   "source": [
    "#### Preparing features for training"
   ]
  },
  {
   "cell_type": "code",
   "execution_count": 32,
   "metadata": {},
   "outputs": [
    {
     "name": "stdout",
     "output_type": "stream",
     "text": [
      "Shape of X: (57589, 7)\n",
      "Shape of y: (57589,)\n"
     ]
    }
   ],
   "source": [
    "# Merge train_data with train_labels on 'id'\n",
    "train_data = train_data.merge(train_labels, on='id')\n",
    "\n",
    "# Define features and target variable\n",
    "X = train_data[['funder_encoded', 'installer_encoded', 'scheme_management_encoded', 'permit_encoded', 'permit_missing', 'amount_tsh', 'population']]\n",
    "y = train_data['status_group_encoded']\n",
    "\n",
    "# Define features for the test data\n",
    "# X_test = test_data[['funder_encoded', 'installer_encoded', 'scheme_management_encoded', 'permit_encoded', 'permit_missing', 'amount_tsh', 'population']]\n",
    "\n",
    "\n",
    "# Check for any discrepancies\n",
    "print(\"Shape of X:\", X.shape)\n",
    "print(\"Shape of y:\", y.shape)"
   ]
  },
  {
   "cell_type": "markdown",
   "metadata": {},
   "source": [
    "#### Splitting Data"
   ]
  },
  {
   "cell_type": "markdown",
   "metadata": {},
   "source": [
    "> - Currently my data is already split into train_data and test_data. However I will split it further so that I can be able to validate my model and ensure that it performs well.\n",
    ">- This involves splitting the `train_data` into two: for training and for validation. "
   ]
  },
  {
   "cell_type": "code",
   "execution_count": 33,
   "metadata": {},
   "outputs": [],
   "source": [
    "# Split the data into training and validation sets\n",
    "X_train, X_val, y_train, y_val = train_test_split(X, y, test_size=0.2, random_state=42)  # 20% for validation"
   ]
  },
  {
   "cell_type": "markdown",
   "metadata": {},
   "source": [
    ">For the above I will use:\n",
    "> - `X_train` and `y_train` to train my models.\n",
    "> - `X_val` and `y_val` to validate my models.\n",
    "> - `test_data` to make predictions on my final model\n",
    "\n"
   ]
  },
  {
   "cell_type": "markdown",
   "metadata": {},
   "source": [
    "#### Baseline Model - Logistic Regression"
   ]
  },
  {
   "cell_type": "code",
   "execution_count": 46,
   "metadata": {},
   "outputs": [
    {
     "name": "stdout",
     "output_type": "stream",
     "text": [
      "Logistic Regression Model:\n",
      "Accuracy Score: 0.5235283903455461\n",
      "Classification Report:\n",
      "               precision    recall  f1-score   support\n",
      "\n",
      "           0       0.55      0.82      0.65      6123\n",
      "           1       0.00      0.00      0.00       900\n",
      "           2       0.44      0.23      0.30      4495\n",
      "\n",
      "    accuracy                           0.52     11518\n",
      "   macro avg       0.33      0.35      0.32     11518\n",
      "weighted avg       0.46      0.52      0.47     11518\n",
      "\n"
     ]
    },
    {
     "name": "stderr",
     "output_type": "stream",
     "text": [
      "c:\\Users\\HP\\anaconda3\\envs\\learn-env\\lib\\site-packages\\sklearn\\metrics\\_classification.py:1471: UndefinedMetricWarning: Precision and F-score are ill-defined and being set to 0.0 in labels with no predicted samples. Use `zero_division` parameter to control this behavior.\n",
      "  _warn_prf(average, modifier, msg_start, len(result))\n",
      "c:\\Users\\HP\\anaconda3\\envs\\learn-env\\lib\\site-packages\\sklearn\\metrics\\_classification.py:1471: UndefinedMetricWarning: Precision and F-score are ill-defined and being set to 0.0 in labels with no predicted samples. Use `zero_division` parameter to control this behavior.\n",
      "  _warn_prf(average, modifier, msg_start, len(result))\n",
      "c:\\Users\\HP\\anaconda3\\envs\\learn-env\\lib\\site-packages\\sklearn\\metrics\\_classification.py:1471: UndefinedMetricWarning: Precision and F-score are ill-defined and being set to 0.0 in labels with no predicted samples. Use `zero_division` parameter to control this behavior.\n",
      "  _warn_prf(average, modifier, msg_start, len(result))\n"
     ]
    },
    {
     "data": {
      "image/png": "[encoded data removed]",
      "text/plain": [
       "<Figure size 432x288 with 2 Axes>"
      ]
     },
     "metadata": {
      "needs_background": "light"
     },
     "output_type": "display_data"
    }
   ],
   "source": [
    "# Initialize the model\n",
    "logistic_model = LogisticRegression(max_iter=1000, random_state=42)\n",
    "\n",
    "# Train the model\n",
    "logistic_model.fit(X_train, y_train)\n",
    "\n",
    "# Make predictions\n",
    "y_val_pred = logistic_model.predict(X_val)\n",
    "\n",
    "# Evaluate the model\n",
    "print(\"Logistic Regression Model:\")\n",
    "print(\"Accuracy Score:\", accuracy_score(y_val, y_val_pred))\n",
    "print(\"Classification Report:\\n\", classification_report(y_val, y_val_pred))\n",
    "\n",
    "\n",
    "# Generate the confusion matrix\n",
    "cm = confusion_matrix(y_val, y_val_pred)\n",
    "\n",
    "# Plot the confusion matrix\n",
    "disp = ConfusionMatrixDisplay(confusion_matrix=cm, display_labels=logistic_model.classes_)\n",
    "disp.plot(cmap=plt.cm.Blues)\n",
    "plt.title(\"Confusion Matrix - Logistic Regression\")\n",
    "plt.show()\n",
    "\n"
   ]
  },
  {
   "cell_type": "markdown",
   "metadata": {},
   "source": [
    ">**Key Evaluation Insights**\n",
    "> - I got an accuracy 0.52. This means that my baseline model was able to correctly classify 52.35% of the water pumps into either functional, non functional and those that need repair.\n",
    "\n",
    "> - When I encoded the `status_group` to `status_group_encoded` for modeling purposes: \n",
    ">>- functional was changed to `0`\n",
    ">>- functional that needs repair was changed to `1`\n",
    ">>- non functional was changed to `2`\n",
    "> - From the above I can see that 55% of the instances predicted as functional pumps. 0% of the instances predicted as functional that needs repair and 44% of the instances predicted as non functional.\n",
    "\n",
    "> - I can also gather from the above that 82% of the instances correctly identified functional pumps, 0% correctly identified functional that needs repair pumps and 23% correctly identified non functional pumps.\n",
    "> - I've also realised that the baseline model is not predicting class 1 (functional that needs repair pumps) well.\n",
    "\n"
   ]
  },
  {
   "cell_type": "markdown",
   "metadata": {},
   "source": [
    "> **General Observations**\n",
    ">- From the baseline model above it is evident that class 1(functional that needs repair) pumps is performing poorly on my model based on the precision, recall and F1-score being 0.\n",
    ">- This may be because that the class is being underrepresented thus the model is not learning enough about it."
   ]
  },
  {
   "cell_type": "markdown",
   "metadata": {},
   "source": [
    "#### Second Model - Decision Tree"
   ]
  },
  {
   "cell_type": "code",
   "execution_count": 47,
   "metadata": {},
   "outputs": [
    {
     "name": "stdout",
     "output_type": "stream",
     "text": [
      "Decision Tree Accuracy Score: 0.6607049835040806\n",
      "Decision Tree Classification Report:\n",
      "               precision    recall  f1-score   support\n",
      "\n",
      "           0       0.68      0.78      0.73      6123\n",
      "           1       0.30      0.13      0.18       900\n",
      "           2       0.66      0.61      0.63      4495\n",
      "\n",
      "    accuracy                           0.66     11518\n",
      "   macro avg       0.55      0.50      0.51     11518\n",
      "weighted avg       0.64      0.66      0.65     11518\n",
      "\n"
     ]
    },
    {
     "data": {
      "image/png": "[encoded data removed]",
      "text/plain": [
       "<Figure size 432x288 with 2 Axes>"
      ]
     },
     "metadata": {
      "needs_background": "light"
     },
     "output_type": "display_data"
    }
   ],
   "source": [
    "# Initialize and train Decision Tree\n",
    "decision_tree_model = DecisionTreeClassifier(random_state=42)\n",
    "decision_tree_model.fit(X_train, y_train)\n",
    "\n",
    "# Predict on the validation set\n",
    "y_pred_tree = decision_tree_model.predict(X_val)\n",
    "print(\"Decision Tree Accuracy Score:\", accuracy_score(y_val, y_pred_tree))\n",
    "print(\"Decision Tree Classification Report:\\n\", classification_report(y_val, y_pred_tree))\n",
    "\n",
    "# Generate the confusion matrix\n",
    "cm = confusion_matrix(y_val, y_pred_tree)\n",
    "\n",
    "# Plot the confusion matrix\n",
    "disp = ConfusionMatrixDisplay(confusion_matrix=cm, display_labels=logistic_model.classes_)\n",
    "disp.plot(cmap=plt.cm.Blues)\n",
    "plt.title(\"Confusion Matrix - Decision Tree\")\n",
    "plt.show()"
   ]
  },
  {
   "cell_type": "markdown",
   "metadata": {},
   "source": [
    ">**Key Evaluation Insights**\n",
    "> - I got an accuracy 0.66. This means that my baseline model was able to correctly classify 66% of the water pumps into either functional, non functional and those that need repair.\n",
    "\n",
    "> - When I encoded the `status_group` to `status_group_encoded` for modeling purposes: \n",
    ">>- functional was changed to `0`\n",
    ">>- functional that needs repair was changed to `1`\n",
    ">>- non functional was changed to `2`\n",
    "> - From the above I can see that 68% of the instances predicted as functional pumps. 30% of the instances predicted as functional that needs repair and 66% of the instances predicted as non functional.\n",
    "\n",
    "> - I can also gather from the above that 78% of the instances correctly identified functional pumps, 13% correctly identified functional that needs repair pumps and 61% correctly identified non functional pumps.\n",
    "> - I've also realised that the baseline model is not predicting class 1 (functional that needs repair pumps) well"
   ]
  },
  {
   "cell_type": "markdown",
   "metadata": {},
   "source": [
    ">**Comaprisons between Logistic Regression Model and Decision Tree**\n",
    "> - Decision Tree outperforms Logistic Regression in terms of accuracy.\n",
    "> - Decision Tree performs slightly better with predicting class 1 (functional that needs repair) with a precision of 30% and a recall of 13% as compared to Logistic Regression both of which scored 0%"
   ]
  },
  {
   "cell_type": "markdown",
   "metadata": {},
   "source": [
    "#### Third Model - Random Forest"
   ]
  },
  {
   "cell_type": "code",
   "execution_count": 48,
   "metadata": {},
   "outputs": [
    {
     "name": "stdout",
     "output_type": "stream",
     "text": [
      "Random Forest Accuracy Score: 0.6739885396770272\n",
      "Random Forest Classification Report:\n",
      "               precision    recall  f1-score   support\n",
      "\n",
      "           0       0.70      0.78      0.74      6123\n",
      "           1       0.34      0.13      0.18       900\n",
      "           2       0.66      0.63      0.65      4495\n",
      "\n",
      "    accuracy                           0.67     11518\n",
      "   macro avg       0.57      0.51      0.52     11518\n",
      "weighted avg       0.66      0.67      0.66     11518\n",
      "\n"
     ]
    },
    {
     "data": {
      "image/png": "[encoded data removed]",
      "text/plain": [
       "<Figure size 432x288 with 2 Axes>"
      ]
     },
     "metadata": {
      "needs_background": "light"
     },
     "output_type": "display_data"
    }
   ],
   "source": [
    "# Initialize and fit the Random Forest model\n",
    "rf_model = RandomForestClassifier(random_state=42)\n",
    "rf_model.fit(X_train, y_train)\n",
    "\n",
    "# Predict on the validation set\n",
    "y_val_pred_rf = rf_model.predict(X_val)\n",
    "\n",
    "# Evaluate the Random Forest model\n",
    "rf_accuracy = accuracy_score(y_val, y_val_pred_rf)\n",
    "rf_classification_report = classification_report(y_val, y_val_pred_rf)\n",
    "\n",
    "print(f\"Random Forest Accuracy Score: {rf_accuracy}\")\n",
    "print(\"Random Forest Classification Report:\\n\", rf_classification_report)\n",
    "\n",
    "# Generate the confusion matrix\n",
    "cm = confusion_matrix(y_val, y_val_pred_rf)\n",
    "\n",
    "# Plot the confusion matrix\n",
    "disp = ConfusionMatrixDisplay(confusion_matrix=cm, display_labels=logistic_model.classes_)\n",
    "disp.plot(cmap=plt.cm.Blues)\n",
    "plt.title(\"Confusion Matrix - Random Forest\")\n",
    "plt.show()"
   ]
  },
  {
   "cell_type": "markdown",
   "metadata": {},
   "source": [
    ">**Key Evaluation Insights**\n",
    "> - I got an accuracy 0.67. This means that my baseline model was able to correctly classify 67% of the water pumps into either functional, non functional and those that need repair.\n",
    "\n",
    "> - When I encoded the `status_group` to `status_group_encoded` for modeling purposes: \n",
    ">>- functional was changed to `0`\n",
    ">>- functional that needs repair was changed to `1`\n",
    ">>- non functional was changed to `2`\n",
    "> - From the above I can see that 70% of the instances predicted as functional pumps. 34% of the instances predicted as functional that needs repair and 66% of the instances predicted as non functional.\n",
    "\n",
    "> - I can also gather from the above that 78% of the instances correctly identified functional pumps, 13% correctly identified functional that needs repair pumps and 63% correctly identified non functional pumps.\n",
    "> - I've also realised that the baseline model is not predicting class 1 (functional that needs repair pumps) well"
   ]
  },
  {
   "cell_type": "markdown",
   "metadata": {},
   "source": [
    ">**Comaprisons between Logistic Regression Model, Decision Tree & Random Forest**\n",
    ">- Random Forest has the highest accuracy of (0.6740), which indicates better overall peformance in predicting the target variable.\n",
    ">- Random Forest also has the best performance in precison, recall and F1-score."
   ]
  },
  {
   "cell_type": "markdown",
   "metadata": {},
   "source": [
    "#### Hyperparemter Tuning"
   ]
  },
  {
   "cell_type": "markdown",
   "metadata": {},
   "source": [
    ">- Based on the comparisons of my three models above, I have decided to proceed with Random Forest Model since it has given us the best results.\n",
    ">- I will refine the model using GridSearch so as to optimize the model's performance."
   ]
  },
  {
   "cell_type": "code",
   "execution_count": 37,
   "metadata": {},
   "outputs": [],
   "source": [
    "# # Define the parameter grid for Random Search\n",
    "# param_dist = {\n",
    "#     'n_estimators': [100, 200, 300, 400, 500],\n",
    "#     'max_depth': [None, 10, 20, 30, 40],\n",
    "#     'min_samples_split': [2, 5, 10, 15],\n",
    "#     'min_samples_leaf': [1, 2, 4, 6]\n",
    "# }\n",
    "\n",
    "# # Initialize the Random Forest model\n",
    "# rf_model = RandomForestClassifier(random_state=42)\n",
    "\n",
    "# # Set up Randomized Search\n",
    "# random_search = RandomizedSearchCV(estimator=rf_model, param_distributions=param_dist, n_iter=50, cv=5, scoring='accuracy', n_jobs=-1, verbose=2, random_state=42)\n",
    "\n",
    "# # Fit Randomized Search to the training data\n",
    "# random_search.fit(X_train, y_train)\n",
    "\n",
    "# # Get the best parameters and the best score\n",
    "# best_params_random = random_search.best_params_\n",
    "# best_score_random = random_search.best_score_\n",
    "\n",
    "# print(\"Best Parameters from Random Search:\", best_params_random)\n",
    "# print(\"Best Score (Accuracy) from Random Search:\", best_score_random)\n",
    "\n",
    "# # Predict on the validation set using the best model\n",
    "# best_rf_model_random = random_search.best_estimator_\n",
    "# y_val_pred_rf_random = best_rf_model_random.predict(X_val)\n",
    "\n",
    "# # Evaluate the Random Forest model from Random Search\n",
    "# rf_accuracy_random = accuracy_score(y_val, y_val_pred_rf_random)\n",
    "# rf_classification_report_random = classification_report(y_val, y_val_pred_rf_random)\n",
    "\n",
    "# print(f\"Tuned Random Forest Accuracy Score (Random Search): {rf_accuracy_random}\")\n",
    "# print(\"Tuned Random Forest Classification Report (Random Search):\\n\", rf_classification_report_random)"
   ]
  },
  {
   "cell_type": "markdown",
   "metadata": {},
   "source": [
    "> Tried using hyper-parameter tuning but it didn't work effectively"
   ]
  },
  {
   "cell_type": "markdown",
   "metadata": {},
   "source": [
    "#### Cross- Validation"
   ]
  },
  {
   "cell_type": "markdown",
   "metadata": {},
   "source": [
    "- For Cross-Validation, you need to get the accuracy of your model, in this case Random Forest and you also need to get the baseline accuracy.\n",
    "- Baseline accuracy simply means the most frequent class in my target variable which is `functional`.\n",
    "- Cross- Validation assess model performance and helps to validate whether your model is overfitting. \n",
    "- **If the model accuracy is higher than the baseline accuracy then the model is effective**"
   ]
  },
  {
   "cell_type": "code",
   "execution_count": 40,
   "metadata": {},
   "outputs": [
    {
     "name": "stdout",
     "output_type": "stream",
     "text": [
      "Random Forest Average Accuracy (CV): 0.6729396069236427\n",
      "Baseline Accuracy: 0.5316027088036117\n"
     ]
    }
   ],
   "source": [
    "# Define the number of folds (e.g., 10 folds)\n",
    "cv = 10\n",
    "\n",
    "# Evaluate the model using cross-validation\n",
    "rf_scores = cross_val_score(rf_model, X_train, y_train, cv=cv)\n",
    "\n",
    "# Print the average accuracy across folds\n",
    "print(f\"Random Forest Average Accuracy (CV): {rf_scores.mean()}\")\n",
    "\n",
    "\n",
    "# Count the occurrences of each class in the training data\n",
    "y_train_counts = Counter(y_train)\n",
    "\n",
    "# Find the most frequent class\n",
    "most_frequent_class = y_train_counts.most_common(1)[0][0]\n",
    "\n",
    "# Predict the most frequent class for all samples in the validation data\n",
    "y_pred_baseline = [most_frequent_class] * len(y_val)\n",
    "\n",
    "# Calculate the baseline accuracy\n",
    "baseline_accuracy = accuracy_score(y_val, y_pred_baseline)\n",
    "\n",
    "print(\"Baseline Accuracy:\", baseline_accuracy)"
   ]
  },
  {
   "cell_type": "markdown",
   "metadata": {},
   "source": [
    "> From the above I can tell that my model is effective and I can conclude that it is learning meaningful patterns from the data."
   ]
  },
  {
   "cell_type": "markdown",
   "metadata": {},
   "source": [
    "# 5. Evaluation"
   ]
  },
  {
   "cell_type": "markdown",
   "metadata": {},
   "source": [
    "#### Making Predictions on the Test Data"
   ]
  },
  {
   "cell_type": "code",
   "execution_count": 43,
   "metadata": {},
   "outputs": [
    {
     "name": "stdout",
     "output_type": "stream",
     "text": [
      "      id  predicted_status_group\n",
      "0  50785                       0\n",
      "1  51630                       0\n",
      "2  17168                       0\n",
      "3  45559                       2\n",
      "4  49871                       0\n",
      "0    8717\n",
      "2    5388\n",
      "1     445\n",
      "Name: predicted_status_group, dtype: int64\n"
     ]
    },
    {
     "data": {
      "image/png": "[encoded data removed]",
      "text/plain": [
       "<Figure size 576x432 with 1 Axes>"
      ]
     },
     "metadata": {
      "needs_background": "light"
     },
     "output_type": "display_data"
    }
   ],
   "source": [
    "# Prepare test features\n",
    "X_test = test_data[['funder_encoded', 'installer_encoded', 'scheme_management_encoded', 'permit_encoded', 'permit_missing', 'amount_tsh', 'population']]\n",
    "\n",
    "# Make predictions\n",
    "y_test_pred_rf = rf_model.predict(X_test)\n",
    "\n",
    "# Convert predictions to a DataFrame\n",
    "predictions_df = pd.DataFrame({\n",
    "    'id': test_data['id'],  # Ensure the test data contains the 'id' column\n",
    "    'predicted_status_group': y_test_pred_rf\n",
    "})\n",
    "\n",
    "# Display the first few rows of predictions\n",
    "print(predictions_df.head())\n",
    "\n",
    "# Check the distribution of predicted classes\n",
    "print(predictions_df['predicted_status_group'].value_counts())\n",
    "\n",
    "# Plot the distribution of predictions\n",
    "plt.figure(figsize=(8, 6))\n",
    "predictions_df['predicted_status_group'].value_counts().plot(kind='bar')\n",
    "plt.xlabel('Predicted Status Group')\n",
    "plt.ylabel('Count')\n",
    "plt.title('Distribution of Predictions by Status Group')\n",
    "plt.show()\n"
   ]
  },
  {
   "cell_type": "markdown",
   "metadata": {},
   "source": [
    "#### Feature Importance"
   ]
  },
  {
   "cell_type": "code",
   "execution_count": 45,
   "metadata": {},
   "outputs": [
    {
     "name": "stdout",
     "output_type": "stream",
     "text": [
      "                     Feature  Importance\n",
      "6                 population    0.343664\n",
      "0             funder_encoded    0.246288\n",
      "1          installer_encoded    0.194932\n",
      "5                 amount_tsh    0.116211\n",
      "2  scheme_management_encoded    0.081917\n",
      "3             permit_encoded    0.016987\n",
      "4             permit_missing    0.000000\n"
     ]
    }
   ],
   "source": [
    "importances = rf_model.feature_importances_\n",
    "feature_names = X.columns  # Assuming X is your feature DataFrame\n",
    "\n",
    "feature_importance_df = pd.DataFrame({\n",
    "    'Feature': feature_names,\n",
    "    'Importance': importances\n",
    "}).sort_values(by='Importance', ascending=False)\n",
    "\n",
    "print(feature_importance_df)"
   ]
  },
  {
   "cell_type": "markdown",
   "metadata": {},
   "source": [
    "# Conclusion"
   ]
  },
  {
   "cell_type": "markdown",
   "metadata": {},
   "source": [
    "#### 1. Top 3 Critical Factors Influencing Functionality of Water Pumps\n",
    ">1. **Population** : This is the most important feature, indicating that the population size near a wate pump has a significant impact on its functionality.\n",
    ">2. **Funders** : The organization or entity funding the pumps shows that there are funders that may have varying standards for pump quality and maintenance.\n",
    ">3. **Installers**: The company or individual who installed the pump shows that the quality of installation can greatly influence the pump's performance\n",
    "\n",
    "#### 2. The Role Construction Year Plays in its Current State Functionality\n",
    ">- `construction_year` shows a moderate correlation with `gps_height` and its `status_group`.\n",
    "> - This gives us an insight that would inform us that pumps built earlier might be more prone to failure This could inform us on the maintenance schedules.\n",
    "\n",
    "#### 3. Are there regions that show consistently have non functional or poorly performing water pumps?\n",
    ">- From the correlation between `region_code` and `district_code` with `status_group` suggests that certain areas might have more challenges, possibly due to environmental or management factors."
   ]
  },
  {
   "cell_type": "markdown",
   "metadata": {},
   "source": [
    "# Recommendations"
   ]
  },
  {
   "cell_type": "markdown",
   "metadata": {},
   "source": [
    ">- Focus on improving conditions in areas with large populations, ensuring proper installations by reliable contractors and scrutinizing the role of different funders in pump maintenance and quality\n",
    ">- Evaluate older installations of water pumps. Pumps installed in earlier years may require more frequent inspections and maintenance. Having scheduled could help in reducing pump failures.\n",
    ">- Pumps with low `amount_tsh` values are more likely to be non-functional or in need of repair. Maintenance teams should prioritize these pumps for inspection and potential repair."
   ]
  }
 ],
 "metadata": {
  "kernelspec": {
   "display_name": "learn-env",
   "language": "python",
   "name": "python3"
  },
  "language_info": {
   "codemirror_mode": {
    "name": "ipython",
    "version": 3
   },
   "file_extension": ".py",
   "mimetype": "text/x-python",
   "name": "python",
   "nbconvert_exporter": "python",
   "pygments_lexer": "ipython3",
   "version": "3.8.5"
  }
 },
 "nbformat": 4,
 "nbformat_minor": 2
}
